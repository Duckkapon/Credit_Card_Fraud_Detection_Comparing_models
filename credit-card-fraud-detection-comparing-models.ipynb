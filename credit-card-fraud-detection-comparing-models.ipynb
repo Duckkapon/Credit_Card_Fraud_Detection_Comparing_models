{
 "cells": [
  {
   "cell_type": "markdown",
   "id": "51b0bb3d",
   "metadata": {
    "_cell_guid": "eb7ff31e-7fd4-4380-9681-6a2d22b594ba",
    "_uuid": "07d6bc12-37f1-4df9-9b7c-2179ea34fbe1",
    "papermill": {
     "duration": 0.021357,
     "end_time": "2023-04-08T20:04:05.552270",
     "exception": false,
     "start_time": "2023-04-08T20:04:05.530913",
     "status": "completed"
    },
    "tags": []
   },
   "source": [
    "# About Dataset\n",
    "- Digital payments are evolving, but so are cyber criminals.\n",
    "\n",
    "- According to the Data Breach Index, more than 5 million records are being stolen on a daily basis, a concerning statistic that shows - fraud is still very common both for Card-Present and Card-not Present type of payments.\n",
    "\n",
    "- In today’s digital world where trillions of Card transaction happens per day, detection of fraud is challenging.\n",
    "\n",
    "**This Dataset sourced by some unnamed institute.**\n",
    "\n",
    "# Feature Explanation:\n",
    "\n",
    "- distance_from_home - the distance from home where the transaction happened.\n",
    "\n",
    "- distance_from_last_transaction - the distance from last transaction happened.\n",
    "\n",
    "- ratio_to_median_purchase_price - Ratio of purchased price transaction to median purchase price.\n",
    "\n",
    "- repeat_retailer - Is the transaction happened from same retailer.\n",
    "\n",
    "- used_chip - Is the transaction through chip (credit card).\n",
    "\n",
    "- used_pin_number - Is the transaction happened by using PIN number.\n",
    "\n",
    "- online_order - Is the transaction an online order.\n",
    "\n",
    "- fraud - Is the transaction fraudulent.\n",
    "\n",
    "**Ref : https://www.kaggle.com/datasets/dhanushnarayananr/credit-card-fraud**"
   ]
  },
  {
   "cell_type": "markdown",
   "id": "7b9702ec",
   "metadata": {
    "_cell_guid": "f7ab7203-3c84-4dad-8f28-071d09f23e81",
    "_uuid": "cb85185e-5851-4a97-b22a-261bce3a660d",
    "papermill": {
     "duration": 0.020762,
     "end_time": "2023-04-08T20:04:05.592532",
     "exception": false,
     "start_time": "2023-04-08T20:04:05.571770",
     "status": "completed"
    },
    "tags": []
   },
   "source": [
    "# Get data"
   ]
  },
  {
   "cell_type": "code",
   "execution_count": 1,
   "id": "29abee06",
   "metadata": {
    "_cell_guid": "d435c2b7-a0b3-45c9-966e-b09160e0ccc7",
    "_uuid": "5354ae86-c552-446a-bb8c-084ce605980a",
    "collapsed": false,
    "execution": {
     "iopub.execute_input": "2023-04-08T20:04:05.633268Z",
     "iopub.status.busy": "2023-04-08T20:04:05.632884Z",
     "iopub.status.idle": "2023-04-08T20:04:07.096526Z",
     "shell.execute_reply": "2023-04-08T20:04:07.095272Z"
    },
    "jupyter": {
     "outputs_hidden": false
    },
    "papermill": {
     "duration": 1.487569,
     "end_time": "2023-04-08T20:04:07.099509",
     "exception": false,
     "start_time": "2023-04-08T20:04:05.611940",
     "status": "completed"
    },
    "tags": []
   },
   "outputs": [],
   "source": [
    "import pandas as pd\n",
    "import matplotlib.pyplot as plt\n",
    "import numpy as np\n",
    "import seaborn as sns\n",
    "\n",
    "from sklearn.linear_model import LinearRegression"
   ]
  },
  {
   "cell_type": "code",
   "execution_count": 2,
   "id": "ab836279",
   "metadata": {
    "_cell_guid": "5fd53933-f9be-4b05-94f6-1965f0892711",
    "_uuid": "073a0771-7e27-4803-be90-6b1fb7891596",
    "collapsed": false,
    "execution": {
     "iopub.execute_input": "2023-04-08T20:04:07.140606Z",
     "iopub.status.busy": "2023-04-08T20:04:07.139792Z",
     "iopub.status.idle": "2023-04-08T20:04:09.471706Z",
     "shell.execute_reply": "2023-04-08T20:04:09.470536Z"
    },
    "jupyter": {
     "outputs_hidden": false
    },
    "papermill": {
     "duration": 2.355795,
     "end_time": "2023-04-08T20:04:09.475036",
     "exception": false,
     "start_time": "2023-04-08T20:04:07.119241",
     "status": "completed"
    },
    "tags": []
   },
   "outputs": [
    {
     "data": {
      "text/html": [
       "<div>\n",
       "<style scoped>\n",
       "    .dataframe tbody tr th:only-of-type {\n",
       "        vertical-align: middle;\n",
       "    }\n",
       "\n",
       "    .dataframe tbody tr th {\n",
       "        vertical-align: top;\n",
       "    }\n",
       "\n",
       "    .dataframe thead th {\n",
       "        text-align: right;\n",
       "    }\n",
       "</style>\n",
       "<table border=\"1\" class=\"dataframe\">\n",
       "  <thead>\n",
       "    <tr style=\"text-align: right;\">\n",
       "      <th></th>\n",
       "      <th>distance_from_home</th>\n",
       "      <th>distance_from_last_transaction</th>\n",
       "      <th>ratio_to_median_purchase_price</th>\n",
       "      <th>repeat_retailer</th>\n",
       "      <th>used_chip</th>\n",
       "      <th>used_pin_number</th>\n",
       "      <th>online_order</th>\n",
       "      <th>fraud</th>\n",
       "    </tr>\n",
       "  </thead>\n",
       "  <tbody>\n",
       "    <tr>\n",
       "      <th>0</th>\n",
       "      <td>57.877857</td>\n",
       "      <td>0.311140</td>\n",
       "      <td>1.945940</td>\n",
       "      <td>1.0</td>\n",
       "      <td>1.0</td>\n",
       "      <td>0.0</td>\n",
       "      <td>0.0</td>\n",
       "      <td>0.0</td>\n",
       "    </tr>\n",
       "    <tr>\n",
       "      <th>1</th>\n",
       "      <td>10.829943</td>\n",
       "      <td>0.175592</td>\n",
       "      <td>1.294219</td>\n",
       "      <td>1.0</td>\n",
       "      <td>0.0</td>\n",
       "      <td>0.0</td>\n",
       "      <td>0.0</td>\n",
       "      <td>0.0</td>\n",
       "    </tr>\n",
       "    <tr>\n",
       "      <th>2</th>\n",
       "      <td>5.091079</td>\n",
       "      <td>0.805153</td>\n",
       "      <td>0.427715</td>\n",
       "      <td>1.0</td>\n",
       "      <td>0.0</td>\n",
       "      <td>0.0</td>\n",
       "      <td>1.0</td>\n",
       "      <td>0.0</td>\n",
       "    </tr>\n",
       "    <tr>\n",
       "      <th>3</th>\n",
       "      <td>2.247564</td>\n",
       "      <td>5.600044</td>\n",
       "      <td>0.362663</td>\n",
       "      <td>1.0</td>\n",
       "      <td>1.0</td>\n",
       "      <td>0.0</td>\n",
       "      <td>1.0</td>\n",
       "      <td>0.0</td>\n",
       "    </tr>\n",
       "    <tr>\n",
       "      <th>4</th>\n",
       "      <td>44.190936</td>\n",
       "      <td>0.566486</td>\n",
       "      <td>2.222767</td>\n",
       "      <td>1.0</td>\n",
       "      <td>1.0</td>\n",
       "      <td>0.0</td>\n",
       "      <td>1.0</td>\n",
       "      <td>0.0</td>\n",
       "    </tr>\n",
       "    <tr>\n",
       "      <th>...</th>\n",
       "      <td>...</td>\n",
       "      <td>...</td>\n",
       "      <td>...</td>\n",
       "      <td>...</td>\n",
       "      <td>...</td>\n",
       "      <td>...</td>\n",
       "      <td>...</td>\n",
       "      <td>...</td>\n",
       "    </tr>\n",
       "    <tr>\n",
       "      <th>999995</th>\n",
       "      <td>2.207101</td>\n",
       "      <td>0.112651</td>\n",
       "      <td>1.626798</td>\n",
       "      <td>1.0</td>\n",
       "      <td>1.0</td>\n",
       "      <td>0.0</td>\n",
       "      <td>0.0</td>\n",
       "      <td>0.0</td>\n",
       "    </tr>\n",
       "    <tr>\n",
       "      <th>999996</th>\n",
       "      <td>19.872726</td>\n",
       "      <td>2.683904</td>\n",
       "      <td>2.778303</td>\n",
       "      <td>1.0</td>\n",
       "      <td>1.0</td>\n",
       "      <td>0.0</td>\n",
       "      <td>0.0</td>\n",
       "      <td>0.0</td>\n",
       "    </tr>\n",
       "    <tr>\n",
       "      <th>999997</th>\n",
       "      <td>2.914857</td>\n",
       "      <td>1.472687</td>\n",
       "      <td>0.218075</td>\n",
       "      <td>1.0</td>\n",
       "      <td>1.0</td>\n",
       "      <td>0.0</td>\n",
       "      <td>1.0</td>\n",
       "      <td>0.0</td>\n",
       "    </tr>\n",
       "    <tr>\n",
       "      <th>999998</th>\n",
       "      <td>4.258729</td>\n",
       "      <td>0.242023</td>\n",
       "      <td>0.475822</td>\n",
       "      <td>1.0</td>\n",
       "      <td>0.0</td>\n",
       "      <td>0.0</td>\n",
       "      <td>1.0</td>\n",
       "      <td>0.0</td>\n",
       "    </tr>\n",
       "    <tr>\n",
       "      <th>999999</th>\n",
       "      <td>58.108125</td>\n",
       "      <td>0.318110</td>\n",
       "      <td>0.386920</td>\n",
       "      <td>1.0</td>\n",
       "      <td>1.0</td>\n",
       "      <td>0.0</td>\n",
       "      <td>1.0</td>\n",
       "      <td>0.0</td>\n",
       "    </tr>\n",
       "  </tbody>\n",
       "</table>\n",
       "<p>1000000 rows × 8 columns</p>\n",
       "</div>"
      ],
      "text/plain": [
       "        distance_from_home  distance_from_last_transaction  \\\n",
       "0                57.877857                        0.311140   \n",
       "1                10.829943                        0.175592   \n",
       "2                 5.091079                        0.805153   \n",
       "3                 2.247564                        5.600044   \n",
       "4                44.190936                        0.566486   \n",
       "...                    ...                             ...   \n",
       "999995            2.207101                        0.112651   \n",
       "999996           19.872726                        2.683904   \n",
       "999997            2.914857                        1.472687   \n",
       "999998            4.258729                        0.242023   \n",
       "999999           58.108125                        0.318110   \n",
       "\n",
       "        ratio_to_median_purchase_price  repeat_retailer  used_chip  \\\n",
       "0                             1.945940              1.0        1.0   \n",
       "1                             1.294219              1.0        0.0   \n",
       "2                             0.427715              1.0        0.0   \n",
       "3                             0.362663              1.0        1.0   \n",
       "4                             2.222767              1.0        1.0   \n",
       "...                                ...              ...        ...   \n",
       "999995                        1.626798              1.0        1.0   \n",
       "999996                        2.778303              1.0        1.0   \n",
       "999997                        0.218075              1.0        1.0   \n",
       "999998                        0.475822              1.0        0.0   \n",
       "999999                        0.386920              1.0        1.0   \n",
       "\n",
       "        used_pin_number  online_order  fraud  \n",
       "0                   0.0           0.0    0.0  \n",
       "1                   0.0           0.0    0.0  \n",
       "2                   0.0           1.0    0.0  \n",
       "3                   0.0           1.0    0.0  \n",
       "4                   0.0           1.0    0.0  \n",
       "...                 ...           ...    ...  \n",
       "999995              0.0           0.0    0.0  \n",
       "999996              0.0           0.0    0.0  \n",
       "999997              0.0           1.0    0.0  \n",
       "999998              0.0           1.0    0.0  \n",
       "999999              0.0           1.0    0.0  \n",
       "\n",
       "[1000000 rows x 8 columns]"
      ]
     },
     "execution_count": 2,
     "metadata": {},
     "output_type": "execute_result"
    }
   ],
   "source": [
    "transdata = pd.read_csv(\"/kaggle/input/credit-card-fraud/card_transdata.csv\")\n",
    "transdata"
   ]
  },
  {
   "cell_type": "markdown",
   "id": "6b26f3a6",
   "metadata": {
    "_cell_guid": "784fafbc-6bee-426a-87ad-f619d2625fe1",
    "_uuid": "4e5ec64b-6d2d-4ef2-b380-d8e33af4f346",
    "papermill": {
     "duration": 0.019527,
     "end_time": "2023-04-08T20:04:09.514975",
     "exception": false,
     "start_time": "2023-04-08T20:04:09.495448",
     "status": "completed"
    },
    "tags": []
   },
   "source": [
    "# Exploratory data analysis and Preprocessing"
   ]
  },
  {
   "cell_type": "code",
   "execution_count": 3,
   "id": "5e493bb8",
   "metadata": {
    "_cell_guid": "169da8e6-b7cb-4d50-bb38-b71bacdaffcc",
    "_uuid": "9faf0b72-38be-4486-93b9-2813d9273956",
    "collapsed": false,
    "execution": {
     "iopub.execute_input": "2023-04-08T20:04:09.557085Z",
     "iopub.status.busy": "2023-04-08T20:04:09.555879Z",
     "iopub.status.idle": "2023-04-08T20:04:09.635912Z",
     "shell.execute_reply": "2023-04-08T20:04:09.634505Z"
    },
    "jupyter": {
     "outputs_hidden": false
    },
    "papermill": {
     "duration": 0.103668,
     "end_time": "2023-04-08T20:04:09.638335",
     "exception": false,
     "start_time": "2023-04-08T20:04:09.534667",
     "status": "completed"
    },
    "tags": []
   },
   "outputs": [
    {
     "name": "stdout",
     "output_type": "stream",
     "text": [
      "<class 'pandas.core.frame.DataFrame'>\n",
      "RangeIndex: 1000000 entries, 0 to 999999\n",
      "Data columns (total 8 columns):\n",
      " #   Column                          Non-Null Count    Dtype  \n",
      "---  ------                          --------------    -----  \n",
      " 0   distance_from_home              1000000 non-null  float64\n",
      " 1   distance_from_last_transaction  1000000 non-null  float64\n",
      " 2   ratio_to_median_purchase_price  1000000 non-null  float64\n",
      " 3   repeat_retailer                 1000000 non-null  float64\n",
      " 4   used_chip                       1000000 non-null  float64\n",
      " 5   used_pin_number                 1000000 non-null  float64\n",
      " 6   online_order                    1000000 non-null  float64\n",
      " 7   fraud                           1000000 non-null  float64\n",
      "dtypes: float64(8)\n",
      "memory usage: 61.0 MB\n"
     ]
    },
    {
     "data": {
      "text/plain": [
       "((1000000, 8), None)"
      ]
     },
     "execution_count": 3,
     "metadata": {},
     "output_type": "execute_result"
    }
   ],
   "source": [
    "df = transdata.copy()\n",
    "df.shape, df.info()"
   ]
  },
  {
   "cell_type": "markdown",
   "id": "ab57e914",
   "metadata": {
    "_cell_guid": "58efa21a-602e-4755-b153-4ea9631f1165",
    "_uuid": "8fb5295f-3e3a-4a42-95f4-09a346280c9c",
    "papermill": {
     "duration": 0.019637,
     "end_time": "2023-04-08T20:04:09.678936",
     "exception": false,
     "start_time": "2023-04-08T20:04:09.659299",
     "status": "completed"
    },
    "tags": []
   },
   "source": [
    "ดูสถิติเบื้องต้น ก็ปกติไม่มีค่าอะไรแปลก ๆ หรือติดลบ"
   ]
  },
  {
   "cell_type": "code",
   "execution_count": 4,
   "id": "ef6dd5ed",
   "metadata": {
    "_cell_guid": "cec85e7f-89b5-442b-a24d-fa6579113493",
    "_uuid": "f8124a0b-14f6-4290-8423-c57165bbc32b",
    "collapsed": false,
    "execution": {
     "iopub.execute_input": "2023-04-08T20:04:09.720705Z",
     "iopub.status.busy": "2023-04-08T20:04:09.720249Z",
     "iopub.status.idle": "2023-04-08T20:04:10.129587Z",
     "shell.execute_reply": "2023-04-08T20:04:10.128365Z"
    },
    "jupyter": {
     "outputs_hidden": false
    },
    "papermill": {
     "duration": 0.433275,
     "end_time": "2023-04-08T20:04:10.132077",
     "exception": false,
     "start_time": "2023-04-08T20:04:09.698802",
     "status": "completed"
    },
    "tags": []
   },
   "outputs": [
    {
     "data": {
      "text/html": [
       "<div>\n",
       "<style scoped>\n",
       "    .dataframe tbody tr th:only-of-type {\n",
       "        vertical-align: middle;\n",
       "    }\n",
       "\n",
       "    .dataframe tbody tr th {\n",
       "        vertical-align: top;\n",
       "    }\n",
       "\n",
       "    .dataframe thead th {\n",
       "        text-align: right;\n",
       "    }\n",
       "</style>\n",
       "<table border=\"1\" class=\"dataframe\">\n",
       "  <thead>\n",
       "    <tr style=\"text-align: right;\">\n",
       "      <th></th>\n",
       "      <th>distance_from_home</th>\n",
       "      <th>distance_from_last_transaction</th>\n",
       "      <th>ratio_to_median_purchase_price</th>\n",
       "      <th>repeat_retailer</th>\n",
       "      <th>used_chip</th>\n",
       "      <th>used_pin_number</th>\n",
       "      <th>online_order</th>\n",
       "      <th>fraud</th>\n",
       "    </tr>\n",
       "  </thead>\n",
       "  <tbody>\n",
       "    <tr>\n",
       "      <th>count</th>\n",
       "      <td>1000000.000000</td>\n",
       "      <td>1000000.000000</td>\n",
       "      <td>1000000.000000</td>\n",
       "      <td>1000000.000000</td>\n",
       "      <td>1000000.000000</td>\n",
       "      <td>1000000.000000</td>\n",
       "      <td>1000000.000000</td>\n",
       "      <td>1000000.000000</td>\n",
       "    </tr>\n",
       "    <tr>\n",
       "      <th>mean</th>\n",
       "      <td>26.628792</td>\n",
       "      <td>5.036519</td>\n",
       "      <td>1.824182</td>\n",
       "      <td>0.881536</td>\n",
       "      <td>0.350399</td>\n",
       "      <td>0.100608</td>\n",
       "      <td>0.650552</td>\n",
       "      <td>0.087403</td>\n",
       "    </tr>\n",
       "    <tr>\n",
       "      <th>std</th>\n",
       "      <td>65.390784</td>\n",
       "      <td>25.843093</td>\n",
       "      <td>2.799589</td>\n",
       "      <td>0.323157</td>\n",
       "      <td>0.477095</td>\n",
       "      <td>0.300809</td>\n",
       "      <td>0.476796</td>\n",
       "      <td>0.282425</td>\n",
       "    </tr>\n",
       "    <tr>\n",
       "      <th>min</th>\n",
       "      <td>0.004874</td>\n",
       "      <td>0.000118</td>\n",
       "      <td>0.004399</td>\n",
       "      <td>0.000000</td>\n",
       "      <td>0.000000</td>\n",
       "      <td>0.000000</td>\n",
       "      <td>0.000000</td>\n",
       "      <td>0.000000</td>\n",
       "    </tr>\n",
       "    <tr>\n",
       "      <th>25%</th>\n",
       "      <td>3.878008</td>\n",
       "      <td>0.296671</td>\n",
       "      <td>0.475673</td>\n",
       "      <td>1.000000</td>\n",
       "      <td>0.000000</td>\n",
       "      <td>0.000000</td>\n",
       "      <td>0.000000</td>\n",
       "      <td>0.000000</td>\n",
       "    </tr>\n",
       "    <tr>\n",
       "      <th>50%</th>\n",
       "      <td>9.967760</td>\n",
       "      <td>0.998650</td>\n",
       "      <td>0.997717</td>\n",
       "      <td>1.000000</td>\n",
       "      <td>0.000000</td>\n",
       "      <td>0.000000</td>\n",
       "      <td>1.000000</td>\n",
       "      <td>0.000000</td>\n",
       "    </tr>\n",
       "    <tr>\n",
       "      <th>75%</th>\n",
       "      <td>25.743985</td>\n",
       "      <td>3.355748</td>\n",
       "      <td>2.096370</td>\n",
       "      <td>1.000000</td>\n",
       "      <td>1.000000</td>\n",
       "      <td>0.000000</td>\n",
       "      <td>1.000000</td>\n",
       "      <td>0.000000</td>\n",
       "    </tr>\n",
       "    <tr>\n",
       "      <th>max</th>\n",
       "      <td>10632.723672</td>\n",
       "      <td>11851.104565</td>\n",
       "      <td>267.802942</td>\n",
       "      <td>1.000000</td>\n",
       "      <td>1.000000</td>\n",
       "      <td>1.000000</td>\n",
       "      <td>1.000000</td>\n",
       "      <td>1.000000</td>\n",
       "    </tr>\n",
       "  </tbody>\n",
       "</table>\n",
       "</div>"
      ],
      "text/plain": [
       "       distance_from_home  distance_from_last_transaction  \\\n",
       "count      1000000.000000                  1000000.000000   \n",
       "mean            26.628792                        5.036519   \n",
       "std             65.390784                       25.843093   \n",
       "min              0.004874                        0.000118   \n",
       "25%              3.878008                        0.296671   \n",
       "50%              9.967760                        0.998650   \n",
       "75%             25.743985                        3.355748   \n",
       "max          10632.723672                    11851.104565   \n",
       "\n",
       "       ratio_to_median_purchase_price  repeat_retailer       used_chip  \\\n",
       "count                  1000000.000000   1000000.000000  1000000.000000   \n",
       "mean                         1.824182         0.881536        0.350399   \n",
       "std                          2.799589         0.323157        0.477095   \n",
       "min                          0.004399         0.000000        0.000000   \n",
       "25%                          0.475673         1.000000        0.000000   \n",
       "50%                          0.997717         1.000000        0.000000   \n",
       "75%                          2.096370         1.000000        1.000000   \n",
       "max                        267.802942         1.000000        1.000000   \n",
       "\n",
       "       used_pin_number    online_order           fraud  \n",
       "count   1000000.000000  1000000.000000  1000000.000000  \n",
       "mean          0.100608        0.650552        0.087403  \n",
       "std           0.300809        0.476796        0.282425  \n",
       "min           0.000000        0.000000        0.000000  \n",
       "25%           0.000000        0.000000        0.000000  \n",
       "50%           0.000000        1.000000        0.000000  \n",
       "75%           0.000000        1.000000        0.000000  \n",
       "max           1.000000        1.000000        1.000000  "
      ]
     },
     "execution_count": 4,
     "metadata": {},
     "output_type": "execute_result"
    }
   ],
   "source": [
    "df.describe()"
   ]
  },
  {
   "cell_type": "markdown",
   "id": "b4b88bca",
   "metadata": {
    "_cell_guid": "8ff2b81c-b732-4a50-9b11-3ef033e7dc18",
    "_uuid": "99d4a81c-ed77-474d-b7be-c8644fe3b2e3",
    "papermill": {
     "duration": 0.020219,
     "end_time": "2023-04-08T20:04:10.173316",
     "exception": false,
     "start_time": "2023-04-08T20:04:10.153097",
     "status": "completed"
    },
    "tags": []
   },
   "source": [
    "ไม่มีปัญหา multicollinearity -> logistic regression"
   ]
  },
  {
   "cell_type": "code",
   "execution_count": 5,
   "id": "9c79a10a",
   "metadata": {
    "_cell_guid": "cc6fed6d-e408-41e8-b5de-9414638f79a3",
    "_uuid": "a6f71266-37d1-41ae-96c7-2156db44775d",
    "collapsed": false,
    "execution": {
     "iopub.execute_input": "2023-04-08T20:04:10.215861Z",
     "iopub.status.busy": "2023-04-08T20:04:10.215440Z",
     "iopub.status.idle": "2023-04-08T20:04:11.028552Z",
     "shell.execute_reply": "2023-04-08T20:04:11.027640Z"
    },
    "jupyter": {
     "outputs_hidden": false
    },
    "papermill": {
     "duration": 0.837183,
     "end_time": "2023-04-08T20:04:11.030861",
     "exception": false,
     "start_time": "2023-04-08T20:04:10.193678",
     "status": "completed"
    },
    "tags": []
   },
   "outputs": [
    {
     "data": {
      "text/plain": [
       "<AxesSubplot:>"
      ]
     },
     "execution_count": 5,
     "metadata": {},
     "output_type": "execute_result"
    },
    {
     "data": {
      "image/png": "[encoded data removed]",
      "text/plain": [
       "<Figure size 640x480 with 2 Axes>"
      ]
     },
     "metadata": {},
     "output_type": "display_data"
    }
   ],
   "source": [
    "corr = df.corr().abs()\n",
    "mask = np.triu(np.ones_like(corr, dtype=bool))\n",
    "sns.heatmap(corr, annot=True, fmt=\".2f\", linewidths=.5, mask=mask, robust=True)"
   ]
  },
  {
   "cell_type": "markdown",
   "id": "2f497bc4",
   "metadata": {
    "_cell_guid": "222e7a3f-1c54-4823-bd37-ea9c42451c44",
    "_uuid": "a32eb120-fdcb-4923-87cb-20730ec6c2a0",
    "papermill": {
     "duration": 0.021521,
     "end_time": "2023-04-08T20:04:11.074157",
     "exception": false,
     "start_time": "2023-04-08T20:04:11.052636",
     "status": "completed"
    },
    "tags": []
   },
   "source": [
    "## Transformation"
   ]
  },
  {
   "cell_type": "markdown",
   "id": "d2693b23",
   "metadata": {
    "_cell_guid": "5a80138c-2071-470b-9eb7-d23e5e8627b1",
    "_uuid": "2fdd7523-2e92-43f2-b60c-40bcd88d0a87",
    "papermill": {
     "duration": 0.021057,
     "end_time": "2023-04-08T20:04:11.117113",
     "exception": false,
     "start_time": "2023-04-08T20:04:11.096056",
     "status": "completed"
    },
    "tags": []
   },
   "source": [
    "Before"
   ]
  },
  {
   "cell_type": "code",
   "execution_count": 6,
   "id": "154531f8",
   "metadata": {
    "_cell_guid": "477066f9-dce9-44b0-8839-41b603585722",
    "_uuid": "6b4d08a6-85d2-4b73-9b61-59eb4ac88a02",
    "collapsed": false,
    "execution": {
     "iopub.execute_input": "2023-04-08T20:04:11.161665Z",
     "iopub.status.busy": "2023-04-08T20:04:11.161243Z",
     "iopub.status.idle": "2023-04-08T20:04:12.193513Z",
     "shell.execute_reply": "2023-04-08T20:04:12.192533Z"
    },
    "jupyter": {
     "outputs_hidden": false
    },
    "papermill": {
     "duration": 1.057414,
     "end_time": "2023-04-08T20:04:12.195731",
     "exception": false,
     "start_time": "2023-04-08T20:04:11.138317",
     "status": "completed"
    },
    "tags": []
   },
   "outputs": [
    {
     "data": {
      "image/png": "[encoded data removed]",
      "text/plain": [
       "<Figure size 640x480 with 3 Axes>"
      ]
     },
     "metadata": {},
     "output_type": "display_data"
    }
   ],
   "source": [
    "cols_num = [\"distance_from_home\", \"distance_from_last_transaction\", \"ratio_to_median_purchase_price\"]\n",
    "fig, axs = plt.subplots(3,1, constrained_layout=True)\n",
    "i = 0\n",
    "for col in cols_num :\n",
    "    axs[i].hist(df[col], bins=100)\n",
    "    axs[i].set_title(col)\n",
    "    i += 1\n",
    "plt.show()"
   ]
  },
  {
   "cell_type": "markdown",
   "id": "5aa3b244",
   "metadata": {
    "_cell_guid": "3cfb38bb-87e9-4246-842f-ecc2527e2794",
    "_uuid": "c4dade18-5699-434b-97aa-911fd5708527",
    "papermill": {
     "duration": 0.021493,
     "end_time": "2023-04-08T20:04:12.239366",
     "exception": false,
     "start_time": "2023-04-08T20:04:12.217873",
     "status": "completed"
    },
    "tags": []
   },
   "source": [
    "After log transformation"
   ]
  },
  {
   "cell_type": "code",
   "execution_count": 7,
   "id": "7aa7f16c",
   "metadata": {
    "_cell_guid": "5353ca3c-bbb0-45d7-b6d4-4254bf123797",
    "_uuid": "a8c341c3-4e9f-41c9-a8dc-c89207678c88",
    "collapsed": false,
    "execution": {
     "iopub.execute_input": "2023-04-08T20:04:12.285154Z",
     "iopub.status.busy": "2023-04-08T20:04:12.284723Z",
     "iopub.status.idle": "2023-04-08T20:04:13.491813Z",
     "shell.execute_reply": "2023-04-08T20:04:13.490527Z"
    },
    "jupyter": {
     "outputs_hidden": false
    },
    "papermill": {
     "duration": 1.233185,
     "end_time": "2023-04-08T20:04:13.494681",
     "exception": false,
     "start_time": "2023-04-08T20:04:12.261496",
     "status": "completed"
    },
    "tags": []
   },
   "outputs": [
    {
     "data": {
      "image/png": "[encoded data removed]",
      "text/plain": [
       "<Figure size 640x480 with 3 Axes>"
      ]
     },
     "metadata": {},
     "output_type": "display_data"
    }
   ],
   "source": [
    "cols_num = [\"distance_from_home\", \"distance_from_last_transaction\", \"ratio_to_median_purchase_price\"]\n",
    "\n",
    "for col in cols_num :\n",
    "    df[f\"{col}_log\"] = np.log(df[col])\n",
    "\n",
    "fig, axs = plt.subplots(3,1, constrained_layout=True)\n",
    "i = 0\n",
    "for col in cols_num :\n",
    "    axs[i].hist(df[f\"{col}_log\"], bins=100)\n",
    "    axs[i].set_title(f\"{col}_log\")\n",
    "    i += 1\n",
    "plt.show()"
   ]
  },
  {
   "cell_type": "markdown",
   "id": "a92ff7d8",
   "metadata": {
    "_cell_guid": "9ebd1c18-f3cd-4c67-96b2-919dfb2a5927",
    "_uuid": "af23c71e-0ca8-451a-a282-19ad05f8bdf7",
    "papermill": {
     "duration": 0.022272,
     "end_time": "2023-04-08T20:04:13.539946",
     "exception": false,
     "start_time": "2023-04-08T20:04:13.517674",
     "status": "completed"
    },
    "tags": []
   },
   "source": [
    "## Handling outlier"
   ]
  },
  {
   "cell_type": "code",
   "execution_count": 8,
   "id": "6c481477",
   "metadata": {
    "_cell_guid": "b88cd6f5-5f11-40c7-b924-14ebe2cb23b7",
    "_uuid": "6782ccc5-9618-4c49-8354-e7d6518dc820",
    "collapsed": false,
    "execution": {
     "iopub.execute_input": "2023-04-08T20:04:13.588773Z",
     "iopub.status.busy": "2023-04-08T20:04:13.588330Z",
     "iopub.status.idle": "2023-04-08T20:04:14.144316Z",
     "shell.execute_reply": "2023-04-08T20:04:14.143131Z"
    },
    "jupyter": {
     "outputs_hidden": false
    },
    "papermill": {
     "duration": 0.583455,
     "end_time": "2023-04-08T20:04:14.146994",
     "exception": false,
     "start_time": "2023-04-08T20:04:13.563539",
     "status": "completed"
    },
    "tags": []
   },
   "outputs": [
    {
     "data": {
      "image/png": "[encoded data removed]",
      "text/plain": [
       "<Figure size 1000x400 with 3 Axes>"
      ]
     },
     "metadata": {},
     "output_type": "display_data"
    }
   ],
   "source": [
    "cols_num = [\"distance_from_home\", \"distance_from_last_transaction\", \"ratio_to_median_purchase_price\"]\n",
    "fig, axs = plt.subplots(1, 3, figsize=(10, 4), constrained_layout=True)\n",
    "i = 0\n",
    "for col in cols_num :\n",
    "    axs[i].boxplot(df[f\"{col}_log\"])\n",
    "    axs[i].set_title(f\"{col}_log\")\n",
    "    i += 1\n",
    "plt.show()"
   ]
  },
  {
   "cell_type": "markdown",
   "id": "9e080864",
   "metadata": {
    "_cell_guid": "20a47569-b5bd-4f49-85f6-2b8056f015a5",
    "_uuid": "0245e8ea-15f5-4ee3-ad61-fe2ce1b6eda4",
    "papermill": {
     "duration": 0.022996,
     "end_time": "2023-04-08T20:04:14.193554",
     "exception": false,
     "start_time": "2023-04-08T20:04:14.170558",
     "status": "completed"
    },
    "tags": []
   },
   "source": [
    "outlier ค่อนข้างเยอะ -> แต่จะไม่จัดการเพราะมีผลในการ detact fraud"
   ]
  },
  {
   "cell_type": "code",
   "execution_count": 9,
   "id": "b0476e2e",
   "metadata": {
    "_cell_guid": "b7c9edee-71fb-4233-aeae-a36622453f77",
    "_uuid": "f142e58d-5399-4457-bcff-65917bf90515",
    "collapsed": false,
    "execution": {
     "iopub.execute_input": "2023-04-08T20:04:14.242183Z",
     "iopub.status.busy": "2023-04-08T20:04:14.241666Z",
     "iopub.status.idle": "2023-04-08T20:04:14.352763Z",
     "shell.execute_reply": "2023-04-08T20:04:14.351483Z"
    },
    "jupyter": {
     "outputs_hidden": false
    },
    "papermill": {
     "duration": 0.138896,
     "end_time": "2023-04-08T20:04:14.355683",
     "exception": false,
     "start_time": "2023-04-08T20:04:14.216787",
     "status": "completed"
    },
    "tags": []
   },
   "outputs": [
    {
     "data": {
      "text/plain": [
       "0.4221556886227545"
      ]
     },
     "execution_count": 9,
     "metadata": {},
     "output_type": "execute_result"
    }
   ],
   "source": [
    "# lower = df[\"distance_from_home_log\"].mean() - (3 * df[\"distance_from_home_log\"].std())\n",
    "upper = df[\"distance_from_home_log\"].mean() + (3 * df[\"distance_from_home_log\"].std())\n",
    "mask = (df[\"distance_from_home_log\"] > upper)\n",
    "df[mask][\"fraud\"].mean()"
   ]
  },
  {
   "cell_type": "markdown",
   "id": "36d73ec6",
   "metadata": {
    "_cell_guid": "60a81d94-6244-42b1-8ab4-ecaf1566c2b4",
    "_uuid": "d6cf14bc-e648-4c29-8982-b24f0fa8345e",
    "papermill": {
     "duration": 0.023827,
     "end_time": "2023-04-08T20:04:14.404660",
     "exception": false,
     "start_time": "2023-04-08T20:04:14.380833",
     "status": "completed"
    },
    "tags": []
   },
   "source": [
    "จะเห็นว่าถ้าลบ outlier ออกไป -> ในจำนวนที่ลบไปนั้นมี fraud ถึง 42.21 % เลยทีเดียว"
   ]
  },
  {
   "cell_type": "code",
   "execution_count": 10,
   "id": "1946188a",
   "metadata": {
    "_cell_guid": "e8772863-a9b1-4a99-a4c5-388c5bfd94b2",
    "_uuid": "b1daa653-e496-4e64-8ef4-0781ac1849bd",
    "collapsed": false,
    "execution": {
     "iopub.execute_input": "2023-04-08T20:04:14.454936Z",
     "iopub.status.busy": "2023-04-08T20:04:14.454075Z",
     "iopub.status.idle": "2023-04-08T20:04:15.246826Z",
     "shell.execute_reply": "2023-04-08T20:04:15.245909Z"
    },
    "jupyter": {
     "outputs_hidden": false
    },
    "papermill": {
     "duration": 0.820105,
     "end_time": "2023-04-08T20:04:15.249151",
     "exception": false,
     "start_time": "2023-04-08T20:04:14.429046",
     "status": "completed"
    },
    "tags": []
   },
   "outputs": [
    {
     "data": {
      "image/png": "[encoded data removed]",
      "text/plain": [
       "<Figure size 1000x400 with 3 Axes>"
      ]
     },
     "metadata": {},
     "output_type": "display_data"
    }
   ],
   "source": [
    "cols_num = [\"distance_from_home\", \"distance_from_last_transaction\", \"ratio_to_median_purchase_price\"]\n",
    "fig, axs = plt.subplots(1, 3, figsize=(10, 4), constrained_layout=True)\n",
    "i = 0\n",
    "for col in cols_num :\n",
    "    boxplot = df[df[\"fraud\"] == 0][f\"{col}_log\"], df[df[\"fraud\"] == 1][f\"{col}_log\"]\n",
    "    axs[i].boxplot(boxplot, labels=[\"0\", \"1\"])\n",
    "    axs[i].set_title(f\"{col}_log\")\n",
    "    i += 1\n",
    "plt.show()"
   ]
  },
  {
   "cell_type": "markdown",
   "id": "1d7714c4",
   "metadata": {
    "_cell_guid": "7bdac7be-205d-4991-9a15-4511704e1885",
    "_uuid": "e43cab4c-0483-41cc-be80-35d362a85d8c",
    "papermill": {
     "duration": 0.023709,
     "end_time": "2023-04-08T20:04:15.297296",
     "exception": false,
     "start_time": "2023-04-08T20:04:15.273587",
     "status": "completed"
    },
    "tags": []
   },
   "source": [
    "- distance_from_home : จะเห็นว่ารายการที่ fraud (1) จะมีช่วงที่กว้างกว่า **ดังนั้น** รายการที่เกิดขึ้นในระยะทางที่ไกลจากบ้านก็อาจจะเป็น fraud สูง\n",
    "\n",
    "- distance_from_last_transaction : ไม่มีความแตกต่างในทั้งรายการที่ fraud (1) และรายการปกติ (0) **ดังนั้น** ไม่ว่ารายการนั้นจะเกิดขึ้นใกล้หรือไกลจากรายการล่าลุด ก็สามารถเป็นรายการ fraud ได้หมด\n",
    "\n",
    "- ratio_to_median_purchase_price : รายการที่เป็น fraud จะมีค่าเฉลี่ยสูงกว่ารายการปกติ ซึ่งหมายความว่ารายการที่เป็น fraud จะมียอดซื้อที่สูงกว่าค่า median"
   ]
  },
  {
   "cell_type": "code",
   "execution_count": 11,
   "id": "d7aa7b94",
   "metadata": {
    "_cell_guid": "fa2e9775-fd80-45ea-8d68-5a29a8d6f68e",
    "_uuid": "fb8b9b9c-376b-4562-b2eb-1aa09884d765",
    "collapsed": false,
    "execution": {
     "iopub.execute_input": "2023-04-08T20:04:15.348197Z",
     "iopub.status.busy": "2023-04-08T20:04:15.347049Z",
     "iopub.status.idle": "2023-04-08T20:04:16.735803Z",
     "shell.execute_reply": "2023-04-08T20:04:16.734557Z"
    },
    "jupyter": {
     "outputs_hidden": false
    },
    "papermill": {
     "duration": 1.418353,
     "end_time": "2023-04-08T20:04:16.739929",
     "exception": false,
     "start_time": "2023-04-08T20:04:15.321576",
     "status": "completed"
    },
    "tags": []
   },
   "outputs": [
    {
     "data": {
      "image/png": "[encoded data removed]",
      "text/plain": [
       "<Figure size 1000x1000 with 4 Axes>"
      ]
     },
     "metadata": {},
     "output_type": "display_data"
    }
   ],
   "source": [
    "cols_cat = [\"repeat_retailer\", \"used_chip\", \"used_pin_number\", \"online_order\"]\n",
    "i = 0\n",
    "j = 0\n",
    "fig, axs = plt.subplots(2, 2, figsize =(10,10), constrained_layout=True)\n",
    "for col in cols_cat :\n",
    "    sns.countplot(ax=axs[i,j],x=col, data=df, hue='fraud')\n",
    "    if j < 1 :\n",
    "        j += 1\n",
    "    else :\n",
    "        j = 0\n",
    "        i += 1\n",
    "plt.show()"
   ]
  },
  {
   "cell_type": "markdown",
   "id": "233710a5",
   "metadata": {
    "_cell_guid": "68cd236e-f0a6-4def-9a1d-10696700f4c1",
    "_uuid": "9e3908d7-a3eb-4187-829d-53ca91984aa0",
    "papermill": {
     "duration": 0.0251,
     "end_time": "2023-04-08T20:04:16.796483",
     "exception": false,
     "start_time": "2023-04-08T20:04:16.771383",
     "status": "completed"
    },
    "tags": []
   },
   "source": [
    "- repeat_retailer : รายการ fraud ส่วนใหญ่จะเกิดในร้านค้าที่เคยทำธุรกรรมด้วยไว้แล้ว -> ร้านค้าจำเลขบัตรเครดิตหรือเปล่า?\n",
    "- used_chip : รายการ fraud ส่วนใหญ่จะเกิดจากการที่ไม่ต้องใช้ chip หรือ credit card ตัวจริง (ส่วนใหญ่ก็คงจะเป็นรายการที่เกิดออนไลน์)\n",
    "- used_pin_number : รายการ fraud ส่วนใหญ่จะเกิดจากการที่ไม่จำเป็นต้องใส่ pin เพื่อให้รายการสำเร็จ -> ซึ่งก็เป็นไปได้ถ้าสมมติฐานในข้อ 1 เป็นจริง\n",
    "- online_order : รายการ fraud ส่วนใหญ่จะเกิดจากการทำธุรกรรมออนไลน์ -> ก็สมเหตุสมผลจากข้อ 2"
   ]
  },
  {
   "cell_type": "code",
   "execution_count": 12,
   "id": "87f0230d",
   "metadata": {
    "_cell_guid": "33aa1c97-4244-4f9f-bf05-c9ffae6c1fd7",
    "_uuid": "88b227a1-3574-45db-ba6b-a7462ff26bef",
    "collapsed": false,
    "execution": {
     "iopub.execute_input": "2023-04-08T20:04:16.850409Z",
     "iopub.status.busy": "2023-04-08T20:04:16.849098Z",
     "iopub.status.idle": "2023-04-08T20:04:16.892104Z",
     "shell.execute_reply": "2023-04-08T20:04:16.890062Z"
    },
    "jupyter": {
     "outputs_hidden": false
    },
    "papermill": {
     "duration": 0.0733,
     "end_time": "2023-04-08T20:04:16.895291",
     "exception": false,
     "start_time": "2023-04-08T20:04:16.821991",
     "status": "completed"
    },
    "tags": []
   },
   "outputs": [
    {
     "name": "stdout",
     "output_type": "stream",
     "text": [
      "<class 'pandas.core.frame.DataFrame'>\n",
      "RangeIndex: 1000000 entries, 0 to 999999\n",
      "Data columns (total 11 columns):\n",
      " #   Column                              Non-Null Count    Dtype  \n",
      "---  ------                              --------------    -----  \n",
      " 0   distance_from_home                  1000000 non-null  float64\n",
      " 1   distance_from_last_transaction      1000000 non-null  float64\n",
      " 2   ratio_to_median_purchase_price      1000000 non-null  float64\n",
      " 3   repeat_retailer                     1000000 non-null  float64\n",
      " 4   used_chip                           1000000 non-null  float64\n",
      " 5   used_pin_number                     1000000 non-null  float64\n",
      " 6   online_order                        1000000 non-null  float64\n",
      " 7   fraud                               1000000 non-null  float64\n",
      " 8   distance_from_home_log              1000000 non-null  float64\n",
      " 9   distance_from_last_transaction_log  1000000 non-null  float64\n",
      " 10  ratio_to_median_purchase_price_log  1000000 non-null  float64\n",
      "dtypes: float64(11)\n",
      "memory usage: 83.9 MB\n"
     ]
    }
   ],
   "source": [
    "df.info()"
   ]
  },
  {
   "cell_type": "markdown",
   "id": "cf29f30a",
   "metadata": {
    "_cell_guid": "bfcdcac0-566b-4436-bf61-6bef0163ee7f",
    "_uuid": "5a76357b-8ce6-4a7f-8fbe-0fc0eef85fae",
    "papermill": {
     "duration": 0.025278,
     "end_time": "2023-04-08T20:04:16.951254",
     "exception": false,
     "start_time": "2023-04-08T20:04:16.925976",
     "status": "completed"
    },
    "tags": []
   },
   "source": [
    "## Train Test Split\n",
    "1. train set\n",
    "2. validation set\n",
    "3. test set"
   ]
  },
  {
   "cell_type": "code",
   "execution_count": 13,
   "id": "f8d410b0",
   "metadata": {
    "_cell_guid": "7a071f9e-0a3d-4bc6-aa2e-4bc91cca136d",
    "_uuid": "7c522493-dc75-45d6-a8d6-768c6e910adf",
    "collapsed": false,
    "execution": {
     "iopub.execute_input": "2023-04-08T20:04:17.004559Z",
     "iopub.status.busy": "2023-04-08T20:04:17.003993Z",
     "iopub.status.idle": "2023-04-08T20:04:17.010176Z",
     "shell.execute_reply": "2023-04-08T20:04:17.008859Z"
    },
    "jupyter": {
     "outputs_hidden": false
    },
    "papermill": {
     "duration": 0.035421,
     "end_time": "2023-04-08T20:04:17.012663",
     "exception": false,
     "start_time": "2023-04-08T20:04:16.977242",
     "status": "completed"
    },
    "tags": []
   },
   "outputs": [],
   "source": [
    "cols_X = [\"distance_from_home_log\", \n",
    "          \"distance_from_last_transaction_log\", \n",
    "          \"ratio_to_median_purchase_price_log\", \n",
    "          \"repeat_retailer\", \n",
    "          \"used_chip\", \n",
    "          \"used_pin_number\", \n",
    "          \"online_order\"]\n",
    "col_y = \"fraud\""
   ]
  },
  {
   "cell_type": "code",
   "execution_count": 14,
   "id": "7ed4f171",
   "metadata": {
    "_cell_guid": "f010f431-fe64-417f-9fcb-212a47fd5d3b",
    "_uuid": "f41de415-8d9d-48bd-be0c-c356f431a150",
    "collapsed": false,
    "execution": {
     "iopub.execute_input": "2023-04-08T20:04:17.066599Z",
     "iopub.status.busy": "2023-04-08T20:04:17.065791Z",
     "iopub.status.idle": "2023-04-08T20:04:17.478922Z",
     "shell.execute_reply": "2023-04-08T20:04:17.477609Z"
    },
    "jupyter": {
     "outputs_hidden": false
    },
    "papermill": {
     "duration": 0.442942,
     "end_time": "2023-04-08T20:04:17.481484",
     "exception": false,
     "start_time": "2023-04-08T20:04:17.038542",
     "status": "completed"
    },
    "tags": []
   },
   "outputs": [
    {
     "data": {
      "text/plain": [
       "((800000, 8), (200000, 8))"
      ]
     },
     "execution_count": 14,
     "metadata": {},
     "output_type": "execute_result"
    }
   ],
   "source": [
    "df_traintm = df[cols_X+[col_y]].sample(frac=0.8,random_state=2023)\n",
    "df_test = df[cols_X+[col_y]].drop(df_traintm.index)\n",
    "\n",
    "df_traintm.shape, df_test.shape"
   ]
  },
  {
   "cell_type": "code",
   "execution_count": 15,
   "id": "73b75c0f",
   "metadata": {
    "_cell_guid": "9637e225-d6d5-4ef1-9e76-587a101d08ed",
    "_uuid": "6e701c02-5d4e-417e-a9ce-aa5bc2a3ef29",
    "collapsed": false,
    "execution": {
     "iopub.execute_input": "2023-04-08T20:04:17.535460Z",
     "iopub.status.busy": "2023-04-08T20:04:17.535044Z",
     "iopub.status.idle": "2023-04-08T20:04:17.883568Z",
     "shell.execute_reply": "2023-04-08T20:04:17.882138Z"
    },
    "jupyter": {
     "outputs_hidden": false
    },
    "papermill": {
     "duration": 0.378307,
     "end_time": "2023-04-08T20:04:17.886288",
     "exception": false,
     "start_time": "2023-04-08T20:04:17.507981",
     "status": "completed"
    },
    "tags": []
   },
   "outputs": [
    {
     "data": {
      "text/plain": [
       "((640000, 8), (160000, 8))"
      ]
     },
     "execution_count": 15,
     "metadata": {},
     "output_type": "execute_result"
    }
   ],
   "source": [
    "df_train = df_traintm[cols_X+[col_y]].sample(frac=0.8,random_state=2023)\n",
    "df_val = df_traintm[cols_X+[col_y]].drop(df_train.index)\n",
    "\n",
    "df_train.shape, df_val.shape"
   ]
  },
  {
   "cell_type": "code",
   "execution_count": 16,
   "id": "8aaf871b",
   "metadata": {
    "_cell_guid": "f3824e1c-ff39-4e6e-b2ca-96e609ea38ae",
    "_uuid": "b919e733-b33d-464c-b950-893bc6ef3b8b",
    "collapsed": false,
    "execution": {
     "iopub.execute_input": "2023-04-08T20:04:17.940150Z",
     "iopub.status.busy": "2023-04-08T20:04:17.939761Z",
     "iopub.status.idle": "2023-04-08T20:04:17.974580Z",
     "shell.execute_reply": "2023-04-08T20:04:17.972782Z"
    },
    "jupyter": {
     "outputs_hidden": false
    },
    "papermill": {
     "duration": 0.065256,
     "end_time": "2023-04-08T20:04:17.977384",
     "exception": false,
     "start_time": "2023-04-08T20:04:17.912128",
     "status": "completed"
    },
    "tags": []
   },
   "outputs": [
    {
     "name": "stdout",
     "output_type": "stream",
     "text": [
      "(640000, 7) (160000, 7) (200000, 7)\n",
      "(640000,) (160000,) (200000,)\n"
     ]
    }
   ],
   "source": [
    "X_train = df_train[cols_X].values\n",
    "X_val = df_val[cols_X].values\n",
    "X_test = df_test[cols_X].values\n",
    "y_train = df_train[col_y].values\n",
    "y_val = df_val[col_y].values\n",
    "y_test = df_test[col_y].values\n",
    "\n",
    "print(X_train.shape, X_val.shape, X_test.shape)\n",
    "print(y_train.shape, y_val.shape, y_test.shape)"
   ]
  },
  {
   "cell_type": "markdown",
   "id": "39a087b5",
   "metadata": {
    "_cell_guid": "274eba09-f914-4ded-a60c-5dec859e6b7e",
    "_uuid": "842911a6-92be-4f88-8594-90b5dab7ef0c",
    "papermill": {
     "duration": 0.025565,
     "end_time": "2023-04-08T20:04:18.029318",
     "exception": false,
     "start_time": "2023-04-08T20:04:18.003753",
     "status": "completed"
    },
    "tags": []
   },
   "source": [
    "## Imbalanced"
   ]
  },
  {
   "cell_type": "code",
   "execution_count": 17,
   "id": "2fe56f10",
   "metadata": {
    "_cell_guid": "b7c9c7b8-8b83-45b2-becf-9affe8fb134d",
    "_uuid": "029e3332-d26b-4d16-aee4-c12f8736b5f0",
    "collapsed": false,
    "execution": {
     "iopub.execute_input": "2023-04-08T20:04:18.082921Z",
     "iopub.status.busy": "2023-04-08T20:04:18.082434Z",
     "iopub.status.idle": "2023-04-08T20:04:18.535040Z",
     "shell.execute_reply": "2023-04-08T20:04:18.533661Z"
    },
    "jupyter": {
     "outputs_hidden": false
    },
    "papermill": {
     "duration": 0.482581,
     "end_time": "2023-04-08T20:04:18.537602",
     "exception": false,
     "start_time": "2023-04-08T20:04:18.055021",
     "status": "completed"
    },
    "tags": []
   },
   "outputs": [],
   "source": [
    "from imblearn.over_sampling import SMOTE, BorderlineSMOTE, ADASYN, RandomOverSampler"
   ]
  },
  {
   "cell_type": "code",
   "execution_count": 18,
   "id": "7206c3b6",
   "metadata": {
    "_cell_guid": "2a7ea49e-dadf-4549-95c9-d516a41e0d3f",
    "_uuid": "9d6d6450-26e0-42b0-9559-dc2ecb192805",
    "collapsed": false,
    "execution": {
     "iopub.execute_input": "2023-04-08T20:04:18.593020Z",
     "iopub.status.busy": "2023-04-08T20:04:18.592586Z",
     "iopub.status.idle": "2023-04-08T20:04:18.598563Z",
     "shell.execute_reply": "2023-04-08T20:04:18.597592Z"
    },
    "jupyter": {
     "outputs_hidden": false
    },
    "papermill": {
     "duration": 0.036575,
     "end_time": "2023-04-08T20:04:18.600762",
     "exception": false,
     "start_time": "2023-04-08T20:04:18.564187",
     "status": "completed"
    },
    "tags": []
   },
   "outputs": [],
   "source": [
    "rand = RandomOverSampler(random_state=2023, sampling_strategy='minority')\n",
    "smote = SMOTE(random_state=2023, sampling_strategy='minority')\n",
    "bord = BorderlineSMOTE(random_state=2023, sampling_strategy='minority')\n",
    "adasyn = ADASYN(random_state=2023, sampling_strategy='minority')"
   ]
  },
  {
   "cell_type": "code",
   "execution_count": 19,
   "id": "92947cc5",
   "metadata": {
    "_cell_guid": "ac4ed289-ae11-40a4-9039-de66e7281e53",
    "_uuid": "78540d1b-5797-4ed6-9a01-8a499d39d072",
    "collapsed": false,
    "execution": {
     "iopub.execute_input": "2023-04-08T20:04:18.653934Z",
     "iopub.status.busy": "2023-04-08T20:04:18.653475Z",
     "iopub.status.idle": "2023-04-08T20:04:27.341166Z",
     "shell.execute_reply": "2023-04-08T20:04:27.339947Z"
    },
    "jupyter": {
     "outputs_hidden": false
    },
    "papermill": {
     "duration": 8.717989,
     "end_time": "2023-04-08T20:04:27.344160",
     "exception": false,
     "start_time": "2023-04-08T20:04:18.626171",
     "status": "completed"
    },
    "tags": []
   },
   "outputs": [],
   "source": [
    "X_train_rand, y_train_rand = rand.fit_resample(X_train, y_train)\n",
    "X_train_smote, y_train_smote = smote.fit_resample(X_train, y_train)\n",
    "X_train_bord, y_train_bord = bord.fit_resample(X_train, y_train)\n",
    "X_train_ada, y_train_ada = adasyn.fit_resample(X_train, y_train)"
   ]
  },
  {
   "cell_type": "code",
   "execution_count": 20,
   "id": "806e8930",
   "metadata": {
    "_cell_guid": "d5e631b6-ea05-4ee1-b240-a3f5a3c3ae73",
    "_uuid": "8577f64c-2c38-4881-894b-548f32b625bf",
    "collapsed": false,
    "execution": {
     "iopub.execute_input": "2023-04-08T20:04:27.397217Z",
     "iopub.status.busy": "2023-04-08T20:04:27.396448Z",
     "iopub.status.idle": "2023-04-08T20:04:27.401838Z",
     "shell.execute_reply": "2023-04-08T20:04:27.400641Z"
    },
    "jupyter": {
     "outputs_hidden": false
    },
    "papermill": {
     "duration": 0.034614,
     "end_time": "2023-04-08T20:04:27.404302",
     "exception": false,
     "start_time": "2023-04-08T20:04:27.369688",
     "status": "completed"
    },
    "tags": []
   },
   "outputs": [],
   "source": [
    "from collections import Counter"
   ]
  },
  {
   "cell_type": "code",
   "execution_count": 21,
   "id": "3cdf4648",
   "metadata": {
    "_cell_guid": "3fe21c64-03b1-435f-8d1b-daf467d6cbda",
    "_uuid": "92d9a5e5-ede3-4a88-8a7e-ee9a988305f4",
    "collapsed": false,
    "execution": {
     "iopub.execute_input": "2023-04-08T20:04:27.457722Z",
     "iopub.status.busy": "2023-04-08T20:04:27.456931Z",
     "iopub.status.idle": "2023-04-08T20:04:28.329724Z",
     "shell.execute_reply": "2023-04-08T20:04:28.328827Z"
    },
    "jupyter": {
     "outputs_hidden": false
    },
    "papermill": {
     "duration": 0.903353,
     "end_time": "2023-04-08T20:04:28.333551",
     "exception": false,
     "start_time": "2023-04-08T20:04:27.430198",
     "status": "completed"
    },
    "tags": []
   },
   "outputs": [
    {
     "name": "stdout",
     "output_type": "stream",
     "text": [
      "original \t\t: Counter({0.0: 584114, 1.0: 55886})\n",
      "RandomOverSampler \t: Counter({0.0: 584114, 1.0: 584114})\n",
      "SMOTE \t\t\t: Counter({0.0: 584114, 1.0: 584114})\n",
      "BorderlineSMOTE \t: Counter({0.0: 584114, 1.0: 584114})\n",
      "ADASYN \t\t\t: Counter({0.0: 584114, 1.0: 583024})\n"
     ]
    }
   ],
   "source": [
    "print(f\"original \\t\\t: {Counter(y_train)}\")\n",
    "print(f\"RandomOverSampler \\t: {Counter(y_train_rand)}\")\n",
    "print(f\"SMOTE \\t\\t\\t: {Counter(y_train_smote)}\")\n",
    "print(f\"BorderlineSMOTE \\t: {Counter(y_train_bord)}\")\n",
    "print(f\"ADASYN \\t\\t\\t: {Counter(y_train_ada)}\")"
   ]
  },
  {
   "cell_type": "markdown",
   "id": "f2c2991d",
   "metadata": {
    "_cell_guid": "514560cc-fa5a-4ab9-ab71-766901be7011",
    "_uuid": "64417eb7-6974-46bc-84ba-1019281003bd",
    "papermill": {
     "duration": 0.02554,
     "end_time": "2023-04-08T20:04:28.389051",
     "exception": false,
     "start_time": "2023-04-08T20:04:28.363511",
     "status": "completed"
    },
    "tags": []
   },
   "source": [
    "# Modelling"
   ]
  },
  {
   "cell_type": "code",
   "execution_count": 22,
   "id": "af11143c",
   "metadata": {
    "_cell_guid": "22091393-6fc3-4d70-95eb-bb0d46c0d53f",
    "_kg_hide-input": true,
    "_kg_hide-output": true,
    "_uuid": "0c3f094a-7296-4377-9bc3-dc55976c5821",
    "collapsed": false,
    "execution": {
     "iopub.execute_input": "2023-04-08T20:04:28.443584Z",
     "iopub.status.busy": "2023-04-08T20:04:28.442462Z",
     "iopub.status.idle": "2023-04-08T20:04:29.908510Z",
     "shell.execute_reply": "2023-04-08T20:04:29.906919Z"
    },
    "jupyter": {
     "outputs_hidden": false
    },
    "papermill": {
     "duration": 1.496755,
     "end_time": "2023-04-08T20:04:29.911677",
     "exception": false,
     "start_time": "2023-04-08T20:04:28.414922",
     "status": "completed"
    },
    "tags": []
   },
   "outputs": [
    {
     "data": {
      "image/png": "[encoded data removed]",
      "text/plain": [
       "<Figure size 1000x400 with 3 Axes>"
      ]
     },
     "metadata": {},
     "output_type": "display_data"
    }
   ],
   "source": [
    "# Hide\n",
    "def logitplot(y, x, ncat=500, axs=axs, i=None, j=None):\n",
    "    brksx = np.unique(np.quantile(x, np.arange(ncat+1)/ncat))\n",
    "    cutx = pd.cut(x, bins=brksx, include_lowest=True)\n",
    "    yt = pd.crosstab(y, cutx)\n",
    "    mx = cutx.apply(lambda x: np.mean(x.right)).unique()\n",
    "    logity = np.log((yt.iloc[1,:] + 0.5) / (yt.iloc[0,:] + 0.5))\n",
    "    if axs is not None:\n",
    "        axs.plot(mx, logity, 'o')\n",
    "    else :\n",
    "        plt.plot(mx, logity, 'o')\n",
    "    plt.xlabel('Mean value of x')\n",
    "    plt.ylabel('Log odds ratio')\n",
    "\n",
    "fig, axs = plt.subplots(1, 3, figsize=(10, 4), constrained_layout=True)\n",
    "for i in range(3):\n",
    "        logitplot(df[\"fraud\"], df[cols_X[i]], axs=axs[i])"
   ]
  },
  {
   "cell_type": "code",
   "execution_count": 23,
   "id": "2fcc7827",
   "metadata": {
    "_cell_guid": "7cb2f8ea-5ccc-4faf-b169-49e75e1c8517",
    "_uuid": "293580eb-bf68-4c40-9983-197169a04769",
    "collapsed": false,
    "execution": {
     "iopub.execute_input": "2023-04-08T20:04:29.968192Z",
     "iopub.status.busy": "2023-04-08T20:04:29.967092Z",
     "iopub.status.idle": "2023-04-08T20:04:29.974306Z",
     "shell.execute_reply": "2023-04-08T20:04:29.972909Z"
    },
    "jupyter": {
     "outputs_hidden": false
    },
    "papermill": {
     "duration": 0.038509,
     "end_time": "2023-04-08T20:04:29.976822",
     "exception": false,
     "start_time": "2023-04-08T20:04:29.938313",
     "status": "completed"
    },
    "tags": []
   },
   "outputs": [],
   "source": [
    "score = dict()\n",
    "score[\"model\"] = []\n",
    "score[\"resampling\"] = []\n",
    "score[\"recall\"] = []\n",
    "score[\"precision\"] = []\n",
    "score[\"f1\"] = []\n",
    "score[\"accuracy\"] = []\n",
    "score[\"auc\"] = []"
   ]
  },
  {
   "cell_type": "markdown",
   "id": "5fd875f8",
   "metadata": {
    "_cell_guid": "82475deb-71d7-4d17-93f7-5668a5ee5c95",
    "_uuid": "eac4ff53-18e7-4d3c-8f99-bdcca3a837ef",
    "papermill": {
     "duration": 0.02611,
     "end_time": "2023-04-08T20:04:30.029269",
     "exception": false,
     "start_time": "2023-04-08T20:04:30.003159",
     "status": "completed"
    },
    "tags": []
   },
   "source": [
    "## Logistic Regression"
   ]
  },
  {
   "cell_type": "code",
   "execution_count": 24,
   "id": "8b714e2e",
   "metadata": {
    "_cell_guid": "b152602b-f7b2-40e5-8395-562bfc26e98f",
    "_uuid": "30a531b0-3d84-4781-95a7-0795734e155e",
    "collapsed": false,
    "execution": {
     "iopub.execute_input": "2023-04-08T20:04:30.084459Z",
     "iopub.status.busy": "2023-04-08T20:04:30.083251Z",
     "iopub.status.idle": "2023-04-08T20:04:30.088937Z",
     "shell.execute_reply": "2023-04-08T20:04:30.088001Z"
    },
    "jupyter": {
     "outputs_hidden": false
    },
    "papermill": {
     "duration": 0.035792,
     "end_time": "2023-04-08T20:04:30.091305",
     "exception": false,
     "start_time": "2023-04-08T20:04:30.055513",
     "status": "completed"
    },
    "tags": []
   },
   "outputs": [],
   "source": [
    "from sklearn.linear_model import LogisticRegression\n",
    "from sklearn.metrics import *"
   ]
  },
  {
   "cell_type": "markdown",
   "id": "6e873679",
   "metadata": {
    "_cell_guid": "10254536-7fed-4089-9b6a-dbacb73be493",
    "_uuid": "b5401045-f922-4eaf-9ce2-d9db84a4bf06",
    "papermill": {
     "duration": 0.026044,
     "end_time": "2023-04-08T20:04:30.143983",
     "exception": false,
     "start_time": "2023-04-08T20:04:30.117939",
     "status": "completed"
    },
    "tags": []
   },
   "source": [
    "No oversampling"
   ]
  },
  {
   "cell_type": "code",
   "execution_count": 25,
   "id": "7e5c3908",
   "metadata": {
    "_cell_guid": "2ec0e1f4-140c-4eaf-a02f-72f3b579d047",
    "_uuid": "39fefb58-2d69-49fc-9493-074761e77a78",
    "collapsed": false,
    "execution": {
     "iopub.execute_input": "2023-04-08T20:04:30.198932Z",
     "iopub.status.busy": "2023-04-08T20:04:30.198164Z",
     "iopub.status.idle": "2023-04-08T20:04:34.012176Z",
     "shell.execute_reply": "2023-04-08T20:04:34.010796Z"
    },
    "jupyter": {
     "outputs_hidden": false
    },
    "papermill": {
     "duration": 3.844882,
     "end_time": "2023-04-08T20:04:34.015119",
     "exception": false,
     "start_time": "2023-04-08T20:04:30.170237",
     "status": "completed"
    },
    "tags": []
   },
   "outputs": [
    {
     "data": {
      "text/html": [
       "<div>\n",
       "<style scoped>\n",
       "    .dataframe tbody tr th:only-of-type {\n",
       "        vertical-align: middle;\n",
       "    }\n",
       "\n",
       "    .dataframe tbody tr th {\n",
       "        vertical-align: top;\n",
       "    }\n",
       "\n",
       "    .dataframe thead th {\n",
       "        text-align: right;\n",
       "    }\n",
       "</style>\n",
       "<table border=\"1\" class=\"dataframe\">\n",
       "  <thead>\n",
       "    <tr style=\"text-align: right;\">\n",
       "      <th></th>\n",
       "      <th>model</th>\n",
       "      <th>resampling</th>\n",
       "      <th>recall</th>\n",
       "      <th>precision</th>\n",
       "      <th>f1</th>\n",
       "      <th>accuracy</th>\n",
       "      <th>auc</th>\n",
       "    </tr>\n",
       "  </thead>\n",
       "  <tbody>\n",
       "    <tr>\n",
       "      <th>0</th>\n",
       "      <td>logistict Regression</td>\n",
       "      <td>No</td>\n",
       "      <td>0.554328</td>\n",
       "      <td>0.797191</td>\n",
       "      <td>0.653938</td>\n",
       "      <td>0.948569</td>\n",
       "      <td>0.94145</td>\n",
       "    </tr>\n",
       "  </tbody>\n",
       "</table>\n",
       "</div>"
      ],
      "text/plain": [
       "                  model resampling    recall  precision        f1  accuracy  \\\n",
       "0  logistict Regression         No  0.554328   0.797191  0.653938  0.948569   \n",
       "\n",
       "       auc  \n",
       "0  0.94145  "
      ]
     },
     "execution_count": 25,
     "metadata": {},
     "output_type": "execute_result"
    }
   ],
   "source": [
    "log_reg = LogisticRegression(random_state=2023, multi_class='ovr', n_jobs=-1)\n",
    "log_reg.fit(X_train, y_train)\n",
    "\n",
    "y_val_pred = log_reg.predict(X_val)\n",
    "y_val_pred_prob = log_reg.predict_proba(X_val)\n",
    "\n",
    "score[\"model\"].append(\"logistict Regression\")\n",
    "score[\"resampling\"].append(\"No\")\n",
    "score[\"recall\"].append(recall_score(y_val, y_val_pred))\n",
    "score[\"precision\"].append(precision_score(y_val, y_val_pred))\n",
    "score[\"f1\"].append(f1_score(y_val, y_val_pred))\n",
    "score[\"accuracy\"].append(accuracy_score(y_val, y_val_pred))\n",
    "score[\"auc\"].append(roc_auc_score(y_val, y_val_pred_prob[:, 1]))\n",
    "\n",
    "pd.DataFrame.from_dict(score)"
   ]
  },
  {
   "cell_type": "markdown",
   "id": "426e27e2",
   "metadata": {
    "_cell_guid": "8d339183-b9b2-4341-8545-e4c37c639704",
    "_uuid": "185e7da0-da2e-43a4-a751-cb64a364eb57",
    "papermill": {
     "duration": 0.02683,
     "end_time": "2023-04-08T20:04:34.069353",
     "exception": false,
     "start_time": "2023-04-08T20:04:34.042523",
     "status": "completed"
    },
    "tags": []
   },
   "source": [
    "Random Oversampling"
   ]
  },
  {
   "cell_type": "code",
   "execution_count": 26,
   "id": "d3668122",
   "metadata": {
    "_cell_guid": "a05a126c-b786-45b5-8bf9-9fc1fae8a998",
    "_uuid": "e6f643bd-e9d1-4f0e-aee7-72a72269f8a7",
    "collapsed": false,
    "execution": {
     "iopub.execute_input": "2023-04-08T20:04:34.125738Z",
     "iopub.status.busy": "2023-04-08T20:04:34.125286Z",
     "iopub.status.idle": "2023-04-08T20:04:38.715979Z",
     "shell.execute_reply": "2023-04-08T20:04:38.714678Z"
    },
    "jupyter": {
     "outputs_hidden": false
    },
    "papermill": {
     "duration": 4.622556,
     "end_time": "2023-04-08T20:04:38.718830",
     "exception": false,
     "start_time": "2023-04-08T20:04:34.096274",
     "status": "completed"
    },
    "tags": []
   },
   "outputs": [
    {
     "data": {
      "text/html": [
       "<div>\n",
       "<style scoped>\n",
       "    .dataframe tbody tr th:only-of-type {\n",
       "        vertical-align: middle;\n",
       "    }\n",
       "\n",
       "    .dataframe tbody tr th {\n",
       "        vertical-align: top;\n",
       "    }\n",
       "\n",
       "    .dataframe thead th {\n",
       "        text-align: right;\n",
       "    }\n",
       "</style>\n",
       "<table border=\"1\" class=\"dataframe\">\n",
       "  <thead>\n",
       "    <tr style=\"text-align: right;\">\n",
       "      <th></th>\n",
       "      <th>model</th>\n",
       "      <th>resampling</th>\n",
       "      <th>recall</th>\n",
       "      <th>precision</th>\n",
       "      <th>f1</th>\n",
       "      <th>accuracy</th>\n",
       "      <th>auc</th>\n",
       "    </tr>\n",
       "  </thead>\n",
       "  <tbody>\n",
       "    <tr>\n",
       "      <th>0</th>\n",
       "      <td>logistict Regression</td>\n",
       "      <td>No</td>\n",
       "      <td>0.554328</td>\n",
       "      <td>0.797191</td>\n",
       "      <td>0.653938</td>\n",
       "      <td>0.948569</td>\n",
       "      <td>0.941450</td>\n",
       "    </tr>\n",
       "    <tr>\n",
       "      <th>1</th>\n",
       "      <td>logistict Regression</td>\n",
       "      <td>Random oversampling</td>\n",
       "      <td>0.886140</td>\n",
       "      <td>0.361035</td>\n",
       "      <td>0.513044</td>\n",
       "      <td>0.852537</td>\n",
       "      <td>0.943272</td>\n",
       "    </tr>\n",
       "  </tbody>\n",
       "</table>\n",
       "</div>"
      ],
      "text/plain": [
       "                  model           resampling    recall  precision        f1  \\\n",
       "0  logistict Regression                   No  0.554328   0.797191  0.653938   \n",
       "1  logistict Regression  Random oversampling  0.886140   0.361035  0.513044   \n",
       "\n",
       "   accuracy       auc  \n",
       "0  0.948569  0.941450  \n",
       "1  0.852537  0.943272  "
      ]
     },
     "execution_count": 26,
     "metadata": {},
     "output_type": "execute_result"
    }
   ],
   "source": [
    "log_reg = LogisticRegression(random_state=2023, multi_class='ovr', n_jobs=-1)\n",
    "log_reg.fit(X_train_rand, y_train_rand)\n",
    "\n",
    "y_val_pred = log_reg.predict(X_val)\n",
    "y_val_pred_prob = log_reg.predict_proba(X_val)\n",
    "\n",
    "score[\"model\"].append(\"logistict Regression\")\n",
    "score[\"resampling\"].append(\"Random oversampling\")\n",
    "score[\"recall\"].append(recall_score(y_val, y_val_pred))\n",
    "score[\"precision\"].append(precision_score(y_val, y_val_pred))\n",
    "score[\"f1\"].append(f1_score(y_val, y_val_pred))\n",
    "score[\"accuracy\"].append(accuracy_score(y_val, y_val_pred))\n",
    "score[\"auc\"].append(roc_auc_score(y_val, y_val_pred_prob[:, 1]))\n",
    "\n",
    "pd.DataFrame.from_dict(score)"
   ]
  },
  {
   "cell_type": "markdown",
   "id": "abd2b16e",
   "metadata": {
    "_cell_guid": "4def1cfa-2842-42e6-884f-e8fe06587df4",
    "_uuid": "04ef5b79-bff3-4b6a-83c6-49643d16a16c",
    "papermill": {
     "duration": 0.026796,
     "end_time": "2023-04-08T20:04:38.772569",
     "exception": false,
     "start_time": "2023-04-08T20:04:38.745773",
     "status": "completed"
    },
    "tags": []
   },
   "source": [
    "Smote"
   ]
  },
  {
   "cell_type": "code",
   "execution_count": 27,
   "id": "aef82b80",
   "metadata": {
    "_cell_guid": "18bb11c6-c5b1-4aee-815d-2e6eacaf1fe4",
    "_uuid": "e223c005-5081-4298-93fc-ee1c4e24db49",
    "collapsed": false,
    "execution": {
     "iopub.execute_input": "2023-04-08T20:04:38.830140Z",
     "iopub.status.busy": "2023-04-08T20:04:38.829368Z",
     "iopub.status.idle": "2023-04-08T20:04:43.185714Z",
     "shell.execute_reply": "2023-04-08T20:04:43.184157Z"
    },
    "jupyter": {
     "outputs_hidden": false
    },
    "papermill": {
     "duration": 4.38865,
     "end_time": "2023-04-08T20:04:43.188257",
     "exception": false,
     "start_time": "2023-04-08T20:04:38.799607",
     "status": "completed"
    },
    "tags": []
   },
   "outputs": [
    {
     "data": {
      "text/html": [
       "<div>\n",
       "<style scoped>\n",
       "    .dataframe tbody tr th:only-of-type {\n",
       "        vertical-align: middle;\n",
       "    }\n",
       "\n",
       "    .dataframe tbody tr th {\n",
       "        vertical-align: top;\n",
       "    }\n",
       "\n",
       "    .dataframe thead th {\n",
       "        text-align: right;\n",
       "    }\n",
       "</style>\n",
       "<table border=\"1\" class=\"dataframe\">\n",
       "  <thead>\n",
       "    <tr style=\"text-align: right;\">\n",
       "      <th></th>\n",
       "      <th>model</th>\n",
       "      <th>resampling</th>\n",
       "      <th>recall</th>\n",
       "      <th>precision</th>\n",
       "      <th>f1</th>\n",
       "      <th>accuracy</th>\n",
       "      <th>auc</th>\n",
       "    </tr>\n",
       "  </thead>\n",
       "  <tbody>\n",
       "    <tr>\n",
       "      <th>0</th>\n",
       "      <td>logistict Regression</td>\n",
       "      <td>No</td>\n",
       "      <td>0.554328</td>\n",
       "      <td>0.797191</td>\n",
       "      <td>0.653938</td>\n",
       "      <td>0.948569</td>\n",
       "      <td>0.941450</td>\n",
       "    </tr>\n",
       "    <tr>\n",
       "      <th>1</th>\n",
       "      <td>logistict Regression</td>\n",
       "      <td>Random oversampling</td>\n",
       "      <td>0.886140</td>\n",
       "      <td>0.361035</td>\n",
       "      <td>0.513044</td>\n",
       "      <td>0.852537</td>\n",
       "      <td>0.943272</td>\n",
       "    </tr>\n",
       "    <tr>\n",
       "      <th>2</th>\n",
       "      <td>logistict Regression</td>\n",
       "      <td>Smote oversampling</td>\n",
       "      <td>0.886283</td>\n",
       "      <td>0.360810</td>\n",
       "      <td>0.512841</td>\n",
       "      <td>0.852394</td>\n",
       "      <td>0.943270</td>\n",
       "    </tr>\n",
       "  </tbody>\n",
       "</table>\n",
       "</div>"
      ],
      "text/plain": [
       "                  model           resampling    recall  precision        f1  \\\n",
       "0  logistict Regression                   No  0.554328   0.797191  0.653938   \n",
       "1  logistict Regression  Random oversampling  0.886140   0.361035  0.513044   \n",
       "2  logistict Regression   Smote oversampling  0.886283   0.360810  0.512841   \n",
       "\n",
       "   accuracy       auc  \n",
       "0  0.948569  0.941450  \n",
       "1  0.852537  0.943272  \n",
       "2  0.852394  0.943270  "
      ]
     },
     "execution_count": 27,
     "metadata": {},
     "output_type": "execute_result"
    }
   ],
   "source": [
    "log_reg = LogisticRegression(random_state=2023, multi_class='ovr', n_jobs=-1)\n",
    "log_reg.fit(X_train_smote, y_train_smote)\n",
    "\n",
    "y_val_pred = log_reg.predict(X_val)\n",
    "y_val_pred_prob = log_reg.predict_proba(X_val)\n",
    "\n",
    "score[\"model\"].append(\"logistict Regression\")\n",
    "score[\"resampling\"].append(\"Smote oversampling\")\n",
    "score[\"recall\"].append(recall_score(y_val, y_val_pred))\n",
    "score[\"precision\"].append(precision_score(y_val, y_val_pred))\n",
    "score[\"f1\"].append(f1_score(y_val, y_val_pred))\n",
    "score[\"accuracy\"].append(accuracy_score(y_val, y_val_pred))\n",
    "score[\"auc\"].append(roc_auc_score(y_val, y_val_pred_prob[:, 1]))\n",
    "\n",
    "pd.DataFrame.from_dict(score)"
   ]
  },
  {
   "cell_type": "markdown",
   "id": "49c5c7a5",
   "metadata": {
    "_cell_guid": "10bf06c4-4f72-4033-9c3b-8298e5793612",
    "_uuid": "fff69122-54ac-4583-aba7-d6b76cfd4360",
    "papermill": {
     "duration": 0.026721,
     "end_time": "2023-04-08T20:04:43.242061",
     "exception": false,
     "start_time": "2023-04-08T20:04:43.215340",
     "status": "completed"
    },
    "tags": []
   },
   "source": [
    "Borderline Smote"
   ]
  },
  {
   "cell_type": "code",
   "execution_count": 28,
   "id": "dcdc199b",
   "metadata": {
    "_cell_guid": "007d145d-d150-46d4-8346-fdde6316c08c",
    "_uuid": "80258849-4033-4271-829c-4a78961cdb60",
    "collapsed": false,
    "execution": {
     "iopub.execute_input": "2023-04-08T20:04:43.298222Z",
     "iopub.status.busy": "2023-04-08T20:04:43.297759Z",
     "iopub.status.idle": "2023-04-08T20:04:47.903736Z",
     "shell.execute_reply": "2023-04-08T20:04:47.901969Z"
    },
    "jupyter": {
     "outputs_hidden": false
    },
    "papermill": {
     "duration": 4.638113,
     "end_time": "2023-04-08T20:04:47.907151",
     "exception": false,
     "start_time": "2023-04-08T20:04:43.269038",
     "status": "completed"
    },
    "tags": []
   },
   "outputs": [
    {
     "data": {
      "text/html": [
       "<div>\n",
       "<style scoped>\n",
       "    .dataframe tbody tr th:only-of-type {\n",
       "        vertical-align: middle;\n",
       "    }\n",
       "\n",
       "    .dataframe tbody tr th {\n",
       "        vertical-align: top;\n",
       "    }\n",
       "\n",
       "    .dataframe thead th {\n",
       "        text-align: right;\n",
       "    }\n",
       "</style>\n",
       "<table border=\"1\" class=\"dataframe\">\n",
       "  <thead>\n",
       "    <tr style=\"text-align: right;\">\n",
       "      <th></th>\n",
       "      <th>model</th>\n",
       "      <th>resampling</th>\n",
       "      <th>recall</th>\n",
       "      <th>precision</th>\n",
       "      <th>f1</th>\n",
       "      <th>accuracy</th>\n",
       "      <th>auc</th>\n",
       "    </tr>\n",
       "  </thead>\n",
       "  <tbody>\n",
       "    <tr>\n",
       "      <th>0</th>\n",
       "      <td>logistict Regression</td>\n",
       "      <td>No</td>\n",
       "      <td>0.554328</td>\n",
       "      <td>0.797191</td>\n",
       "      <td>0.653938</td>\n",
       "      <td>0.948569</td>\n",
       "      <td>0.941450</td>\n",
       "    </tr>\n",
       "    <tr>\n",
       "      <th>1</th>\n",
       "      <td>logistict Regression</td>\n",
       "      <td>Random oversampling</td>\n",
       "      <td>0.886140</td>\n",
       "      <td>0.361035</td>\n",
       "      <td>0.513044</td>\n",
       "      <td>0.852537</td>\n",
       "      <td>0.943272</td>\n",
       "    </tr>\n",
       "    <tr>\n",
       "      <th>2</th>\n",
       "      <td>logistict Regression</td>\n",
       "      <td>Smote oversampling</td>\n",
       "      <td>0.886283</td>\n",
       "      <td>0.360810</td>\n",
       "      <td>0.512841</td>\n",
       "      <td>0.852394</td>\n",
       "      <td>0.943270</td>\n",
       "    </tr>\n",
       "    <tr>\n",
       "      <th>3</th>\n",
       "      <td>logistict Regression</td>\n",
       "      <td>Borderline smote oversampling</td>\n",
       "      <td>0.929488</td>\n",
       "      <td>0.298945</td>\n",
       "      <td>0.452391</td>\n",
       "      <td>0.802737</td>\n",
       "      <td>0.940498</td>\n",
       "    </tr>\n",
       "  </tbody>\n",
       "</table>\n",
       "</div>"
      ],
      "text/plain": [
       "                  model                     resampling    recall  precision  \\\n",
       "0  logistict Regression                             No  0.554328   0.797191   \n",
       "1  logistict Regression            Random oversampling  0.886140   0.361035   \n",
       "2  logistict Regression             Smote oversampling  0.886283   0.360810   \n",
       "3  logistict Regression  Borderline smote oversampling  0.929488   0.298945   \n",
       "\n",
       "         f1  accuracy       auc  \n",
       "0  0.653938  0.948569  0.941450  \n",
       "1  0.513044  0.852537  0.943272  \n",
       "2  0.512841  0.852394  0.943270  \n",
       "3  0.452391  0.802737  0.940498  "
      ]
     },
     "execution_count": 28,
     "metadata": {},
     "output_type": "execute_result"
    }
   ],
   "source": [
    "log_reg = LogisticRegression(random_state=2023, multi_class='ovr', n_jobs=-1)\n",
    "log_reg.fit(X_train_bord, y_train_bord)\n",
    "\n",
    "y_val_pred = log_reg.predict(X_val)\n",
    "y_val_pred_prob = log_reg.predict_proba(X_val)\n",
    "\n",
    "score[\"model\"].append(\"logistict Regression\")\n",
    "score[\"resampling\"].append(\"Borderline smote oversampling\")\n",
    "score[\"recall\"].append(recall_score(y_val, y_val_pred))\n",
    "score[\"precision\"].append(precision_score(y_val, y_val_pred))\n",
    "score[\"f1\"].append(f1_score(y_val, y_val_pred))\n",
    "score[\"accuracy\"].append(accuracy_score(y_val, y_val_pred))\n",
    "score[\"auc\"].append(roc_auc_score(y_val, y_val_pred_prob[:, 1]))\n",
    "\n",
    "pd.DataFrame.from_dict(score)"
   ]
  },
  {
   "cell_type": "markdown",
   "id": "2ca2f689",
   "metadata": {
    "_cell_guid": "cffdd1a3-7d88-47e8-80da-3a24e15b1e5f",
    "_uuid": "9c96ef0b-3b99-4e51-9ccd-81c152b75849",
    "papermill": {
     "duration": 0.035337,
     "end_time": "2023-04-08T20:04:47.974014",
     "exception": false,
     "start_time": "2023-04-08T20:04:47.938677",
     "status": "completed"
    },
    "tags": []
   },
   "source": [
    "Adasyn"
   ]
  },
  {
   "cell_type": "code",
   "execution_count": 29,
   "id": "3a66b3ad",
   "metadata": {
    "_cell_guid": "b237a9b4-c079-4bc1-841b-07d2a4f4d4c7",
    "_uuid": "9a722ab0-ed7b-4dfe-b336-b06c2ed9f72a",
    "collapsed": false,
    "execution": {
     "iopub.execute_input": "2023-04-08T20:04:48.030649Z",
     "iopub.status.busy": "2023-04-08T20:04:48.030251Z",
     "iopub.status.idle": "2023-04-08T20:04:53.300641Z",
     "shell.execute_reply": "2023-04-08T20:04:53.299379Z"
    },
    "jupyter": {
     "outputs_hidden": false
    },
    "papermill": {
     "duration": 5.302051,
     "end_time": "2023-04-08T20:04:53.303368",
     "exception": false,
     "start_time": "2023-04-08T20:04:48.001317",
     "status": "completed"
    },
    "tags": []
   },
   "outputs": [
    {
     "data": {
      "text/html": [
       "<div>\n",
       "<style scoped>\n",
       "    .dataframe tbody tr th:only-of-type {\n",
       "        vertical-align: middle;\n",
       "    }\n",
       "\n",
       "    .dataframe tbody tr th {\n",
       "        vertical-align: top;\n",
       "    }\n",
       "\n",
       "    .dataframe thead th {\n",
       "        text-align: right;\n",
       "    }\n",
       "</style>\n",
       "<table border=\"1\" class=\"dataframe\">\n",
       "  <thead>\n",
       "    <tr style=\"text-align: right;\">\n",
       "      <th></th>\n",
       "      <th>model</th>\n",
       "      <th>resampling</th>\n",
       "      <th>recall</th>\n",
       "      <th>precision</th>\n",
       "      <th>f1</th>\n",
       "      <th>accuracy</th>\n",
       "      <th>auc</th>\n",
       "    </tr>\n",
       "  </thead>\n",
       "  <tbody>\n",
       "    <tr>\n",
       "      <th>0</th>\n",
       "      <td>logistict Regression</td>\n",
       "      <td>No</td>\n",
       "      <td>0.554328</td>\n",
       "      <td>0.797191</td>\n",
       "      <td>0.653938</td>\n",
       "      <td>0.948569</td>\n",
       "      <td>0.941450</td>\n",
       "    </tr>\n",
       "    <tr>\n",
       "      <th>1</th>\n",
       "      <td>logistict Regression</td>\n",
       "      <td>Random oversampling</td>\n",
       "      <td>0.886140</td>\n",
       "      <td>0.361035</td>\n",
       "      <td>0.513044</td>\n",
       "      <td>0.852537</td>\n",
       "      <td>0.943272</td>\n",
       "    </tr>\n",
       "    <tr>\n",
       "      <th>2</th>\n",
       "      <td>logistict Regression</td>\n",
       "      <td>Smote oversampling</td>\n",
       "      <td>0.886283</td>\n",
       "      <td>0.360810</td>\n",
       "      <td>0.512841</td>\n",
       "      <td>0.852394</td>\n",
       "      <td>0.943270</td>\n",
       "    </tr>\n",
       "    <tr>\n",
       "      <th>3</th>\n",
       "      <td>logistict Regression</td>\n",
       "      <td>Borderline smote oversampling</td>\n",
       "      <td>0.929488</td>\n",
       "      <td>0.298945</td>\n",
       "      <td>0.452391</td>\n",
       "      <td>0.802737</td>\n",
       "      <td>0.940498</td>\n",
       "    </tr>\n",
       "    <tr>\n",
       "      <th>4</th>\n",
       "      <td>logistict Regression</td>\n",
       "      <td>Adasyn oversampling</td>\n",
       "      <td>0.927991</td>\n",
       "      <td>0.304368</td>\n",
       "      <td>0.458391</td>\n",
       "      <td>0.807763</td>\n",
       "      <td>0.941535</td>\n",
       "    </tr>\n",
       "  </tbody>\n",
       "</table>\n",
       "</div>"
      ],
      "text/plain": [
       "                  model                     resampling    recall  precision  \\\n",
       "0  logistict Regression                             No  0.554328   0.797191   \n",
       "1  logistict Regression            Random oversampling  0.886140   0.361035   \n",
       "2  logistict Regression             Smote oversampling  0.886283   0.360810   \n",
       "3  logistict Regression  Borderline smote oversampling  0.929488   0.298945   \n",
       "4  logistict Regression            Adasyn oversampling  0.927991   0.304368   \n",
       "\n",
       "         f1  accuracy       auc  \n",
       "0  0.653938  0.948569  0.941450  \n",
       "1  0.513044  0.852537  0.943272  \n",
       "2  0.512841  0.852394  0.943270  \n",
       "3  0.452391  0.802737  0.940498  \n",
       "4  0.458391  0.807763  0.941535  "
      ]
     },
     "execution_count": 29,
     "metadata": {},
     "output_type": "execute_result"
    }
   ],
   "source": [
    "log_reg = LogisticRegression(random_state=2023, multi_class='ovr', n_jobs=-1)\n",
    "log_reg.fit(X_train_ada, y_train_ada)\n",
    "\n",
    "y_val_pred = log_reg.predict(X_val)\n",
    "y_val_pred_prob = log_reg.predict_proba(X_val)\n",
    "\n",
    "score[\"model\"].append(\"logistict Regression\")\n",
    "score[\"resampling\"].append(\"Adasyn oversampling\")\n",
    "score[\"recall\"].append(recall_score(y_val, y_val_pred))\n",
    "score[\"precision\"].append(precision_score(y_val, y_val_pred))\n",
    "score[\"f1\"].append(f1_score(y_val, y_val_pred))\n",
    "score[\"accuracy\"].append(accuracy_score(y_val, y_val_pred))\n",
    "score[\"auc\"].append(roc_auc_score(y_val, y_val_pred_prob[:, 1]))\n",
    "\n",
    "pd.DataFrame.from_dict(score)"
   ]
  },
  {
   "cell_type": "markdown",
   "id": "ca7c8db3",
   "metadata": {
    "_cell_guid": "cffd0024-d7cf-4cd1-834a-50fbc1142090",
    "_uuid": "d26a2cc6-4b5a-49b5-aa95-eabbfee086ac",
    "papermill": {
     "duration": 0.027216,
     "end_time": "2023-04-08T20:04:53.358325",
     "exception": false,
     "start_time": "2023-04-08T20:04:53.331109",
     "status": "completed"
    },
    "tags": []
   },
   "source": [
    "Class Weights"
   ]
  },
  {
   "cell_type": "code",
   "execution_count": 30,
   "id": "5c3cdc1f",
   "metadata": {
    "_cell_guid": "fc878391-0b4b-47e3-8ae5-97c127cfba6b",
    "_uuid": "843545eb-65f2-4bf7-8ab3-69d5194552a0",
    "collapsed": false,
    "execution": {
     "iopub.execute_input": "2023-04-08T20:04:53.416867Z",
     "iopub.status.busy": "2023-04-08T20:04:53.416450Z",
     "iopub.status.idle": "2023-04-08T20:04:57.179523Z",
     "shell.execute_reply": "2023-04-08T20:04:57.178217Z"
    },
    "jupyter": {
     "outputs_hidden": false
    },
    "papermill": {
     "duration": 3.796292,
     "end_time": "2023-04-08T20:04:57.182253",
     "exception": false,
     "start_time": "2023-04-08T20:04:53.385961",
     "status": "completed"
    },
    "tags": []
   },
   "outputs": [
    {
     "data": {
      "text/html": [
       "<div>\n",
       "<style scoped>\n",
       "    .dataframe tbody tr th:only-of-type {\n",
       "        vertical-align: middle;\n",
       "    }\n",
       "\n",
       "    .dataframe tbody tr th {\n",
       "        vertical-align: top;\n",
       "    }\n",
       "\n",
       "    .dataframe thead th {\n",
       "        text-align: right;\n",
       "    }\n",
       "</style>\n",
       "<table border=\"1\" class=\"dataframe\">\n",
       "  <thead>\n",
       "    <tr style=\"text-align: right;\">\n",
       "      <th></th>\n",
       "      <th>model</th>\n",
       "      <th>resampling</th>\n",
       "      <th>recall</th>\n",
       "      <th>precision</th>\n",
       "      <th>f1</th>\n",
       "      <th>accuracy</th>\n",
       "      <th>auc</th>\n",
       "    </tr>\n",
       "  </thead>\n",
       "  <tbody>\n",
       "    <tr>\n",
       "      <th>0</th>\n",
       "      <td>logistict Regression</td>\n",
       "      <td>No</td>\n",
       "      <td>0.554328</td>\n",
       "      <td>0.797191</td>\n",
       "      <td>0.653938</td>\n",
       "      <td>0.948569</td>\n",
       "      <td>0.941450</td>\n",
       "    </tr>\n",
       "    <tr>\n",
       "      <th>1</th>\n",
       "      <td>logistict Regression</td>\n",
       "      <td>Random oversampling</td>\n",
       "      <td>0.886140</td>\n",
       "      <td>0.361035</td>\n",
       "      <td>0.513044</td>\n",
       "      <td>0.852537</td>\n",
       "      <td>0.943272</td>\n",
       "    </tr>\n",
       "    <tr>\n",
       "      <th>2</th>\n",
       "      <td>logistict Regression</td>\n",
       "      <td>Smote oversampling</td>\n",
       "      <td>0.886283</td>\n",
       "      <td>0.360810</td>\n",
       "      <td>0.512841</td>\n",
       "      <td>0.852394</td>\n",
       "      <td>0.943270</td>\n",
       "    </tr>\n",
       "    <tr>\n",
       "      <th>3</th>\n",
       "      <td>logistict Regression</td>\n",
       "      <td>Borderline smote oversampling</td>\n",
       "      <td>0.929488</td>\n",
       "      <td>0.298945</td>\n",
       "      <td>0.452391</td>\n",
       "      <td>0.802737</td>\n",
       "      <td>0.940498</td>\n",
       "    </tr>\n",
       "    <tr>\n",
       "      <th>4</th>\n",
       "      <td>logistict Regression</td>\n",
       "      <td>Adasyn oversampling</td>\n",
       "      <td>0.927991</td>\n",
       "      <td>0.304368</td>\n",
       "      <td>0.458391</td>\n",
       "      <td>0.807763</td>\n",
       "      <td>0.941535</td>\n",
       "    </tr>\n",
       "    <tr>\n",
       "      <th>5</th>\n",
       "      <td>logistict Regression</td>\n",
       "      <td>Class weight</td>\n",
       "      <td>0.886497</td>\n",
       "      <td>0.360793</td>\n",
       "      <td>0.512859</td>\n",
       "      <td>0.852369</td>\n",
       "      <td>0.943262</td>\n",
       "    </tr>\n",
       "  </tbody>\n",
       "</table>\n",
       "</div>"
      ],
      "text/plain": [
       "                  model                     resampling    recall  precision  \\\n",
       "0  logistict Regression                             No  0.554328   0.797191   \n",
       "1  logistict Regression            Random oversampling  0.886140   0.361035   \n",
       "2  logistict Regression             Smote oversampling  0.886283   0.360810   \n",
       "3  logistict Regression  Borderline smote oversampling  0.929488   0.298945   \n",
       "4  logistict Regression            Adasyn oversampling  0.927991   0.304368   \n",
       "5  logistict Regression                   Class weight  0.886497   0.360793   \n",
       "\n",
       "         f1  accuracy       auc  \n",
       "0  0.653938  0.948569  0.941450  \n",
       "1  0.513044  0.852537  0.943272  \n",
       "2  0.512841  0.852394  0.943270  \n",
       "3  0.452391  0.802737  0.940498  \n",
       "4  0.458391  0.807763  0.941535  \n",
       "5  0.512859  0.852369  0.943262  "
      ]
     },
     "execution_count": 30,
     "metadata": {},
     "output_type": "execute_result"
    }
   ],
   "source": [
    "log_reg = LogisticRegression(random_state=2023, multi_class='ovr', class_weight=\"balanced\", n_jobs=-1)\n",
    "log_reg.fit(X_train, y_train)\n",
    "\n",
    "y_val_pred = log_reg.predict(X_val)\n",
    "y_val_pred_prob = log_reg.predict_proba(X_val)\n",
    "\n",
    "score[\"model\"].append(\"logistict Regression\")\n",
    "score[\"resampling\"].append(\"Class weight\")\n",
    "score[\"recall\"].append(recall_score(y_val, y_val_pred))\n",
    "score[\"precision\"].append(precision_score(y_val, y_val_pred))\n",
    "score[\"f1\"].append(f1_score(y_val, y_val_pred))\n",
    "score[\"accuracy\"].append(accuracy_score(y_val, y_val_pred))\n",
    "score[\"auc\"].append(roc_auc_score(y_val, y_val_pred_prob[:, 1]))\n",
    "\n",
    "pd.DataFrame.from_dict(score)"
   ]
  },
  {
   "cell_type": "markdown",
   "id": "1b0b772c",
   "metadata": {
    "_cell_guid": "9b8cbca0-a3ab-456b-981e-8e56ffef00fb",
    "_uuid": "2add85dd-3585-4b23-9105-e0bb5e3dee19",
    "papermill": {
     "duration": 0.027203,
     "end_time": "2023-04-08T20:04:57.237155",
     "exception": false,
     "start_time": "2023-04-08T20:04:57.209952",
     "status": "completed"
    },
    "tags": []
   },
   "source": [
    "## Decision Tree Classifier"
   ]
  },
  {
   "cell_type": "code",
   "execution_count": 31,
   "id": "f7f1b3c1",
   "metadata": {
    "_cell_guid": "a49ade99-4bee-4c87-9347-9ce8a28629e3",
    "_uuid": "4593fe86-6ac4-47d1-b8ba-643a389a24c5",
    "collapsed": false,
    "execution": {
     "iopub.execute_input": "2023-04-08T20:04:57.294742Z",
     "iopub.status.busy": "2023-04-08T20:04:57.293375Z",
     "iopub.status.idle": "2023-04-08T20:04:57.299125Z",
     "shell.execute_reply": "2023-04-08T20:04:57.298008Z"
    },
    "jupyter": {
     "outputs_hidden": false
    },
    "papermill": {
     "duration": 0.036902,
     "end_time": "2023-04-08T20:04:57.301475",
     "exception": false,
     "start_time": "2023-04-08T20:04:57.264573",
     "status": "completed"
    },
    "tags": []
   },
   "outputs": [],
   "source": [
    "from sklearn.tree import DecisionTreeClassifier"
   ]
  },
  {
   "cell_type": "markdown",
   "id": "48e74b5c",
   "metadata": {
    "_cell_guid": "6c5a9b3e-c5e9-49a9-8347-a05b338f8da1",
    "_uuid": "dd80bb46-baa1-41e7-9d10-6c74cf067b08",
    "papermill": {
     "duration": 0.027235,
     "end_time": "2023-04-08T20:04:57.356285",
     "exception": false,
     "start_time": "2023-04-08T20:04:57.329050",
     "status": "completed"
    },
    "tags": []
   },
   "source": [
    "No oversampling"
   ]
  },
  {
   "cell_type": "code",
   "execution_count": 32,
   "id": "45ae8b55",
   "metadata": {
    "_cell_guid": "88e098d8-3ec6-482f-aa37-ef4696f9f675",
    "_uuid": "aa3f082e-74a1-47bf-ae1f-0716b1bd9979",
    "collapsed": false,
    "execution": {
     "iopub.execute_input": "2023-04-08T20:04:57.414940Z",
     "iopub.status.busy": "2023-04-08T20:04:57.414480Z",
     "iopub.status.idle": "2023-04-08T20:04:59.669884Z",
     "shell.execute_reply": "2023-04-08T20:04:59.668545Z"
    },
    "jupyter": {
     "outputs_hidden": false
    },
    "papermill": {
     "duration": 2.288837,
     "end_time": "2023-04-08T20:04:59.672738",
     "exception": false,
     "start_time": "2023-04-08T20:04:57.383901",
     "status": "completed"
    },
    "tags": []
   },
   "outputs": [
    {
     "data": {
      "text/html": [
       "<div>\n",
       "<style scoped>\n",
       "    .dataframe tbody tr th:only-of-type {\n",
       "        vertical-align: middle;\n",
       "    }\n",
       "\n",
       "    .dataframe tbody tr th {\n",
       "        vertical-align: top;\n",
       "    }\n",
       "\n",
       "    .dataframe thead th {\n",
       "        text-align: right;\n",
       "    }\n",
       "</style>\n",
       "<table border=\"1\" class=\"dataframe\">\n",
       "  <thead>\n",
       "    <tr style=\"text-align: right;\">\n",
       "      <th></th>\n",
       "      <th>model</th>\n",
       "      <th>resampling</th>\n",
       "      <th>recall</th>\n",
       "      <th>precision</th>\n",
       "      <th>f1</th>\n",
       "      <th>accuracy</th>\n",
       "      <th>auc</th>\n",
       "    </tr>\n",
       "  </thead>\n",
       "  <tbody>\n",
       "    <tr>\n",
       "      <th>0</th>\n",
       "      <td>logistict Regression</td>\n",
       "      <td>No</td>\n",
       "      <td>0.554328</td>\n",
       "      <td>0.797191</td>\n",
       "      <td>0.653938</td>\n",
       "      <td>0.948569</td>\n",
       "      <td>0.941450</td>\n",
       "    </tr>\n",
       "    <tr>\n",
       "      <th>1</th>\n",
       "      <td>logistict Regression</td>\n",
       "      <td>Random oversampling</td>\n",
       "      <td>0.886140</td>\n",
       "      <td>0.361035</td>\n",
       "      <td>0.513044</td>\n",
       "      <td>0.852537</td>\n",
       "      <td>0.943272</td>\n",
       "    </tr>\n",
       "    <tr>\n",
       "      <th>2</th>\n",
       "      <td>logistict Regression</td>\n",
       "      <td>Smote oversampling</td>\n",
       "      <td>0.886283</td>\n",
       "      <td>0.360810</td>\n",
       "      <td>0.512841</td>\n",
       "      <td>0.852394</td>\n",
       "      <td>0.943270</td>\n",
       "    </tr>\n",
       "    <tr>\n",
       "      <th>3</th>\n",
       "      <td>logistict Regression</td>\n",
       "      <td>Borderline smote oversampling</td>\n",
       "      <td>0.929488</td>\n",
       "      <td>0.298945</td>\n",
       "      <td>0.452391</td>\n",
       "      <td>0.802737</td>\n",
       "      <td>0.940498</td>\n",
       "    </tr>\n",
       "    <tr>\n",
       "      <th>4</th>\n",
       "      <td>logistict Regression</td>\n",
       "      <td>Adasyn oversampling</td>\n",
       "      <td>0.927991</td>\n",
       "      <td>0.304368</td>\n",
       "      <td>0.458391</td>\n",
       "      <td>0.807763</td>\n",
       "      <td>0.941535</td>\n",
       "    </tr>\n",
       "    <tr>\n",
       "      <th>5</th>\n",
       "      <td>logistict Regression</td>\n",
       "      <td>Class weight</td>\n",
       "      <td>0.886497</td>\n",
       "      <td>0.360793</td>\n",
       "      <td>0.512859</td>\n",
       "      <td>0.852369</td>\n",
       "      <td>0.943262</td>\n",
       "    </tr>\n",
       "    <tr>\n",
       "      <th>6</th>\n",
       "      <td>Decision Tree Classifier</td>\n",
       "      <td>No</td>\n",
       "      <td>1.000000</td>\n",
       "      <td>0.999929</td>\n",
       "      <td>0.999964</td>\n",
       "      <td>0.999994</td>\n",
       "      <td>0.999997</td>\n",
       "    </tr>\n",
       "  </tbody>\n",
       "</table>\n",
       "</div>"
      ],
      "text/plain": [
       "                      model                     resampling    recall  \\\n",
       "0      logistict Regression                             No  0.554328   \n",
       "1      logistict Regression            Random oversampling  0.886140   \n",
       "2      logistict Regression             Smote oversampling  0.886283   \n",
       "3      logistict Regression  Borderline smote oversampling  0.929488   \n",
       "4      logistict Regression            Adasyn oversampling  0.927991   \n",
       "5      logistict Regression                   Class weight  0.886497   \n",
       "6  Decision Tree Classifier                             No  1.000000   \n",
       "\n",
       "   precision        f1  accuracy       auc  \n",
       "0   0.797191  0.653938  0.948569  0.941450  \n",
       "1   0.361035  0.513044  0.852537  0.943272  \n",
       "2   0.360810  0.512841  0.852394  0.943270  \n",
       "3   0.298945  0.452391  0.802737  0.940498  \n",
       "4   0.304368  0.458391  0.807763  0.941535  \n",
       "5   0.360793  0.512859  0.852369  0.943262  \n",
       "6   0.999929  0.999964  0.999994  0.999997  "
      ]
     },
     "execution_count": 32,
     "metadata": {},
     "output_type": "execute_result"
    }
   ],
   "source": [
    "clf_tree = DecisionTreeClassifier(random_state=2023)\n",
    "clf_tree.fit(X_train, y_train)\n",
    "\n",
    "y_val_pred = clf_tree.predict(X_val)\n",
    "y_val_pred_prob = clf_tree.predict_proba(X_val)\n",
    "\n",
    "score[\"model\"].append(\"Decision Tree Classifier\")\n",
    "score[\"resampling\"].append(\"No\")\n",
    "score[\"recall\"].append(recall_score(y_val, y_val_pred))\n",
    "score[\"precision\"].append(precision_score(y_val, y_val_pred))\n",
    "score[\"f1\"].append(f1_score(y_val, y_val_pred))\n",
    "score[\"accuracy\"].append(accuracy_score(y_val, y_val_pred))\n",
    "score[\"auc\"].append(roc_auc_score(y_val, y_val_pred_prob[:, 1]))\n",
    "\n",
    "pd.DataFrame.from_dict(score)"
   ]
  },
  {
   "cell_type": "markdown",
   "id": "bec491f9",
   "metadata": {
    "_cell_guid": "05a2ca67-5364-4eca-8969-959eb5e53d96",
    "_uuid": "23df1d7f-18aa-47db-a33c-660064d9b411",
    "papermill": {
     "duration": 0.028099,
     "end_time": "2023-04-08T20:04:59.729258",
     "exception": false,
     "start_time": "2023-04-08T20:04:59.701159",
     "status": "completed"
    },
    "tags": []
   },
   "source": [
    "Random Oversampling"
   ]
  },
  {
   "cell_type": "code",
   "execution_count": 33,
   "id": "633e786a",
   "metadata": {
    "_cell_guid": "d2e0376c-ecb3-4fe4-8a14-f8060c92e70c",
    "_uuid": "cad85955-9fe4-42e5-9640-624189396957",
    "collapsed": false,
    "execution": {
     "iopub.execute_input": "2023-04-08T20:04:59.787949Z",
     "iopub.status.busy": "2023-04-08T20:04:59.787129Z",
     "iopub.status.idle": "2023-04-08T20:05:03.635390Z",
     "shell.execute_reply": "2023-04-08T20:05:03.634224Z"
    },
    "jupyter": {
     "outputs_hidden": false
    },
    "papermill": {
     "duration": 3.880541,
     "end_time": "2023-04-08T20:05:03.638020",
     "exception": false,
     "start_time": "2023-04-08T20:04:59.757479",
     "status": "completed"
    },
    "tags": []
   },
   "outputs": [
    {
     "data": {
      "text/html": [
       "<div>\n",
       "<style scoped>\n",
       "    .dataframe tbody tr th:only-of-type {\n",
       "        vertical-align: middle;\n",
       "    }\n",
       "\n",
       "    .dataframe tbody tr th {\n",
       "        vertical-align: top;\n",
       "    }\n",
       "\n",
       "    .dataframe thead th {\n",
       "        text-align: right;\n",
       "    }\n",
       "</style>\n",
       "<table border=\"1\" class=\"dataframe\">\n",
       "  <thead>\n",
       "    <tr style=\"text-align: right;\">\n",
       "      <th></th>\n",
       "      <th>model</th>\n",
       "      <th>resampling</th>\n",
       "      <th>recall</th>\n",
       "      <th>precision</th>\n",
       "      <th>f1</th>\n",
       "      <th>accuracy</th>\n",
       "      <th>auc</th>\n",
       "    </tr>\n",
       "  </thead>\n",
       "  <tbody>\n",
       "    <tr>\n",
       "      <th>0</th>\n",
       "      <td>logistict Regression</td>\n",
       "      <td>No</td>\n",
       "      <td>0.554328</td>\n",
       "      <td>0.797191</td>\n",
       "      <td>0.653938</td>\n",
       "      <td>0.948569</td>\n",
       "      <td>0.941450</td>\n",
       "    </tr>\n",
       "    <tr>\n",
       "      <th>1</th>\n",
       "      <td>logistict Regression</td>\n",
       "      <td>Random oversampling</td>\n",
       "      <td>0.886140</td>\n",
       "      <td>0.361035</td>\n",
       "      <td>0.513044</td>\n",
       "      <td>0.852537</td>\n",
       "      <td>0.943272</td>\n",
       "    </tr>\n",
       "    <tr>\n",
       "      <th>2</th>\n",
       "      <td>logistict Regression</td>\n",
       "      <td>Smote oversampling</td>\n",
       "      <td>0.886283</td>\n",
       "      <td>0.360810</td>\n",
       "      <td>0.512841</td>\n",
       "      <td>0.852394</td>\n",
       "      <td>0.943270</td>\n",
       "    </tr>\n",
       "    <tr>\n",
       "      <th>3</th>\n",
       "      <td>logistict Regression</td>\n",
       "      <td>Borderline smote oversampling</td>\n",
       "      <td>0.929488</td>\n",
       "      <td>0.298945</td>\n",
       "      <td>0.452391</td>\n",
       "      <td>0.802737</td>\n",
       "      <td>0.940498</td>\n",
       "    </tr>\n",
       "    <tr>\n",
       "      <th>4</th>\n",
       "      <td>logistict Regression</td>\n",
       "      <td>Adasyn oversampling</td>\n",
       "      <td>0.927991</td>\n",
       "      <td>0.304368</td>\n",
       "      <td>0.458391</td>\n",
       "      <td>0.807763</td>\n",
       "      <td>0.941535</td>\n",
       "    </tr>\n",
       "    <tr>\n",
       "      <th>5</th>\n",
       "      <td>logistict Regression</td>\n",
       "      <td>Class weight</td>\n",
       "      <td>0.886497</td>\n",
       "      <td>0.360793</td>\n",
       "      <td>0.512859</td>\n",
       "      <td>0.852369</td>\n",
       "      <td>0.943262</td>\n",
       "    </tr>\n",
       "    <tr>\n",
       "      <th>6</th>\n",
       "      <td>Decision Tree Classifier</td>\n",
       "      <td>No</td>\n",
       "      <td>1.000000</td>\n",
       "      <td>0.999929</td>\n",
       "      <td>0.999964</td>\n",
       "      <td>0.999994</td>\n",
       "      <td>0.999997</td>\n",
       "    </tr>\n",
       "    <tr>\n",
       "      <th>7</th>\n",
       "      <td>Decision Tree Classifier</td>\n",
       "      <td>Random oversampling</td>\n",
       "      <td>1.000000</td>\n",
       "      <td>0.999929</td>\n",
       "      <td>0.999964</td>\n",
       "      <td>0.999994</td>\n",
       "      <td>0.999997</td>\n",
       "    </tr>\n",
       "  </tbody>\n",
       "</table>\n",
       "</div>"
      ],
      "text/plain": [
       "                      model                     resampling    recall  \\\n",
       "0      logistict Regression                             No  0.554328   \n",
       "1      logistict Regression            Random oversampling  0.886140   \n",
       "2      logistict Regression             Smote oversampling  0.886283   \n",
       "3      logistict Regression  Borderline smote oversampling  0.929488   \n",
       "4      logistict Regression            Adasyn oversampling  0.927991   \n",
       "5      logistict Regression                   Class weight  0.886497   \n",
       "6  Decision Tree Classifier                             No  1.000000   \n",
       "7  Decision Tree Classifier            Random oversampling  1.000000   \n",
       "\n",
       "   precision        f1  accuracy       auc  \n",
       "0   0.797191  0.653938  0.948569  0.941450  \n",
       "1   0.361035  0.513044  0.852537  0.943272  \n",
       "2   0.360810  0.512841  0.852394  0.943270  \n",
       "3   0.298945  0.452391  0.802737  0.940498  \n",
       "4   0.304368  0.458391  0.807763  0.941535  \n",
       "5   0.360793  0.512859  0.852369  0.943262  \n",
       "6   0.999929  0.999964  0.999994  0.999997  \n",
       "7   0.999929  0.999964  0.999994  0.999997  "
      ]
     },
     "execution_count": 33,
     "metadata": {},
     "output_type": "execute_result"
    }
   ],
   "source": [
    "clf_tree = DecisionTreeClassifier(random_state=2023)\n",
    "clf_tree.fit(X_train_rand, y_train_rand)\n",
    "\n",
    "y_val_pred = clf_tree.predict(X_val)\n",
    "y_val_pred_prob = clf_tree.predict_proba(X_val)\n",
    "\n",
    "score[\"model\"].append(\"Decision Tree Classifier\")\n",
    "score[\"resampling\"].append(\"Random oversampling\")\n",
    "score[\"recall\"].append(recall_score(y_val, y_val_pred))\n",
    "score[\"precision\"].append(precision_score(y_val, y_val_pred))\n",
    "score[\"f1\"].append(f1_score(y_val, y_val_pred))\n",
    "score[\"accuracy\"].append(accuracy_score(y_val, y_val_pred))\n",
    "score[\"auc\"].append(roc_auc_score(y_val, y_val_pred_prob[:, 1]))\n",
    "\n",
    "pd.DataFrame.from_dict(score)"
   ]
  },
  {
   "cell_type": "markdown",
   "id": "797908db",
   "metadata": {
    "_cell_guid": "3e33ca8f-f812-4b03-86c8-1b7e8aa5756b",
    "_uuid": "39af4870-3b0f-4aba-bede-c6d8194f3668",
    "papermill": {
     "duration": 0.028048,
     "end_time": "2023-04-08T20:05:03.694681",
     "exception": false,
     "start_time": "2023-04-08T20:05:03.666633",
     "status": "completed"
    },
    "tags": []
   },
   "source": [
    "Smote"
   ]
  },
  {
   "cell_type": "code",
   "execution_count": 34,
   "id": "8180ad1d",
   "metadata": {
    "_cell_guid": "10035e68-02ee-4db5-8480-1508edd3491e",
    "_uuid": "ed0577dd-5266-4de0-ab54-f1eb3f11e621",
    "collapsed": false,
    "execution": {
     "iopub.execute_input": "2023-04-08T20:05:03.754100Z",
     "iopub.status.busy": "2023-04-08T20:05:03.752955Z",
     "iopub.status.idle": "2023-04-08T20:05:10.567644Z",
     "shell.execute_reply": "2023-04-08T20:05:10.566287Z"
    },
    "jupyter": {
     "outputs_hidden": false
    },
    "papermill": {
     "duration": 6.846793,
     "end_time": "2023-04-08T20:05:10.570019",
     "exception": false,
     "start_time": "2023-04-08T20:05:03.723226",
     "status": "completed"
    },
    "tags": []
   },
   "outputs": [
    {
     "data": {
      "text/html": [
       "<div>\n",
       "<style scoped>\n",
       "    .dataframe tbody tr th:only-of-type {\n",
       "        vertical-align: middle;\n",
       "    }\n",
       "\n",
       "    .dataframe tbody tr th {\n",
       "        vertical-align: top;\n",
       "    }\n",
       "\n",
       "    .dataframe thead th {\n",
       "        text-align: right;\n",
       "    }\n",
       "</style>\n",
       "<table border=\"1\" class=\"dataframe\">\n",
       "  <thead>\n",
       "    <tr style=\"text-align: right;\">\n",
       "      <th></th>\n",
       "      <th>model</th>\n",
       "      <th>resampling</th>\n",
       "      <th>recall</th>\n",
       "      <th>precision</th>\n",
       "      <th>f1</th>\n",
       "      <th>accuracy</th>\n",
       "      <th>auc</th>\n",
       "    </tr>\n",
       "  </thead>\n",
       "  <tbody>\n",
       "    <tr>\n",
       "      <th>0</th>\n",
       "      <td>logistict Regression</td>\n",
       "      <td>No</td>\n",
       "      <td>0.554328</td>\n",
       "      <td>0.797191</td>\n",
       "      <td>0.653938</td>\n",
       "      <td>0.948569</td>\n",
       "      <td>0.941450</td>\n",
       "    </tr>\n",
       "    <tr>\n",
       "      <th>1</th>\n",
       "      <td>logistict Regression</td>\n",
       "      <td>Random oversampling</td>\n",
       "      <td>0.886140</td>\n",
       "      <td>0.361035</td>\n",
       "      <td>0.513044</td>\n",
       "      <td>0.852537</td>\n",
       "      <td>0.943272</td>\n",
       "    </tr>\n",
       "    <tr>\n",
       "      <th>2</th>\n",
       "      <td>logistict Regression</td>\n",
       "      <td>Smote oversampling</td>\n",
       "      <td>0.886283</td>\n",
       "      <td>0.360810</td>\n",
       "      <td>0.512841</td>\n",
       "      <td>0.852394</td>\n",
       "      <td>0.943270</td>\n",
       "    </tr>\n",
       "    <tr>\n",
       "      <th>3</th>\n",
       "      <td>logistict Regression</td>\n",
       "      <td>Borderline smote oversampling</td>\n",
       "      <td>0.929488</td>\n",
       "      <td>0.298945</td>\n",
       "      <td>0.452391</td>\n",
       "      <td>0.802737</td>\n",
       "      <td>0.940498</td>\n",
       "    </tr>\n",
       "    <tr>\n",
       "      <th>4</th>\n",
       "      <td>logistict Regression</td>\n",
       "      <td>Adasyn oversampling</td>\n",
       "      <td>0.927991</td>\n",
       "      <td>0.304368</td>\n",
       "      <td>0.458391</td>\n",
       "      <td>0.807763</td>\n",
       "      <td>0.941535</td>\n",
       "    </tr>\n",
       "    <tr>\n",
       "      <th>5</th>\n",
       "      <td>logistict Regression</td>\n",
       "      <td>Class weight</td>\n",
       "      <td>0.886497</td>\n",
       "      <td>0.360793</td>\n",
       "      <td>0.512859</td>\n",
       "      <td>0.852369</td>\n",
       "      <td>0.943262</td>\n",
       "    </tr>\n",
       "    <tr>\n",
       "      <th>6</th>\n",
       "      <td>Decision Tree Classifier</td>\n",
       "      <td>No</td>\n",
       "      <td>1.000000</td>\n",
       "      <td>0.999929</td>\n",
       "      <td>0.999964</td>\n",
       "      <td>0.999994</td>\n",
       "      <td>0.999997</td>\n",
       "    </tr>\n",
       "    <tr>\n",
       "      <th>7</th>\n",
       "      <td>Decision Tree Classifier</td>\n",
       "      <td>Random oversampling</td>\n",
       "      <td>1.000000</td>\n",
       "      <td>0.999929</td>\n",
       "      <td>0.999964</td>\n",
       "      <td>0.999994</td>\n",
       "      <td>0.999997</td>\n",
       "    </tr>\n",
       "    <tr>\n",
       "      <th>8</th>\n",
       "      <td>Decision Tree Classifier</td>\n",
       "      <td>Smote oversampling</td>\n",
       "      <td>1.000000</td>\n",
       "      <td>0.999786</td>\n",
       "      <td>0.999893</td>\n",
       "      <td>0.999981</td>\n",
       "      <td>0.999990</td>\n",
       "    </tr>\n",
       "  </tbody>\n",
       "</table>\n",
       "</div>"
      ],
      "text/plain": [
       "                      model                     resampling    recall  \\\n",
       "0      logistict Regression                             No  0.554328   \n",
       "1      logistict Regression            Random oversampling  0.886140   \n",
       "2      logistict Regression             Smote oversampling  0.886283   \n",
       "3      logistict Regression  Borderline smote oversampling  0.929488   \n",
       "4      logistict Regression            Adasyn oversampling  0.927991   \n",
       "5      logistict Regression                   Class weight  0.886497   \n",
       "6  Decision Tree Classifier                             No  1.000000   \n",
       "7  Decision Tree Classifier            Random oversampling  1.000000   \n",
       "8  Decision Tree Classifier             Smote oversampling  1.000000   \n",
       "\n",
       "   precision        f1  accuracy       auc  \n",
       "0   0.797191  0.653938  0.948569  0.941450  \n",
       "1   0.361035  0.513044  0.852537  0.943272  \n",
       "2   0.360810  0.512841  0.852394  0.943270  \n",
       "3   0.298945  0.452391  0.802737  0.940498  \n",
       "4   0.304368  0.458391  0.807763  0.941535  \n",
       "5   0.360793  0.512859  0.852369  0.943262  \n",
       "6   0.999929  0.999964  0.999994  0.999997  \n",
       "7   0.999929  0.999964  0.999994  0.999997  \n",
       "8   0.999786  0.999893  0.999981  0.999990  "
      ]
     },
     "execution_count": 34,
     "metadata": {},
     "output_type": "execute_result"
    }
   ],
   "source": [
    "clf_tree = DecisionTreeClassifier(random_state=2023)\n",
    "clf_tree.fit(X_train_smote, y_train_smote)\n",
    "\n",
    "y_val_pred = clf_tree.predict(X_val)\n",
    "y_val_pred_prob = clf_tree.predict_proba(X_val)\n",
    "\n",
    "score[\"model\"].append(\"Decision Tree Classifier\")\n",
    "score[\"resampling\"].append(\"Smote oversampling\")\n",
    "score[\"recall\"].append(recall_score(y_val, y_val_pred))\n",
    "score[\"precision\"].append(precision_score(y_val, y_val_pred))\n",
    "score[\"f1\"].append(f1_score(y_val, y_val_pred))\n",
    "score[\"accuracy\"].append(accuracy_score(y_val, y_val_pred))\n",
    "score[\"auc\"].append(roc_auc_score(y_val, y_val_pred_prob[:, 1]))\n",
    "\n",
    "pd.DataFrame.from_dict(score)"
   ]
  },
  {
   "cell_type": "markdown",
   "id": "d40350aa",
   "metadata": {
    "_cell_guid": "855f0c7a-993b-4290-b583-9afde69fafc1",
    "_uuid": "1e721adf-9608-43a3-8cd9-7f581713b306",
    "papermill": {
     "duration": 0.02911,
     "end_time": "2023-04-08T20:05:10.627866",
     "exception": false,
     "start_time": "2023-04-08T20:05:10.598756",
     "status": "completed"
    },
    "tags": []
   },
   "source": [
    "Borderline Smote"
   ]
  },
  {
   "cell_type": "code",
   "execution_count": 35,
   "id": "7f8a2f5b",
   "metadata": {
    "_cell_guid": "1dd1696a-6a47-4dca-a3e9-781605a6a4e2",
    "_uuid": "1f85eb6b-f287-4def-b308-b0b9bda379e6",
    "collapsed": false,
    "execution": {
     "iopub.execute_input": "2023-04-08T20:05:10.688273Z",
     "iopub.status.busy": "2023-04-08T20:05:10.687083Z",
     "iopub.status.idle": "2023-04-08T20:05:18.225168Z",
     "shell.execute_reply": "2023-04-08T20:05:18.223910Z"
    },
    "jupyter": {
     "outputs_hidden": false
    },
    "papermill": {
     "duration": 7.570956,
     "end_time": "2023-04-08T20:05:18.227543",
     "exception": false,
     "start_time": "2023-04-08T20:05:10.656587",
     "status": "completed"
    },
    "tags": []
   },
   "outputs": [
    {
     "data": {
      "text/html": [
       "<div>\n",
       "<style scoped>\n",
       "    .dataframe tbody tr th:only-of-type {\n",
       "        vertical-align: middle;\n",
       "    }\n",
       "\n",
       "    .dataframe tbody tr th {\n",
       "        vertical-align: top;\n",
       "    }\n",
       "\n",
       "    .dataframe thead th {\n",
       "        text-align: right;\n",
       "    }\n",
       "</style>\n",
       "<table border=\"1\" class=\"dataframe\">\n",
       "  <thead>\n",
       "    <tr style=\"text-align: right;\">\n",
       "      <th></th>\n",
       "      <th>model</th>\n",
       "      <th>resampling</th>\n",
       "      <th>recall</th>\n",
       "      <th>precision</th>\n",
       "      <th>f1</th>\n",
       "      <th>accuracy</th>\n",
       "      <th>auc</th>\n",
       "    </tr>\n",
       "  </thead>\n",
       "  <tbody>\n",
       "    <tr>\n",
       "      <th>0</th>\n",
       "      <td>logistict Regression</td>\n",
       "      <td>No</td>\n",
       "      <td>0.554328</td>\n",
       "      <td>0.797191</td>\n",
       "      <td>0.653938</td>\n",
       "      <td>0.948569</td>\n",
       "      <td>0.941450</td>\n",
       "    </tr>\n",
       "    <tr>\n",
       "      <th>1</th>\n",
       "      <td>logistict Regression</td>\n",
       "      <td>Random oversampling</td>\n",
       "      <td>0.886140</td>\n",
       "      <td>0.361035</td>\n",
       "      <td>0.513044</td>\n",
       "      <td>0.852537</td>\n",
       "      <td>0.943272</td>\n",
       "    </tr>\n",
       "    <tr>\n",
       "      <th>2</th>\n",
       "      <td>logistict Regression</td>\n",
       "      <td>Smote oversampling</td>\n",
       "      <td>0.886283</td>\n",
       "      <td>0.360810</td>\n",
       "      <td>0.512841</td>\n",
       "      <td>0.852394</td>\n",
       "      <td>0.943270</td>\n",
       "    </tr>\n",
       "    <tr>\n",
       "      <th>3</th>\n",
       "      <td>logistict Regression</td>\n",
       "      <td>Borderline smote oversampling</td>\n",
       "      <td>0.929488</td>\n",
       "      <td>0.298945</td>\n",
       "      <td>0.452391</td>\n",
       "      <td>0.802737</td>\n",
       "      <td>0.940498</td>\n",
       "    </tr>\n",
       "    <tr>\n",
       "      <th>4</th>\n",
       "      <td>logistict Regression</td>\n",
       "      <td>Adasyn oversampling</td>\n",
       "      <td>0.927991</td>\n",
       "      <td>0.304368</td>\n",
       "      <td>0.458391</td>\n",
       "      <td>0.807763</td>\n",
       "      <td>0.941535</td>\n",
       "    </tr>\n",
       "    <tr>\n",
       "      <th>5</th>\n",
       "      <td>logistict Regression</td>\n",
       "      <td>Class weight</td>\n",
       "      <td>0.886497</td>\n",
       "      <td>0.360793</td>\n",
       "      <td>0.512859</td>\n",
       "      <td>0.852369</td>\n",
       "      <td>0.943262</td>\n",
       "    </tr>\n",
       "    <tr>\n",
       "      <th>6</th>\n",
       "      <td>Decision Tree Classifier</td>\n",
       "      <td>No</td>\n",
       "      <td>1.000000</td>\n",
       "      <td>0.999929</td>\n",
       "      <td>0.999964</td>\n",
       "      <td>0.999994</td>\n",
       "      <td>0.999997</td>\n",
       "    </tr>\n",
       "    <tr>\n",
       "      <th>7</th>\n",
       "      <td>Decision Tree Classifier</td>\n",
       "      <td>Random oversampling</td>\n",
       "      <td>1.000000</td>\n",
       "      <td>0.999929</td>\n",
       "      <td>0.999964</td>\n",
       "      <td>0.999994</td>\n",
       "      <td>0.999997</td>\n",
       "    </tr>\n",
       "    <tr>\n",
       "      <th>8</th>\n",
       "      <td>Decision Tree Classifier</td>\n",
       "      <td>Smote oversampling</td>\n",
       "      <td>1.000000</td>\n",
       "      <td>0.999786</td>\n",
       "      <td>0.999893</td>\n",
       "      <td>0.999981</td>\n",
       "      <td>0.999990</td>\n",
       "    </tr>\n",
       "    <tr>\n",
       "      <th>9</th>\n",
       "      <td>Decision Tree Classifier</td>\n",
       "      <td>Borderline smote oversampling</td>\n",
       "      <td>1.000000</td>\n",
       "      <td>0.999288</td>\n",
       "      <td>0.999644</td>\n",
       "      <td>0.999938</td>\n",
       "      <td>0.999966</td>\n",
       "    </tr>\n",
       "  </tbody>\n",
       "</table>\n",
       "</div>"
      ],
      "text/plain": [
       "                      model                     resampling    recall  \\\n",
       "0      logistict Regression                             No  0.554328   \n",
       "1      logistict Regression            Random oversampling  0.886140   \n",
       "2      logistict Regression             Smote oversampling  0.886283   \n",
       "3      logistict Regression  Borderline smote oversampling  0.929488   \n",
       "4      logistict Regression            Adasyn oversampling  0.927991   \n",
       "5      logistict Regression                   Class weight  0.886497   \n",
       "6  Decision Tree Classifier                             No  1.000000   \n",
       "7  Decision Tree Classifier            Random oversampling  1.000000   \n",
       "8  Decision Tree Classifier             Smote oversampling  1.000000   \n",
       "9  Decision Tree Classifier  Borderline smote oversampling  1.000000   \n",
       "\n",
       "   precision        f1  accuracy       auc  \n",
       "0   0.797191  0.653938  0.948569  0.941450  \n",
       "1   0.361035  0.513044  0.852537  0.943272  \n",
       "2   0.360810  0.512841  0.852394  0.943270  \n",
       "3   0.298945  0.452391  0.802737  0.940498  \n",
       "4   0.304368  0.458391  0.807763  0.941535  \n",
       "5   0.360793  0.512859  0.852369  0.943262  \n",
       "6   0.999929  0.999964  0.999994  0.999997  \n",
       "7   0.999929  0.999964  0.999994  0.999997  \n",
       "8   0.999786  0.999893  0.999981  0.999990  \n",
       "9   0.999288  0.999644  0.999938  0.999966  "
      ]
     },
     "execution_count": 35,
     "metadata": {},
     "output_type": "execute_result"
    }
   ],
   "source": [
    "clf_tree = DecisionTreeClassifier(random_state=2023)\n",
    "clf_tree.fit(X_train_bord, y_train_bord)\n",
    "\n",
    "y_val_pred = clf_tree.predict(X_val)\n",
    "y_val_pred_prob = clf_tree.predict_proba(X_val)\n",
    "\n",
    "score[\"model\"].append(\"Decision Tree Classifier\")\n",
    "score[\"resampling\"].append(\"Borderline smote oversampling\")\n",
    "score[\"recall\"].append(recall_score(y_val, y_val_pred))\n",
    "score[\"precision\"].append(precision_score(y_val, y_val_pred))\n",
    "score[\"f1\"].append(f1_score(y_val, y_val_pred))\n",
    "score[\"accuracy\"].append(accuracy_score(y_val, y_val_pred))\n",
    "score[\"auc\"].append(roc_auc_score(y_val, y_val_pred_prob[:, 1]))\n",
    "\n",
    "pd.DataFrame.from_dict(score)"
   ]
  },
  {
   "cell_type": "markdown",
   "id": "604afb37",
   "metadata": {
    "_cell_guid": "f7d584fd-f9aa-41a1-9e0b-0073a3974990",
    "_uuid": "ea7dcf2b-2a9a-447a-a835-692d603cfe94",
    "papermill": {
     "duration": 0.02887,
     "end_time": "2023-04-08T20:05:18.285407",
     "exception": false,
     "start_time": "2023-04-08T20:05:18.256537",
     "status": "completed"
    },
    "tags": []
   },
   "source": [
    "Adasyn"
   ]
  },
  {
   "cell_type": "code",
   "execution_count": 36,
   "id": "abd393d9",
   "metadata": {
    "_cell_guid": "dc7de086-5611-4f48-bd0a-441ac273f704",
    "_uuid": "965076dc-5ea8-4b00-a0e5-a9d77000b9a8",
    "collapsed": false,
    "execution": {
     "iopub.execute_input": "2023-04-08T20:05:18.345970Z",
     "iopub.status.busy": "2023-04-08T20:05:18.345202Z",
     "iopub.status.idle": "2023-04-08T20:05:25.440621Z",
     "shell.execute_reply": "2023-04-08T20:05:25.439480Z"
    },
    "jupyter": {
     "outputs_hidden": false
    },
    "papermill": {
     "duration": 7.129025,
     "end_time": "2023-04-08T20:05:25.443522",
     "exception": false,
     "start_time": "2023-04-08T20:05:18.314497",
     "status": "completed"
    },
    "tags": []
   },
   "outputs": [
    {
     "data": {
      "text/html": [
       "<div>\n",
       "<style scoped>\n",
       "    .dataframe tbody tr th:only-of-type {\n",
       "        vertical-align: middle;\n",
       "    }\n",
       "\n",
       "    .dataframe tbody tr th {\n",
       "        vertical-align: top;\n",
       "    }\n",
       "\n",
       "    .dataframe thead th {\n",
       "        text-align: right;\n",
       "    }\n",
       "</style>\n",
       "<table border=\"1\" class=\"dataframe\">\n",
       "  <thead>\n",
       "    <tr style=\"text-align: right;\">\n",
       "      <th></th>\n",
       "      <th>model</th>\n",
       "      <th>resampling</th>\n",
       "      <th>recall</th>\n",
       "      <th>precision</th>\n",
       "      <th>f1</th>\n",
       "      <th>accuracy</th>\n",
       "      <th>auc</th>\n",
       "    </tr>\n",
       "  </thead>\n",
       "  <tbody>\n",
       "    <tr>\n",
       "      <th>0</th>\n",
       "      <td>logistict Regression</td>\n",
       "      <td>No</td>\n",
       "      <td>0.554328</td>\n",
       "      <td>0.797191</td>\n",
       "      <td>0.653938</td>\n",
       "      <td>0.948569</td>\n",
       "      <td>0.941450</td>\n",
       "    </tr>\n",
       "    <tr>\n",
       "      <th>1</th>\n",
       "      <td>logistict Regression</td>\n",
       "      <td>Random oversampling</td>\n",
       "      <td>0.886140</td>\n",
       "      <td>0.361035</td>\n",
       "      <td>0.513044</td>\n",
       "      <td>0.852537</td>\n",
       "      <td>0.943272</td>\n",
       "    </tr>\n",
       "    <tr>\n",
       "      <th>2</th>\n",
       "      <td>logistict Regression</td>\n",
       "      <td>Smote oversampling</td>\n",
       "      <td>0.886283</td>\n",
       "      <td>0.360810</td>\n",
       "      <td>0.512841</td>\n",
       "      <td>0.852394</td>\n",
       "      <td>0.943270</td>\n",
       "    </tr>\n",
       "    <tr>\n",
       "      <th>3</th>\n",
       "      <td>logistict Regression</td>\n",
       "      <td>Borderline smote oversampling</td>\n",
       "      <td>0.929488</td>\n",
       "      <td>0.298945</td>\n",
       "      <td>0.452391</td>\n",
       "      <td>0.802737</td>\n",
       "      <td>0.940498</td>\n",
       "    </tr>\n",
       "    <tr>\n",
       "      <th>4</th>\n",
       "      <td>logistict Regression</td>\n",
       "      <td>Adasyn oversampling</td>\n",
       "      <td>0.927991</td>\n",
       "      <td>0.304368</td>\n",
       "      <td>0.458391</td>\n",
       "      <td>0.807763</td>\n",
       "      <td>0.941535</td>\n",
       "    </tr>\n",
       "    <tr>\n",
       "      <th>5</th>\n",
       "      <td>logistict Regression</td>\n",
       "      <td>Class weight</td>\n",
       "      <td>0.886497</td>\n",
       "      <td>0.360793</td>\n",
       "      <td>0.512859</td>\n",
       "      <td>0.852369</td>\n",
       "      <td>0.943262</td>\n",
       "    </tr>\n",
       "    <tr>\n",
       "      <th>6</th>\n",
       "      <td>Decision Tree Classifier</td>\n",
       "      <td>No</td>\n",
       "      <td>1.000000</td>\n",
       "      <td>0.999929</td>\n",
       "      <td>0.999964</td>\n",
       "      <td>0.999994</td>\n",
       "      <td>0.999997</td>\n",
       "    </tr>\n",
       "    <tr>\n",
       "      <th>7</th>\n",
       "      <td>Decision Tree Classifier</td>\n",
       "      <td>Random oversampling</td>\n",
       "      <td>1.000000</td>\n",
       "      <td>0.999929</td>\n",
       "      <td>0.999964</td>\n",
       "      <td>0.999994</td>\n",
       "      <td>0.999997</td>\n",
       "    </tr>\n",
       "    <tr>\n",
       "      <th>8</th>\n",
       "      <td>Decision Tree Classifier</td>\n",
       "      <td>Smote oversampling</td>\n",
       "      <td>1.000000</td>\n",
       "      <td>0.999786</td>\n",
       "      <td>0.999893</td>\n",
       "      <td>0.999981</td>\n",
       "      <td>0.999990</td>\n",
       "    </tr>\n",
       "    <tr>\n",
       "      <th>9</th>\n",
       "      <td>Decision Tree Classifier</td>\n",
       "      <td>Borderline smote oversampling</td>\n",
       "      <td>1.000000</td>\n",
       "      <td>0.999288</td>\n",
       "      <td>0.999644</td>\n",
       "      <td>0.999938</td>\n",
       "      <td>0.999966</td>\n",
       "    </tr>\n",
       "    <tr>\n",
       "      <th>10</th>\n",
       "      <td>Decision Tree Classifier</td>\n",
       "      <td>Adasyn oversampling</td>\n",
       "      <td>1.000000</td>\n",
       "      <td>0.999145</td>\n",
       "      <td>0.999572</td>\n",
       "      <td>0.999925</td>\n",
       "      <td>0.999959</td>\n",
       "    </tr>\n",
       "  </tbody>\n",
       "</table>\n",
       "</div>"
      ],
      "text/plain": [
       "                       model                     resampling    recall  \\\n",
       "0       logistict Regression                             No  0.554328   \n",
       "1       logistict Regression            Random oversampling  0.886140   \n",
       "2       logistict Regression             Smote oversampling  0.886283   \n",
       "3       logistict Regression  Borderline smote oversampling  0.929488   \n",
       "4       logistict Regression            Adasyn oversampling  0.927991   \n",
       "5       logistict Regression                   Class weight  0.886497   \n",
       "6   Decision Tree Classifier                             No  1.000000   \n",
       "7   Decision Tree Classifier            Random oversampling  1.000000   \n",
       "8   Decision Tree Classifier             Smote oversampling  1.000000   \n",
       "9   Decision Tree Classifier  Borderline smote oversampling  1.000000   \n",
       "10  Decision Tree Classifier            Adasyn oversampling  1.000000   \n",
       "\n",
       "    precision        f1  accuracy       auc  \n",
       "0    0.797191  0.653938  0.948569  0.941450  \n",
       "1    0.361035  0.513044  0.852537  0.943272  \n",
       "2    0.360810  0.512841  0.852394  0.943270  \n",
       "3    0.298945  0.452391  0.802737  0.940498  \n",
       "4    0.304368  0.458391  0.807763  0.941535  \n",
       "5    0.360793  0.512859  0.852369  0.943262  \n",
       "6    0.999929  0.999964  0.999994  0.999997  \n",
       "7    0.999929  0.999964  0.999994  0.999997  \n",
       "8    0.999786  0.999893  0.999981  0.999990  \n",
       "9    0.999288  0.999644  0.999938  0.999966  \n",
       "10   0.999145  0.999572  0.999925  0.999959  "
      ]
     },
     "execution_count": 36,
     "metadata": {},
     "output_type": "execute_result"
    }
   ],
   "source": [
    "clf_tree = DecisionTreeClassifier(random_state=2023)\n",
    "clf_tree.fit(X_train_ada, y_train_ada)\n",
    "\n",
    "y_val_pred = clf_tree.predict(X_val)\n",
    "y_val_pred_prob = clf_tree.predict_proba(X_val)\n",
    "\n",
    "score[\"model\"].append(\"Decision Tree Classifier\")\n",
    "score[\"resampling\"].append(\"Adasyn oversampling\")\n",
    "score[\"recall\"].append(recall_score(y_val, y_val_pred))\n",
    "score[\"precision\"].append(precision_score(y_val, y_val_pred))\n",
    "score[\"f1\"].append(f1_score(y_val, y_val_pred))\n",
    "score[\"accuracy\"].append(accuracy_score(y_val, y_val_pred))\n",
    "score[\"auc\"].append(roc_auc_score(y_val, y_val_pred_prob[:, 1]))\n",
    "\n",
    "pd.DataFrame.from_dict(score)"
   ]
  },
  {
   "cell_type": "markdown",
   "id": "a3543182",
   "metadata": {
    "_cell_guid": "03b9af39-5588-4bd6-9786-18f9eaa7d79e",
    "_uuid": "7b6c0b72-7198-4c26-bef8-a266a1bf3ce6",
    "papermill": {
     "duration": 0.029448,
     "end_time": "2023-04-08T20:05:25.502474",
     "exception": false,
     "start_time": "2023-04-08T20:05:25.473026",
     "status": "completed"
    },
    "tags": []
   },
   "source": [
    "Class Weights"
   ]
  },
  {
   "cell_type": "code",
   "execution_count": 37,
   "id": "69cda477",
   "metadata": {
    "_cell_guid": "8cfb7b45-1030-4e18-a7ea-4f35b770dfd8",
    "_uuid": "d3bc7c0f-3c92-4117-abca-582282eacb7a",
    "collapsed": false,
    "execution": {
     "iopub.execute_input": "2023-04-08T20:05:25.562897Z",
     "iopub.status.busy": "2023-04-08T20:05:25.562454Z",
     "iopub.status.idle": "2023-04-08T20:05:28.130882Z",
     "shell.execute_reply": "2023-04-08T20:05:28.129779Z"
    },
    "jupyter": {
     "outputs_hidden": false
    },
    "papermill": {
     "duration": 2.601718,
     "end_time": "2023-04-08T20:05:28.133581",
     "exception": false,
     "start_time": "2023-04-08T20:05:25.531863",
     "status": "completed"
    },
    "tags": []
   },
   "outputs": [
    {
     "data": {
      "text/html": [
       "<div>\n",
       "<style scoped>\n",
       "    .dataframe tbody tr th:only-of-type {\n",
       "        vertical-align: middle;\n",
       "    }\n",
       "\n",
       "    .dataframe tbody tr th {\n",
       "        vertical-align: top;\n",
       "    }\n",
       "\n",
       "    .dataframe thead th {\n",
       "        text-align: right;\n",
       "    }\n",
       "</style>\n",
       "<table border=\"1\" class=\"dataframe\">\n",
       "  <thead>\n",
       "    <tr style=\"text-align: right;\">\n",
       "      <th></th>\n",
       "      <th>model</th>\n",
       "      <th>resampling</th>\n",
       "      <th>recall</th>\n",
       "      <th>precision</th>\n",
       "      <th>f1</th>\n",
       "      <th>accuracy</th>\n",
       "      <th>auc</th>\n",
       "    </tr>\n",
       "  </thead>\n",
       "  <tbody>\n",
       "    <tr>\n",
       "      <th>0</th>\n",
       "      <td>logistict Regression</td>\n",
       "      <td>No</td>\n",
       "      <td>0.554328</td>\n",
       "      <td>0.797191</td>\n",
       "      <td>0.653938</td>\n",
       "      <td>0.948569</td>\n",
       "      <td>0.941450</td>\n",
       "    </tr>\n",
       "    <tr>\n",
       "      <th>1</th>\n",
       "      <td>logistict Regression</td>\n",
       "      <td>Random oversampling</td>\n",
       "      <td>0.886140</td>\n",
       "      <td>0.361035</td>\n",
       "      <td>0.513044</td>\n",
       "      <td>0.852537</td>\n",
       "      <td>0.943272</td>\n",
       "    </tr>\n",
       "    <tr>\n",
       "      <th>2</th>\n",
       "      <td>logistict Regression</td>\n",
       "      <td>Smote oversampling</td>\n",
       "      <td>0.886283</td>\n",
       "      <td>0.360810</td>\n",
       "      <td>0.512841</td>\n",
       "      <td>0.852394</td>\n",
       "      <td>0.943270</td>\n",
       "    </tr>\n",
       "    <tr>\n",
       "      <th>3</th>\n",
       "      <td>logistict Regression</td>\n",
       "      <td>Borderline smote oversampling</td>\n",
       "      <td>0.929488</td>\n",
       "      <td>0.298945</td>\n",
       "      <td>0.452391</td>\n",
       "      <td>0.802737</td>\n",
       "      <td>0.940498</td>\n",
       "    </tr>\n",
       "    <tr>\n",
       "      <th>4</th>\n",
       "      <td>logistict Regression</td>\n",
       "      <td>Adasyn oversampling</td>\n",
       "      <td>0.927991</td>\n",
       "      <td>0.304368</td>\n",
       "      <td>0.458391</td>\n",
       "      <td>0.807763</td>\n",
       "      <td>0.941535</td>\n",
       "    </tr>\n",
       "    <tr>\n",
       "      <th>5</th>\n",
       "      <td>logistict Regression</td>\n",
       "      <td>Class weight</td>\n",
       "      <td>0.886497</td>\n",
       "      <td>0.360793</td>\n",
       "      <td>0.512859</td>\n",
       "      <td>0.852369</td>\n",
       "      <td>0.943262</td>\n",
       "    </tr>\n",
       "    <tr>\n",
       "      <th>6</th>\n",
       "      <td>Decision Tree Classifier</td>\n",
       "      <td>No</td>\n",
       "      <td>1.000000</td>\n",
       "      <td>0.999929</td>\n",
       "      <td>0.999964</td>\n",
       "      <td>0.999994</td>\n",
       "      <td>0.999997</td>\n",
       "    </tr>\n",
       "    <tr>\n",
       "      <th>7</th>\n",
       "      <td>Decision Tree Classifier</td>\n",
       "      <td>Random oversampling</td>\n",
       "      <td>1.000000</td>\n",
       "      <td>0.999929</td>\n",
       "      <td>0.999964</td>\n",
       "      <td>0.999994</td>\n",
       "      <td>0.999997</td>\n",
       "    </tr>\n",
       "    <tr>\n",
       "      <th>8</th>\n",
       "      <td>Decision Tree Classifier</td>\n",
       "      <td>Smote oversampling</td>\n",
       "      <td>1.000000</td>\n",
       "      <td>0.999786</td>\n",
       "      <td>0.999893</td>\n",
       "      <td>0.999981</td>\n",
       "      <td>0.999990</td>\n",
       "    </tr>\n",
       "    <tr>\n",
       "      <th>9</th>\n",
       "      <td>Decision Tree Classifier</td>\n",
       "      <td>Borderline smote oversampling</td>\n",
       "      <td>1.000000</td>\n",
       "      <td>0.999288</td>\n",
       "      <td>0.999644</td>\n",
       "      <td>0.999938</td>\n",
       "      <td>0.999966</td>\n",
       "    </tr>\n",
       "    <tr>\n",
       "      <th>10</th>\n",
       "      <td>Decision Tree Classifier</td>\n",
       "      <td>Adasyn oversampling</td>\n",
       "      <td>1.000000</td>\n",
       "      <td>0.999145</td>\n",
       "      <td>0.999572</td>\n",
       "      <td>0.999925</td>\n",
       "      <td>0.999959</td>\n",
       "    </tr>\n",
       "    <tr>\n",
       "      <th>11</th>\n",
       "      <td>Decision Tree Classifier</td>\n",
       "      <td>Class weight</td>\n",
       "      <td>1.000000</td>\n",
       "      <td>0.999929</td>\n",
       "      <td>0.999964</td>\n",
       "      <td>0.999994</td>\n",
       "      <td>0.999997</td>\n",
       "    </tr>\n",
       "  </tbody>\n",
       "</table>\n",
       "</div>"
      ],
      "text/plain": [
       "                       model                     resampling    recall  \\\n",
       "0       logistict Regression                             No  0.554328   \n",
       "1       logistict Regression            Random oversampling  0.886140   \n",
       "2       logistict Regression             Smote oversampling  0.886283   \n",
       "3       logistict Regression  Borderline smote oversampling  0.929488   \n",
       "4       logistict Regression            Adasyn oversampling  0.927991   \n",
       "5       logistict Regression                   Class weight  0.886497   \n",
       "6   Decision Tree Classifier                             No  1.000000   \n",
       "7   Decision Tree Classifier            Random oversampling  1.000000   \n",
       "8   Decision Tree Classifier             Smote oversampling  1.000000   \n",
       "9   Decision Tree Classifier  Borderline smote oversampling  1.000000   \n",
       "10  Decision Tree Classifier            Adasyn oversampling  1.000000   \n",
       "11  Decision Tree Classifier                   Class weight  1.000000   \n",
       "\n",
       "    precision        f1  accuracy       auc  \n",
       "0    0.797191  0.653938  0.948569  0.941450  \n",
       "1    0.361035  0.513044  0.852537  0.943272  \n",
       "2    0.360810  0.512841  0.852394  0.943270  \n",
       "3    0.298945  0.452391  0.802737  0.940498  \n",
       "4    0.304368  0.458391  0.807763  0.941535  \n",
       "5    0.360793  0.512859  0.852369  0.943262  \n",
       "6    0.999929  0.999964  0.999994  0.999997  \n",
       "7    0.999929  0.999964  0.999994  0.999997  \n",
       "8    0.999786  0.999893  0.999981  0.999990  \n",
       "9    0.999288  0.999644  0.999938  0.999966  \n",
       "10   0.999145  0.999572  0.999925  0.999959  \n",
       "11   0.999929  0.999964  0.999994  0.999997  "
      ]
     },
     "execution_count": 37,
     "metadata": {},
     "output_type": "execute_result"
    }
   ],
   "source": [
    "clf_tree = DecisionTreeClassifier(random_state=2023, class_weight=\"balanced\")\n",
    "clf_tree.fit(X_train, y_train)\n",
    "\n",
    "y_val_pred = clf_tree.predict(X_val)\n",
    "y_val_pred_prob = clf_tree.predict_proba(X_val)\n",
    "\n",
    "score[\"model\"].append(\"Decision Tree Classifier\")\n",
    "score[\"resampling\"].append(\"Class weight\")\n",
    "score[\"recall\"].append(recall_score(y_val, y_val_pred))\n",
    "score[\"precision\"].append(precision_score(y_val, y_val_pred))\n",
    "score[\"f1\"].append(f1_score(y_val, y_val_pred))\n",
    "score[\"accuracy\"].append(accuracy_score(y_val, y_val_pred))\n",
    "score[\"auc\"].append(roc_auc_score(y_val, y_val_pred_prob[:, 1]))\n",
    "\n",
    "pd.DataFrame.from_dict(score)"
   ]
  },
  {
   "cell_type": "markdown",
   "id": "b377dae3",
   "metadata": {
    "_cell_guid": "fa625797-fa30-4061-87b1-829f286ac33a",
    "_uuid": "590f7baa-b313-400d-a8bc-798600760a2b",
    "papermill": {
     "duration": 0.029526,
     "end_time": "2023-04-08T20:05:28.193555",
     "exception": false,
     "start_time": "2023-04-08T20:05:28.164029",
     "status": "completed"
    },
    "tags": []
   },
   "source": [
    "## K Neighbors Classifier"
   ]
  },
  {
   "cell_type": "code",
   "execution_count": 38,
   "id": "913647a4",
   "metadata": {
    "_cell_guid": "8136e8fa-9d22-449f-94a3-05383a117fad",
    "_uuid": "cfd8c382-9247-4604-ab66-a3ba93004c4c",
    "collapsed": false,
    "execution": {
     "iopub.execute_input": "2023-04-08T20:05:28.254871Z",
     "iopub.status.busy": "2023-04-08T20:05:28.254017Z",
     "iopub.status.idle": "2023-04-08T20:05:28.259229Z",
     "shell.execute_reply": "2023-04-08T20:05:28.258083Z"
    },
    "jupyter": {
     "outputs_hidden": false
    },
    "papermill": {
     "duration": 0.038749,
     "end_time": "2023-04-08T20:05:28.261742",
     "exception": false,
     "start_time": "2023-04-08T20:05:28.222993",
     "status": "completed"
    },
    "tags": []
   },
   "outputs": [],
   "source": [
    "from sklearn.neighbors import KNeighborsClassifier"
   ]
  },
  {
   "cell_type": "markdown",
   "id": "7e234331",
   "metadata": {
    "_cell_guid": "c77d6364-6e69-477d-9019-3ee8fa8dcc26",
    "_uuid": "ba9fb38b-da51-4ac3-bf5c-514da9259703",
    "papermill": {
     "duration": 0.029316,
     "end_time": "2023-04-08T20:05:28.320893",
     "exception": false,
     "start_time": "2023-04-08T20:05:28.291577",
     "status": "completed"
    },
    "tags": []
   },
   "source": [
    "No oversampling"
   ]
  },
  {
   "cell_type": "code",
   "execution_count": 39,
   "id": "36feb778",
   "metadata": {
    "_cell_guid": "1bd2cc53-fa6f-4e1f-b18e-cd7db1417072",
    "_uuid": "90a8923a-9a7f-4a32-8200-1794378a6006",
    "collapsed": false,
    "execution": {
     "iopub.execute_input": "2023-04-08T20:05:28.382616Z",
     "iopub.status.busy": "2023-04-08T20:05:28.381823Z",
     "iopub.status.idle": "2023-04-08T20:05:44.386749Z",
     "shell.execute_reply": "2023-04-08T20:05:44.385458Z"
    },
    "jupyter": {
     "outputs_hidden": false
    },
    "papermill": {
     "duration": 16.038859,
     "end_time": "2023-04-08T20:05:44.389504",
     "exception": false,
     "start_time": "2023-04-08T20:05:28.350645",
     "status": "completed"
    },
    "tags": []
   },
   "outputs": [
    {
     "data": {
      "text/html": [
       "<div>\n",
       "<style scoped>\n",
       "    .dataframe tbody tr th:only-of-type {\n",
       "        vertical-align: middle;\n",
       "    }\n",
       "\n",
       "    .dataframe tbody tr th {\n",
       "        vertical-align: top;\n",
       "    }\n",
       "\n",
       "    .dataframe thead th {\n",
       "        text-align: right;\n",
       "    }\n",
       "</style>\n",
       "<table border=\"1\" class=\"dataframe\">\n",
       "  <thead>\n",
       "    <tr style=\"text-align: right;\">\n",
       "      <th></th>\n",
       "      <th>model</th>\n",
       "      <th>resampling</th>\n",
       "      <th>recall</th>\n",
       "      <th>precision</th>\n",
       "      <th>f1</th>\n",
       "      <th>accuracy</th>\n",
       "      <th>auc</th>\n",
       "    </tr>\n",
       "  </thead>\n",
       "  <tbody>\n",
       "    <tr>\n",
       "      <th>0</th>\n",
       "      <td>logistict Regression</td>\n",
       "      <td>No</td>\n",
       "      <td>0.554328</td>\n",
       "      <td>0.797191</td>\n",
       "      <td>0.653938</td>\n",
       "      <td>0.948569</td>\n",
       "      <td>0.941450</td>\n",
       "    </tr>\n",
       "    <tr>\n",
       "      <th>1</th>\n",
       "      <td>logistict Regression</td>\n",
       "      <td>Random oversampling</td>\n",
       "      <td>0.886140</td>\n",
       "      <td>0.361035</td>\n",
       "      <td>0.513044</td>\n",
       "      <td>0.852537</td>\n",
       "      <td>0.943272</td>\n",
       "    </tr>\n",
       "    <tr>\n",
       "      <th>2</th>\n",
       "      <td>logistict Regression</td>\n",
       "      <td>Smote oversampling</td>\n",
       "      <td>0.886283</td>\n",
       "      <td>0.360810</td>\n",
       "      <td>0.512841</td>\n",
       "      <td>0.852394</td>\n",
       "      <td>0.943270</td>\n",
       "    </tr>\n",
       "    <tr>\n",
       "      <th>3</th>\n",
       "      <td>logistict Regression</td>\n",
       "      <td>Borderline smote oversampling</td>\n",
       "      <td>0.929488</td>\n",
       "      <td>0.298945</td>\n",
       "      <td>0.452391</td>\n",
       "      <td>0.802737</td>\n",
       "      <td>0.940498</td>\n",
       "    </tr>\n",
       "    <tr>\n",
       "      <th>4</th>\n",
       "      <td>logistict Regression</td>\n",
       "      <td>Adasyn oversampling</td>\n",
       "      <td>0.927991</td>\n",
       "      <td>0.304368</td>\n",
       "      <td>0.458391</td>\n",
       "      <td>0.807763</td>\n",
       "      <td>0.941535</td>\n",
       "    </tr>\n",
       "    <tr>\n",
       "      <th>5</th>\n",
       "      <td>logistict Regression</td>\n",
       "      <td>Class weight</td>\n",
       "      <td>0.886497</td>\n",
       "      <td>0.360793</td>\n",
       "      <td>0.512859</td>\n",
       "      <td>0.852369</td>\n",
       "      <td>0.943262</td>\n",
       "    </tr>\n",
       "    <tr>\n",
       "      <th>6</th>\n",
       "      <td>Decision Tree Classifier</td>\n",
       "      <td>No</td>\n",
       "      <td>1.000000</td>\n",
       "      <td>0.999929</td>\n",
       "      <td>0.999964</td>\n",
       "      <td>0.999994</td>\n",
       "      <td>0.999997</td>\n",
       "    </tr>\n",
       "    <tr>\n",
       "      <th>7</th>\n",
       "      <td>Decision Tree Classifier</td>\n",
       "      <td>Random oversampling</td>\n",
       "      <td>1.000000</td>\n",
       "      <td>0.999929</td>\n",
       "      <td>0.999964</td>\n",
       "      <td>0.999994</td>\n",
       "      <td>0.999997</td>\n",
       "    </tr>\n",
       "    <tr>\n",
       "      <th>8</th>\n",
       "      <td>Decision Tree Classifier</td>\n",
       "      <td>Smote oversampling</td>\n",
       "      <td>1.000000</td>\n",
       "      <td>0.999786</td>\n",
       "      <td>0.999893</td>\n",
       "      <td>0.999981</td>\n",
       "      <td>0.999990</td>\n",
       "    </tr>\n",
       "    <tr>\n",
       "      <th>9</th>\n",
       "      <td>Decision Tree Classifier</td>\n",
       "      <td>Borderline smote oversampling</td>\n",
       "      <td>1.000000</td>\n",
       "      <td>0.999288</td>\n",
       "      <td>0.999644</td>\n",
       "      <td>0.999938</td>\n",
       "      <td>0.999966</td>\n",
       "    </tr>\n",
       "    <tr>\n",
       "      <th>10</th>\n",
       "      <td>Decision Tree Classifier</td>\n",
       "      <td>Adasyn oversampling</td>\n",
       "      <td>1.000000</td>\n",
       "      <td>0.999145</td>\n",
       "      <td>0.999572</td>\n",
       "      <td>0.999925</td>\n",
       "      <td>0.999959</td>\n",
       "    </tr>\n",
       "    <tr>\n",
       "      <th>11</th>\n",
       "      <td>Decision Tree Classifier</td>\n",
       "      <td>Class weight</td>\n",
       "      <td>1.000000</td>\n",
       "      <td>0.999929</td>\n",
       "      <td>0.999964</td>\n",
       "      <td>0.999994</td>\n",
       "      <td>0.999997</td>\n",
       "    </tr>\n",
       "    <tr>\n",
       "      <th>12</th>\n",
       "      <td>K Neighbors Classifier</td>\n",
       "      <td>No</td>\n",
       "      <td>0.965920</td>\n",
       "      <td>0.979114</td>\n",
       "      <td>0.972472</td>\n",
       "      <td>0.995206</td>\n",
       "      <td>0.998918</td>\n",
       "    </tr>\n",
       "  </tbody>\n",
       "</table>\n",
       "</div>"
      ],
      "text/plain": [
       "                       model                     resampling    recall  \\\n",
       "0       logistict Regression                             No  0.554328   \n",
       "1       logistict Regression            Random oversampling  0.886140   \n",
       "2       logistict Regression             Smote oversampling  0.886283   \n",
       "3       logistict Regression  Borderline smote oversampling  0.929488   \n",
       "4       logistict Regression            Adasyn oversampling  0.927991   \n",
       "5       logistict Regression                   Class weight  0.886497   \n",
       "6   Decision Tree Classifier                             No  1.000000   \n",
       "7   Decision Tree Classifier            Random oversampling  1.000000   \n",
       "8   Decision Tree Classifier             Smote oversampling  1.000000   \n",
       "9   Decision Tree Classifier  Borderline smote oversampling  1.000000   \n",
       "10  Decision Tree Classifier            Adasyn oversampling  1.000000   \n",
       "11  Decision Tree Classifier                   Class weight  1.000000   \n",
       "12    K Neighbors Classifier                             No  0.965920   \n",
       "\n",
       "    precision        f1  accuracy       auc  \n",
       "0    0.797191  0.653938  0.948569  0.941450  \n",
       "1    0.361035  0.513044  0.852537  0.943272  \n",
       "2    0.360810  0.512841  0.852394  0.943270  \n",
       "3    0.298945  0.452391  0.802737  0.940498  \n",
       "4    0.304368  0.458391  0.807763  0.941535  \n",
       "5    0.360793  0.512859  0.852369  0.943262  \n",
       "6    0.999929  0.999964  0.999994  0.999997  \n",
       "7    0.999929  0.999964  0.999994  0.999997  \n",
       "8    0.999786  0.999893  0.999981  0.999990  \n",
       "9    0.999288  0.999644  0.999938  0.999966  \n",
       "10   0.999145  0.999572  0.999925  0.999959  \n",
       "11   0.999929  0.999964  0.999994  0.999997  \n",
       "12   0.979114  0.972472  0.995206  0.998918  "
      ]
     },
     "execution_count": 39,
     "metadata": {},
     "output_type": "execute_result"
    }
   ],
   "source": [
    "clf_knn = KNeighborsClassifier(n_jobs=-1)\n",
    "clf_knn.fit(X_train, y_train)\n",
    "\n",
    "y_val_pred = clf_knn.predict(X_val)\n",
    "y_val_pred_prob = clf_knn.predict_proba(X_val)\n",
    "\n",
    "score[\"model\"].append(\"K Neighbors Classifier\")\n",
    "score[\"resampling\"].append(\"No\")\n",
    "score[\"recall\"].append(recall_score(y_val, y_val_pred))\n",
    "score[\"precision\"].append(precision_score(y_val, y_val_pred))\n",
    "score[\"f1\"].append(f1_score(y_val, y_val_pred))\n",
    "score[\"accuracy\"].append(accuracy_score(y_val, y_val_pred))\n",
    "score[\"auc\"].append(roc_auc_score(y_val, y_val_pred_prob[:, 1]))\n",
    "\n",
    "pd.DataFrame.from_dict(score)"
   ]
  },
  {
   "cell_type": "markdown",
   "id": "e2fbee56",
   "metadata": {
    "_cell_guid": "d8ce6553-f157-49ea-ba86-42b1ab8353c7",
    "_uuid": "4184afe6-4730-475a-bd17-ebc2a30f2375",
    "papermill": {
     "duration": 0.030281,
     "end_time": "2023-04-08T20:05:44.450184",
     "exception": false,
     "start_time": "2023-04-08T20:05:44.419903",
     "status": "completed"
    },
    "tags": []
   },
   "source": [
    "Random Oversampling"
   ]
  },
  {
   "cell_type": "code",
   "execution_count": 40,
   "id": "4a320ea2",
   "metadata": {
    "_cell_guid": "f800ddb9-7da8-47f7-9977-08009ac092a7",
    "_uuid": "2cb06d27-3e70-4407-8179-fa97be4625f2",
    "collapsed": false,
    "execution": {
     "iopub.execute_input": "2023-04-08T20:05:44.512255Z",
     "iopub.status.busy": "2023-04-08T20:05:44.511868Z",
     "iopub.status.idle": "2023-04-08T20:06:01.820570Z",
     "shell.execute_reply": "2023-04-08T20:06:01.818994Z"
    },
    "jupyter": {
     "outputs_hidden": false
    },
    "papermill": {
     "duration": 17.342809,
     "end_time": "2023-04-08T20:06:01.823261",
     "exception": false,
     "start_time": "2023-04-08T20:05:44.480452",
     "status": "completed"
    },
    "tags": []
   },
   "outputs": [
    {
     "data": {
      "text/html": [
       "<div>\n",
       "<style scoped>\n",
       "    .dataframe tbody tr th:only-of-type {\n",
       "        vertical-align: middle;\n",
       "    }\n",
       "\n",
       "    .dataframe tbody tr th {\n",
       "        vertical-align: top;\n",
       "    }\n",
       "\n",
       "    .dataframe thead th {\n",
       "        text-align: right;\n",
       "    }\n",
       "</style>\n",
       "<table border=\"1\" class=\"dataframe\">\n",
       "  <thead>\n",
       "    <tr style=\"text-align: right;\">\n",
       "      <th></th>\n",
       "      <th>model</th>\n",
       "      <th>resampling</th>\n",
       "      <th>recall</th>\n",
       "      <th>precision</th>\n",
       "      <th>f1</th>\n",
       "      <th>accuracy</th>\n",
       "      <th>auc</th>\n",
       "    </tr>\n",
       "  </thead>\n",
       "  <tbody>\n",
       "    <tr>\n",
       "      <th>0</th>\n",
       "      <td>logistict Regression</td>\n",
       "      <td>No</td>\n",
       "      <td>0.554328</td>\n",
       "      <td>0.797191</td>\n",
       "      <td>0.653938</td>\n",
       "      <td>0.948569</td>\n",
       "      <td>0.941450</td>\n",
       "    </tr>\n",
       "    <tr>\n",
       "      <th>1</th>\n",
       "      <td>logistict Regression</td>\n",
       "      <td>Random oversampling</td>\n",
       "      <td>0.886140</td>\n",
       "      <td>0.361035</td>\n",
       "      <td>0.513044</td>\n",
       "      <td>0.852537</td>\n",
       "      <td>0.943272</td>\n",
       "    </tr>\n",
       "    <tr>\n",
       "      <th>2</th>\n",
       "      <td>logistict Regression</td>\n",
       "      <td>Smote oversampling</td>\n",
       "      <td>0.886283</td>\n",
       "      <td>0.360810</td>\n",
       "      <td>0.512841</td>\n",
       "      <td>0.852394</td>\n",
       "      <td>0.943270</td>\n",
       "    </tr>\n",
       "    <tr>\n",
       "      <th>3</th>\n",
       "      <td>logistict Regression</td>\n",
       "      <td>Borderline smote oversampling</td>\n",
       "      <td>0.929488</td>\n",
       "      <td>0.298945</td>\n",
       "      <td>0.452391</td>\n",
       "      <td>0.802737</td>\n",
       "      <td>0.940498</td>\n",
       "    </tr>\n",
       "    <tr>\n",
       "      <th>4</th>\n",
       "      <td>logistict Regression</td>\n",
       "      <td>Adasyn oversampling</td>\n",
       "      <td>0.927991</td>\n",
       "      <td>0.304368</td>\n",
       "      <td>0.458391</td>\n",
       "      <td>0.807763</td>\n",
       "      <td>0.941535</td>\n",
       "    </tr>\n",
       "    <tr>\n",
       "      <th>5</th>\n",
       "      <td>logistict Regression</td>\n",
       "      <td>Class weight</td>\n",
       "      <td>0.886497</td>\n",
       "      <td>0.360793</td>\n",
       "      <td>0.512859</td>\n",
       "      <td>0.852369</td>\n",
       "      <td>0.943262</td>\n",
       "    </tr>\n",
       "    <tr>\n",
       "      <th>6</th>\n",
       "      <td>Decision Tree Classifier</td>\n",
       "      <td>No</td>\n",
       "      <td>1.000000</td>\n",
       "      <td>0.999929</td>\n",
       "      <td>0.999964</td>\n",
       "      <td>0.999994</td>\n",
       "      <td>0.999997</td>\n",
       "    </tr>\n",
       "    <tr>\n",
       "      <th>7</th>\n",
       "      <td>Decision Tree Classifier</td>\n",
       "      <td>Random oversampling</td>\n",
       "      <td>1.000000</td>\n",
       "      <td>0.999929</td>\n",
       "      <td>0.999964</td>\n",
       "      <td>0.999994</td>\n",
       "      <td>0.999997</td>\n",
       "    </tr>\n",
       "    <tr>\n",
       "      <th>8</th>\n",
       "      <td>Decision Tree Classifier</td>\n",
       "      <td>Smote oversampling</td>\n",
       "      <td>1.000000</td>\n",
       "      <td>0.999786</td>\n",
       "      <td>0.999893</td>\n",
       "      <td>0.999981</td>\n",
       "      <td>0.999990</td>\n",
       "    </tr>\n",
       "    <tr>\n",
       "      <th>9</th>\n",
       "      <td>Decision Tree Classifier</td>\n",
       "      <td>Borderline smote oversampling</td>\n",
       "      <td>1.000000</td>\n",
       "      <td>0.999288</td>\n",
       "      <td>0.999644</td>\n",
       "      <td>0.999938</td>\n",
       "      <td>0.999966</td>\n",
       "    </tr>\n",
       "    <tr>\n",
       "      <th>10</th>\n",
       "      <td>Decision Tree Classifier</td>\n",
       "      <td>Adasyn oversampling</td>\n",
       "      <td>1.000000</td>\n",
       "      <td>0.999145</td>\n",
       "      <td>0.999572</td>\n",
       "      <td>0.999925</td>\n",
       "      <td>0.999959</td>\n",
       "    </tr>\n",
       "    <tr>\n",
       "      <th>11</th>\n",
       "      <td>Decision Tree Classifier</td>\n",
       "      <td>Class weight</td>\n",
       "      <td>1.000000</td>\n",
       "      <td>0.999929</td>\n",
       "      <td>0.999964</td>\n",
       "      <td>0.999994</td>\n",
       "      <td>0.999997</td>\n",
       "    </tr>\n",
       "    <tr>\n",
       "      <th>12</th>\n",
       "      <td>K Neighbors Classifier</td>\n",
       "      <td>No</td>\n",
       "      <td>0.965920</td>\n",
       "      <td>0.979114</td>\n",
       "      <td>0.972472</td>\n",
       "      <td>0.995206</td>\n",
       "      <td>0.998918</td>\n",
       "    </tr>\n",
       "    <tr>\n",
       "      <th>13</th>\n",
       "      <td>K Neighbors Classifier</td>\n",
       "      <td>Random oversampling</td>\n",
       "      <td>0.992870</td>\n",
       "      <td>0.929950</td>\n",
       "      <td>0.960381</td>\n",
       "      <td>0.992819</td>\n",
       "      <td>0.997750</td>\n",
       "    </tr>\n",
       "  </tbody>\n",
       "</table>\n",
       "</div>"
      ],
      "text/plain": [
       "                       model                     resampling    recall  \\\n",
       "0       logistict Regression                             No  0.554328   \n",
       "1       logistict Regression            Random oversampling  0.886140   \n",
       "2       logistict Regression             Smote oversampling  0.886283   \n",
       "3       logistict Regression  Borderline smote oversampling  0.929488   \n",
       "4       logistict Regression            Adasyn oversampling  0.927991   \n",
       "5       logistict Regression                   Class weight  0.886497   \n",
       "6   Decision Tree Classifier                             No  1.000000   \n",
       "7   Decision Tree Classifier            Random oversampling  1.000000   \n",
       "8   Decision Tree Classifier             Smote oversampling  1.000000   \n",
       "9   Decision Tree Classifier  Borderline smote oversampling  1.000000   \n",
       "10  Decision Tree Classifier            Adasyn oversampling  1.000000   \n",
       "11  Decision Tree Classifier                   Class weight  1.000000   \n",
       "12    K Neighbors Classifier                             No  0.965920   \n",
       "13    K Neighbors Classifier            Random oversampling  0.992870   \n",
       "\n",
       "    precision        f1  accuracy       auc  \n",
       "0    0.797191  0.653938  0.948569  0.941450  \n",
       "1    0.361035  0.513044  0.852537  0.943272  \n",
       "2    0.360810  0.512841  0.852394  0.943270  \n",
       "3    0.298945  0.452391  0.802737  0.940498  \n",
       "4    0.304368  0.458391  0.807763  0.941535  \n",
       "5    0.360793  0.512859  0.852369  0.943262  \n",
       "6    0.999929  0.999964  0.999994  0.999997  \n",
       "7    0.999929  0.999964  0.999994  0.999997  \n",
       "8    0.999786  0.999893  0.999981  0.999990  \n",
       "9    0.999288  0.999644  0.999938  0.999966  \n",
       "10   0.999145  0.999572  0.999925  0.999959  \n",
       "11   0.999929  0.999964  0.999994  0.999997  \n",
       "12   0.979114  0.972472  0.995206  0.998918  \n",
       "13   0.929950  0.960381  0.992819  0.997750  "
      ]
     },
     "execution_count": 40,
     "metadata": {},
     "output_type": "execute_result"
    }
   ],
   "source": [
    "clf_knn = KNeighborsClassifier(n_jobs=-1)\n",
    "clf_knn.fit(X_train_rand, y_train_rand)\n",
    "\n",
    "y_val_pred = clf_knn.predict(X_val)\n",
    "y_val_pred_prob = clf_knn.predict_proba(X_val)\n",
    "\n",
    "score[\"model\"].append(\"K Neighbors Classifier\")\n",
    "score[\"resampling\"].append(\"Random oversampling\")\n",
    "score[\"recall\"].append(recall_score(y_val, y_val_pred))\n",
    "score[\"precision\"].append(precision_score(y_val, y_val_pred))\n",
    "score[\"f1\"].append(f1_score(y_val, y_val_pred))\n",
    "score[\"accuracy\"].append(accuracy_score(y_val, y_val_pred))\n",
    "score[\"auc\"].append(roc_auc_score(y_val, y_val_pred_prob[:, 1]))\n",
    "\n",
    "pd.DataFrame.from_dict(score)"
   ]
  },
  {
   "cell_type": "markdown",
   "id": "3c400330",
   "metadata": {
    "_cell_guid": "00f1c89c-777d-44c8-9315-dd86d114f00b",
    "_uuid": "169ff396-1712-4649-b42f-721cf13e5880",
    "papermill": {
     "duration": 0.029745,
     "end_time": "2023-04-08T20:06:01.883056",
     "exception": false,
     "start_time": "2023-04-08T20:06:01.853311",
     "status": "completed"
    },
    "tags": []
   },
   "source": [
    "Smote"
   ]
  },
  {
   "cell_type": "code",
   "execution_count": 41,
   "id": "2e0f81f0",
   "metadata": {
    "_cell_guid": "27d76635-11e5-424f-b68c-c159dd7f7833",
    "_uuid": "29831370-04d2-4d33-bf51-fb4aa4bb5da7",
    "collapsed": false,
    "execution": {
     "iopub.execute_input": "2023-04-08T20:06:01.944600Z",
     "iopub.status.busy": "2023-04-08T20:06:01.944205Z",
     "iopub.status.idle": "2023-04-08T20:06:19.217676Z",
     "shell.execute_reply": "2023-04-08T20:06:19.216566Z"
    },
    "jupyter": {
     "outputs_hidden": false
    },
    "papermill": {
     "duration": 17.307253,
     "end_time": "2023-04-08T20:06:19.220158",
     "exception": false,
     "start_time": "2023-04-08T20:06:01.912905",
     "status": "completed"
    },
    "tags": []
   },
   "outputs": [
    {
     "data": {
      "text/html": [
       "<div>\n",
       "<style scoped>\n",
       "    .dataframe tbody tr th:only-of-type {\n",
       "        vertical-align: middle;\n",
       "    }\n",
       "\n",
       "    .dataframe tbody tr th {\n",
       "        vertical-align: top;\n",
       "    }\n",
       "\n",
       "    .dataframe thead th {\n",
       "        text-align: right;\n",
       "    }\n",
       "</style>\n",
       "<table border=\"1\" class=\"dataframe\">\n",
       "  <thead>\n",
       "    <tr style=\"text-align: right;\">\n",
       "      <th></th>\n",
       "      <th>model</th>\n",
       "      <th>resampling</th>\n",
       "      <th>recall</th>\n",
       "      <th>precision</th>\n",
       "      <th>f1</th>\n",
       "      <th>accuracy</th>\n",
       "      <th>auc</th>\n",
       "    </tr>\n",
       "  </thead>\n",
       "  <tbody>\n",
       "    <tr>\n",
       "      <th>0</th>\n",
       "      <td>logistict Regression</td>\n",
       "      <td>No</td>\n",
       "      <td>0.554328</td>\n",
       "      <td>0.797191</td>\n",
       "      <td>0.653938</td>\n",
       "      <td>0.948569</td>\n",
       "      <td>0.941450</td>\n",
       "    </tr>\n",
       "    <tr>\n",
       "      <th>1</th>\n",
       "      <td>logistict Regression</td>\n",
       "      <td>Random oversampling</td>\n",
       "      <td>0.886140</td>\n",
       "      <td>0.361035</td>\n",
       "      <td>0.513044</td>\n",
       "      <td>0.852537</td>\n",
       "      <td>0.943272</td>\n",
       "    </tr>\n",
       "    <tr>\n",
       "      <th>2</th>\n",
       "      <td>logistict Regression</td>\n",
       "      <td>Smote oversampling</td>\n",
       "      <td>0.886283</td>\n",
       "      <td>0.360810</td>\n",
       "      <td>0.512841</td>\n",
       "      <td>0.852394</td>\n",
       "      <td>0.943270</td>\n",
       "    </tr>\n",
       "    <tr>\n",
       "      <th>3</th>\n",
       "      <td>logistict Regression</td>\n",
       "      <td>Borderline smote oversampling</td>\n",
       "      <td>0.929488</td>\n",
       "      <td>0.298945</td>\n",
       "      <td>0.452391</td>\n",
       "      <td>0.802737</td>\n",
       "      <td>0.940498</td>\n",
       "    </tr>\n",
       "    <tr>\n",
       "      <th>4</th>\n",
       "      <td>logistict Regression</td>\n",
       "      <td>Adasyn oversampling</td>\n",
       "      <td>0.927991</td>\n",
       "      <td>0.304368</td>\n",
       "      <td>0.458391</td>\n",
       "      <td>0.807763</td>\n",
       "      <td>0.941535</td>\n",
       "    </tr>\n",
       "    <tr>\n",
       "      <th>5</th>\n",
       "      <td>logistict Regression</td>\n",
       "      <td>Class weight</td>\n",
       "      <td>0.886497</td>\n",
       "      <td>0.360793</td>\n",
       "      <td>0.512859</td>\n",
       "      <td>0.852369</td>\n",
       "      <td>0.943262</td>\n",
       "    </tr>\n",
       "    <tr>\n",
       "      <th>6</th>\n",
       "      <td>Decision Tree Classifier</td>\n",
       "      <td>No</td>\n",
       "      <td>1.000000</td>\n",
       "      <td>0.999929</td>\n",
       "      <td>0.999964</td>\n",
       "      <td>0.999994</td>\n",
       "      <td>0.999997</td>\n",
       "    </tr>\n",
       "    <tr>\n",
       "      <th>7</th>\n",
       "      <td>Decision Tree Classifier</td>\n",
       "      <td>Random oversampling</td>\n",
       "      <td>1.000000</td>\n",
       "      <td>0.999929</td>\n",
       "      <td>0.999964</td>\n",
       "      <td>0.999994</td>\n",
       "      <td>0.999997</td>\n",
       "    </tr>\n",
       "    <tr>\n",
       "      <th>8</th>\n",
       "      <td>Decision Tree Classifier</td>\n",
       "      <td>Smote oversampling</td>\n",
       "      <td>1.000000</td>\n",
       "      <td>0.999786</td>\n",
       "      <td>0.999893</td>\n",
       "      <td>0.999981</td>\n",
       "      <td>0.999990</td>\n",
       "    </tr>\n",
       "    <tr>\n",
       "      <th>9</th>\n",
       "      <td>Decision Tree Classifier</td>\n",
       "      <td>Borderline smote oversampling</td>\n",
       "      <td>1.000000</td>\n",
       "      <td>0.999288</td>\n",
       "      <td>0.999644</td>\n",
       "      <td>0.999938</td>\n",
       "      <td>0.999966</td>\n",
       "    </tr>\n",
       "    <tr>\n",
       "      <th>10</th>\n",
       "      <td>Decision Tree Classifier</td>\n",
       "      <td>Adasyn oversampling</td>\n",
       "      <td>1.000000</td>\n",
       "      <td>0.999145</td>\n",
       "      <td>0.999572</td>\n",
       "      <td>0.999925</td>\n",
       "      <td>0.999959</td>\n",
       "    </tr>\n",
       "    <tr>\n",
       "      <th>11</th>\n",
       "      <td>Decision Tree Classifier</td>\n",
       "      <td>Class weight</td>\n",
       "      <td>1.000000</td>\n",
       "      <td>0.999929</td>\n",
       "      <td>0.999964</td>\n",
       "      <td>0.999994</td>\n",
       "      <td>0.999997</td>\n",
       "    </tr>\n",
       "    <tr>\n",
       "      <th>12</th>\n",
       "      <td>K Neighbors Classifier</td>\n",
       "      <td>No</td>\n",
       "      <td>0.965920</td>\n",
       "      <td>0.979114</td>\n",
       "      <td>0.972472</td>\n",
       "      <td>0.995206</td>\n",
       "      <td>0.998918</td>\n",
       "    </tr>\n",
       "    <tr>\n",
       "      <th>13</th>\n",
       "      <td>K Neighbors Classifier</td>\n",
       "      <td>Random oversampling</td>\n",
       "      <td>0.992870</td>\n",
       "      <td>0.929950</td>\n",
       "      <td>0.960381</td>\n",
       "      <td>0.992819</td>\n",
       "      <td>0.997750</td>\n",
       "    </tr>\n",
       "    <tr>\n",
       "      <th>14</th>\n",
       "      <td>K Neighbors Classifier</td>\n",
       "      <td>Smote oversampling</td>\n",
       "      <td>0.993013</td>\n",
       "      <td>0.931078</td>\n",
       "      <td>0.961049</td>\n",
       "      <td>0.992944</td>\n",
       "      <td>0.998276</td>\n",
       "    </tr>\n",
       "  </tbody>\n",
       "</table>\n",
       "</div>"
      ],
      "text/plain": [
       "                       model                     resampling    recall  \\\n",
       "0       logistict Regression                             No  0.554328   \n",
       "1       logistict Regression            Random oversampling  0.886140   \n",
       "2       logistict Regression             Smote oversampling  0.886283   \n",
       "3       logistict Regression  Borderline smote oversampling  0.929488   \n",
       "4       logistict Regression            Adasyn oversampling  0.927991   \n",
       "5       logistict Regression                   Class weight  0.886497   \n",
       "6   Decision Tree Classifier                             No  1.000000   \n",
       "7   Decision Tree Classifier            Random oversampling  1.000000   \n",
       "8   Decision Tree Classifier             Smote oversampling  1.000000   \n",
       "9   Decision Tree Classifier  Borderline smote oversampling  1.000000   \n",
       "10  Decision Tree Classifier            Adasyn oversampling  1.000000   \n",
       "11  Decision Tree Classifier                   Class weight  1.000000   \n",
       "12    K Neighbors Classifier                             No  0.965920   \n",
       "13    K Neighbors Classifier            Random oversampling  0.992870   \n",
       "14    K Neighbors Classifier             Smote oversampling  0.993013   \n",
       "\n",
       "    precision        f1  accuracy       auc  \n",
       "0    0.797191  0.653938  0.948569  0.941450  \n",
       "1    0.361035  0.513044  0.852537  0.943272  \n",
       "2    0.360810  0.512841  0.852394  0.943270  \n",
       "3    0.298945  0.452391  0.802737  0.940498  \n",
       "4    0.304368  0.458391  0.807763  0.941535  \n",
       "5    0.360793  0.512859  0.852369  0.943262  \n",
       "6    0.999929  0.999964  0.999994  0.999997  \n",
       "7    0.999929  0.999964  0.999994  0.999997  \n",
       "8    0.999786  0.999893  0.999981  0.999990  \n",
       "9    0.999288  0.999644  0.999938  0.999966  \n",
       "10   0.999145  0.999572  0.999925  0.999959  \n",
       "11   0.999929  0.999964  0.999994  0.999997  \n",
       "12   0.979114  0.972472  0.995206  0.998918  \n",
       "13   0.929950  0.960381  0.992819  0.997750  \n",
       "14   0.931078  0.961049  0.992944  0.998276  "
      ]
     },
     "execution_count": 41,
     "metadata": {},
     "output_type": "execute_result"
    }
   ],
   "source": [
    "clf_knn = KNeighborsClassifier(n_jobs=-1)\n",
    "clf_knn.fit(X_train_smote, y_train_smote)\n",
    "\n",
    "y_val_pred = clf_knn.predict(X_val)\n",
    "y_val_pred_prob = clf_knn.predict_proba(X_val)\n",
    "\n",
    "score[\"model\"].append(\"K Neighbors Classifier\")\n",
    "score[\"resampling\"].append(\"Smote oversampling\")\n",
    "score[\"recall\"].append(recall_score(y_val, y_val_pred))\n",
    "score[\"precision\"].append(precision_score(y_val, y_val_pred))\n",
    "score[\"f1\"].append(f1_score(y_val, y_val_pred))\n",
    "score[\"accuracy\"].append(accuracy_score(y_val, y_val_pred))\n",
    "score[\"auc\"].append(roc_auc_score(y_val, y_val_pred_prob[:, 1]))\n",
    "\n",
    "pd.DataFrame.from_dict(score)"
   ]
  },
  {
   "cell_type": "markdown",
   "id": "08d00bd2",
   "metadata": {
    "_cell_guid": "457e8ef6-811f-4deb-bba1-3750c680decc",
    "_uuid": "a4ccdc35-b269-4afc-99a4-b47a3cace298",
    "papermill": {
     "duration": 0.030063,
     "end_time": "2023-04-08T20:06:19.280904",
     "exception": false,
     "start_time": "2023-04-08T20:06:19.250841",
     "status": "completed"
    },
    "tags": []
   },
   "source": [
    "Borderline Smote"
   ]
  },
  {
   "cell_type": "code",
   "execution_count": 42,
   "id": "7cc7a4ca",
   "metadata": {
    "_cell_guid": "9d2f39af-8f11-4218-9f21-f49b5927585b",
    "_uuid": "7e953549-d4d6-4993-a592-d63da6c8be44",
    "collapsed": false,
    "execution": {
     "iopub.execute_input": "2023-04-08T20:06:19.343874Z",
     "iopub.status.busy": "2023-04-08T20:06:19.343433Z",
     "iopub.status.idle": "2023-04-08T20:06:36.510215Z",
     "shell.execute_reply": "2023-04-08T20:06:36.509146Z"
    },
    "jupyter": {
     "outputs_hidden": false
    },
    "papermill": {
     "duration": 17.201338,
     "end_time": "2023-04-08T20:06:36.512774",
     "exception": false,
     "start_time": "2023-04-08T20:06:19.311436",
     "status": "completed"
    },
    "tags": []
   },
   "outputs": [
    {
     "data": {
      "text/html": [
       "<div>\n",
       "<style scoped>\n",
       "    .dataframe tbody tr th:only-of-type {\n",
       "        vertical-align: middle;\n",
       "    }\n",
       "\n",
       "    .dataframe tbody tr th {\n",
       "        vertical-align: top;\n",
       "    }\n",
       "\n",
       "    .dataframe thead th {\n",
       "        text-align: right;\n",
       "    }\n",
       "</style>\n",
       "<table border=\"1\" class=\"dataframe\">\n",
       "  <thead>\n",
       "    <tr style=\"text-align: right;\">\n",
       "      <th></th>\n",
       "      <th>model</th>\n",
       "      <th>resampling</th>\n",
       "      <th>recall</th>\n",
       "      <th>precision</th>\n",
       "      <th>f1</th>\n",
       "      <th>accuracy</th>\n",
       "      <th>auc</th>\n",
       "    </tr>\n",
       "  </thead>\n",
       "  <tbody>\n",
       "    <tr>\n",
       "      <th>0</th>\n",
       "      <td>logistict Regression</td>\n",
       "      <td>No</td>\n",
       "      <td>0.554328</td>\n",
       "      <td>0.797191</td>\n",
       "      <td>0.653938</td>\n",
       "      <td>0.948569</td>\n",
       "      <td>0.941450</td>\n",
       "    </tr>\n",
       "    <tr>\n",
       "      <th>1</th>\n",
       "      <td>logistict Regression</td>\n",
       "      <td>Random oversampling</td>\n",
       "      <td>0.886140</td>\n",
       "      <td>0.361035</td>\n",
       "      <td>0.513044</td>\n",
       "      <td>0.852537</td>\n",
       "      <td>0.943272</td>\n",
       "    </tr>\n",
       "    <tr>\n",
       "      <th>2</th>\n",
       "      <td>logistict Regression</td>\n",
       "      <td>Smote oversampling</td>\n",
       "      <td>0.886283</td>\n",
       "      <td>0.360810</td>\n",
       "      <td>0.512841</td>\n",
       "      <td>0.852394</td>\n",
       "      <td>0.943270</td>\n",
       "    </tr>\n",
       "    <tr>\n",
       "      <th>3</th>\n",
       "      <td>logistict Regression</td>\n",
       "      <td>Borderline smote oversampling</td>\n",
       "      <td>0.929488</td>\n",
       "      <td>0.298945</td>\n",
       "      <td>0.452391</td>\n",
       "      <td>0.802737</td>\n",
       "      <td>0.940498</td>\n",
       "    </tr>\n",
       "    <tr>\n",
       "      <th>4</th>\n",
       "      <td>logistict Regression</td>\n",
       "      <td>Adasyn oversampling</td>\n",
       "      <td>0.927991</td>\n",
       "      <td>0.304368</td>\n",
       "      <td>0.458391</td>\n",
       "      <td>0.807763</td>\n",
       "      <td>0.941535</td>\n",
       "    </tr>\n",
       "    <tr>\n",
       "      <th>5</th>\n",
       "      <td>logistict Regression</td>\n",
       "      <td>Class weight</td>\n",
       "      <td>0.886497</td>\n",
       "      <td>0.360793</td>\n",
       "      <td>0.512859</td>\n",
       "      <td>0.852369</td>\n",
       "      <td>0.943262</td>\n",
       "    </tr>\n",
       "    <tr>\n",
       "      <th>6</th>\n",
       "      <td>Decision Tree Classifier</td>\n",
       "      <td>No</td>\n",
       "      <td>1.000000</td>\n",
       "      <td>0.999929</td>\n",
       "      <td>0.999964</td>\n",
       "      <td>0.999994</td>\n",
       "      <td>0.999997</td>\n",
       "    </tr>\n",
       "    <tr>\n",
       "      <th>7</th>\n",
       "      <td>Decision Tree Classifier</td>\n",
       "      <td>Random oversampling</td>\n",
       "      <td>1.000000</td>\n",
       "      <td>0.999929</td>\n",
       "      <td>0.999964</td>\n",
       "      <td>0.999994</td>\n",
       "      <td>0.999997</td>\n",
       "    </tr>\n",
       "    <tr>\n",
       "      <th>8</th>\n",
       "      <td>Decision Tree Classifier</td>\n",
       "      <td>Smote oversampling</td>\n",
       "      <td>1.000000</td>\n",
       "      <td>0.999786</td>\n",
       "      <td>0.999893</td>\n",
       "      <td>0.999981</td>\n",
       "      <td>0.999990</td>\n",
       "    </tr>\n",
       "    <tr>\n",
       "      <th>9</th>\n",
       "      <td>Decision Tree Classifier</td>\n",
       "      <td>Borderline smote oversampling</td>\n",
       "      <td>1.000000</td>\n",
       "      <td>0.999288</td>\n",
       "      <td>0.999644</td>\n",
       "      <td>0.999938</td>\n",
       "      <td>0.999966</td>\n",
       "    </tr>\n",
       "    <tr>\n",
       "      <th>10</th>\n",
       "      <td>Decision Tree Classifier</td>\n",
       "      <td>Adasyn oversampling</td>\n",
       "      <td>1.000000</td>\n",
       "      <td>0.999145</td>\n",
       "      <td>0.999572</td>\n",
       "      <td>0.999925</td>\n",
       "      <td>0.999959</td>\n",
       "    </tr>\n",
       "    <tr>\n",
       "      <th>11</th>\n",
       "      <td>Decision Tree Classifier</td>\n",
       "      <td>Class weight</td>\n",
       "      <td>1.000000</td>\n",
       "      <td>0.999929</td>\n",
       "      <td>0.999964</td>\n",
       "      <td>0.999994</td>\n",
       "      <td>0.999997</td>\n",
       "    </tr>\n",
       "    <tr>\n",
       "      <th>12</th>\n",
       "      <td>K Neighbors Classifier</td>\n",
       "      <td>No</td>\n",
       "      <td>0.965920</td>\n",
       "      <td>0.979114</td>\n",
       "      <td>0.972472</td>\n",
       "      <td>0.995206</td>\n",
       "      <td>0.998918</td>\n",
       "    </tr>\n",
       "    <tr>\n",
       "      <th>13</th>\n",
       "      <td>K Neighbors Classifier</td>\n",
       "      <td>Random oversampling</td>\n",
       "      <td>0.992870</td>\n",
       "      <td>0.929950</td>\n",
       "      <td>0.960381</td>\n",
       "      <td>0.992819</td>\n",
       "      <td>0.997750</td>\n",
       "    </tr>\n",
       "    <tr>\n",
       "      <th>14</th>\n",
       "      <td>K Neighbors Classifier</td>\n",
       "      <td>Smote oversampling</td>\n",
       "      <td>0.993013</td>\n",
       "      <td>0.931078</td>\n",
       "      <td>0.961049</td>\n",
       "      <td>0.992944</td>\n",
       "      <td>0.998276</td>\n",
       "    </tr>\n",
       "    <tr>\n",
       "      <th>15</th>\n",
       "      <td>K Neighbors Classifier</td>\n",
       "      <td>Borderline smote oversampling</td>\n",
       "      <td>0.990731</td>\n",
       "      <td>0.930868</td>\n",
       "      <td>0.959867</td>\n",
       "      <td>0.992738</td>\n",
       "      <td>0.998047</td>\n",
       "    </tr>\n",
       "  </tbody>\n",
       "</table>\n",
       "</div>"
      ],
      "text/plain": [
       "                       model                     resampling    recall  \\\n",
       "0       logistict Regression                             No  0.554328   \n",
       "1       logistict Regression            Random oversampling  0.886140   \n",
       "2       logistict Regression             Smote oversampling  0.886283   \n",
       "3       logistict Regression  Borderline smote oversampling  0.929488   \n",
       "4       logistict Regression            Adasyn oversampling  0.927991   \n",
       "5       logistict Regression                   Class weight  0.886497   \n",
       "6   Decision Tree Classifier                             No  1.000000   \n",
       "7   Decision Tree Classifier            Random oversampling  1.000000   \n",
       "8   Decision Tree Classifier             Smote oversampling  1.000000   \n",
       "9   Decision Tree Classifier  Borderline smote oversampling  1.000000   \n",
       "10  Decision Tree Classifier            Adasyn oversampling  1.000000   \n",
       "11  Decision Tree Classifier                   Class weight  1.000000   \n",
       "12    K Neighbors Classifier                             No  0.965920   \n",
       "13    K Neighbors Classifier            Random oversampling  0.992870   \n",
       "14    K Neighbors Classifier             Smote oversampling  0.993013   \n",
       "15    K Neighbors Classifier  Borderline smote oversampling  0.990731   \n",
       "\n",
       "    precision        f1  accuracy       auc  \n",
       "0    0.797191  0.653938  0.948569  0.941450  \n",
       "1    0.361035  0.513044  0.852537  0.943272  \n",
       "2    0.360810  0.512841  0.852394  0.943270  \n",
       "3    0.298945  0.452391  0.802737  0.940498  \n",
       "4    0.304368  0.458391  0.807763  0.941535  \n",
       "5    0.360793  0.512859  0.852369  0.943262  \n",
       "6    0.999929  0.999964  0.999994  0.999997  \n",
       "7    0.999929  0.999964  0.999994  0.999997  \n",
       "8    0.999786  0.999893  0.999981  0.999990  \n",
       "9    0.999288  0.999644  0.999938  0.999966  \n",
       "10   0.999145  0.999572  0.999925  0.999959  \n",
       "11   0.999929  0.999964  0.999994  0.999997  \n",
       "12   0.979114  0.972472  0.995206  0.998918  \n",
       "13   0.929950  0.960381  0.992819  0.997750  \n",
       "14   0.931078  0.961049  0.992944  0.998276  \n",
       "15   0.930868  0.959867  0.992738  0.998047  "
      ]
     },
     "execution_count": 42,
     "metadata": {},
     "output_type": "execute_result"
    }
   ],
   "source": [
    "clf_knn = KNeighborsClassifier(n_jobs=-1)\n",
    "clf_knn.fit(X_train_bord, y_train_bord)\n",
    "\n",
    "y_val_pred = clf_knn.predict(X_val)\n",
    "y_val_pred_prob = clf_knn.predict_proba(X_val)\n",
    "\n",
    "score[\"model\"].append(\"K Neighbors Classifier\")\n",
    "score[\"resampling\"].append(\"Borderline smote oversampling\")\n",
    "score[\"recall\"].append(recall_score(y_val, y_val_pred))\n",
    "score[\"precision\"].append(precision_score(y_val, y_val_pred))\n",
    "score[\"f1\"].append(f1_score(y_val, y_val_pred))\n",
    "score[\"accuracy\"].append(accuracy_score(y_val, y_val_pred))\n",
    "score[\"auc\"].append(roc_auc_score(y_val, y_val_pred_prob[:, 1]))\n",
    "\n",
    "pd.DataFrame.from_dict(score)"
   ]
  },
  {
   "cell_type": "markdown",
   "id": "491d2bd9",
   "metadata": {
    "_cell_guid": "a3d47045-3887-4c2e-9e5d-a09e2adf0627",
    "_uuid": "227a4721-364d-43c6-9c7c-38edec6824a9",
    "papermill": {
     "duration": 0.030562,
     "end_time": "2023-04-08T20:06:36.574547",
     "exception": false,
     "start_time": "2023-04-08T20:06:36.543985",
     "status": "completed"
    },
    "tags": []
   },
   "source": [
    "Adasyn"
   ]
  },
  {
   "cell_type": "code",
   "execution_count": 43,
   "id": "a4a73286",
   "metadata": {
    "_cell_guid": "d56336a1-51bd-422b-8a51-cffbe3233cac",
    "_uuid": "5552233f-6b32-4e97-b404-6096d1cdb0c8",
    "collapsed": false,
    "execution": {
     "iopub.execute_input": "2023-04-08T20:06:36.637504Z",
     "iopub.status.busy": "2023-04-08T20:06:36.637086Z",
     "iopub.status.idle": "2023-04-08T20:06:52.878483Z",
     "shell.execute_reply": "2023-04-08T20:06:52.877283Z"
    },
    "jupyter": {
     "outputs_hidden": false
    },
    "papermill": {
     "duration": 16.275898,
     "end_time": "2023-04-08T20:06:52.881008",
     "exception": false,
     "start_time": "2023-04-08T20:06:36.605110",
     "status": "completed"
    },
    "tags": []
   },
   "outputs": [
    {
     "data": {
      "text/html": [
       "<div>\n",
       "<style scoped>\n",
       "    .dataframe tbody tr th:only-of-type {\n",
       "        vertical-align: middle;\n",
       "    }\n",
       "\n",
       "    .dataframe tbody tr th {\n",
       "        vertical-align: top;\n",
       "    }\n",
       "\n",
       "    .dataframe thead th {\n",
       "        text-align: right;\n",
       "    }\n",
       "</style>\n",
       "<table border=\"1\" class=\"dataframe\">\n",
       "  <thead>\n",
       "    <tr style=\"text-align: right;\">\n",
       "      <th></th>\n",
       "      <th>model</th>\n",
       "      <th>resampling</th>\n",
       "      <th>recall</th>\n",
       "      <th>precision</th>\n",
       "      <th>f1</th>\n",
       "      <th>accuracy</th>\n",
       "      <th>auc</th>\n",
       "    </tr>\n",
       "  </thead>\n",
       "  <tbody>\n",
       "    <tr>\n",
       "      <th>0</th>\n",
       "      <td>logistict Regression</td>\n",
       "      <td>No</td>\n",
       "      <td>0.554328</td>\n",
       "      <td>0.797191</td>\n",
       "      <td>0.653938</td>\n",
       "      <td>0.948569</td>\n",
       "      <td>0.941450</td>\n",
       "    </tr>\n",
       "    <tr>\n",
       "      <th>1</th>\n",
       "      <td>logistict Regression</td>\n",
       "      <td>Random oversampling</td>\n",
       "      <td>0.886140</td>\n",
       "      <td>0.361035</td>\n",
       "      <td>0.513044</td>\n",
       "      <td>0.852537</td>\n",
       "      <td>0.943272</td>\n",
       "    </tr>\n",
       "    <tr>\n",
       "      <th>2</th>\n",
       "      <td>logistict Regression</td>\n",
       "      <td>Smote oversampling</td>\n",
       "      <td>0.886283</td>\n",
       "      <td>0.360810</td>\n",
       "      <td>0.512841</td>\n",
       "      <td>0.852394</td>\n",
       "      <td>0.943270</td>\n",
       "    </tr>\n",
       "    <tr>\n",
       "      <th>3</th>\n",
       "      <td>logistict Regression</td>\n",
       "      <td>Borderline smote oversampling</td>\n",
       "      <td>0.929488</td>\n",
       "      <td>0.298945</td>\n",
       "      <td>0.452391</td>\n",
       "      <td>0.802737</td>\n",
       "      <td>0.940498</td>\n",
       "    </tr>\n",
       "    <tr>\n",
       "      <th>4</th>\n",
       "      <td>logistict Regression</td>\n",
       "      <td>Adasyn oversampling</td>\n",
       "      <td>0.927991</td>\n",
       "      <td>0.304368</td>\n",
       "      <td>0.458391</td>\n",
       "      <td>0.807763</td>\n",
       "      <td>0.941535</td>\n",
       "    </tr>\n",
       "    <tr>\n",
       "      <th>5</th>\n",
       "      <td>logistict Regression</td>\n",
       "      <td>Class weight</td>\n",
       "      <td>0.886497</td>\n",
       "      <td>0.360793</td>\n",
       "      <td>0.512859</td>\n",
       "      <td>0.852369</td>\n",
       "      <td>0.943262</td>\n",
       "    </tr>\n",
       "    <tr>\n",
       "      <th>6</th>\n",
       "      <td>Decision Tree Classifier</td>\n",
       "      <td>No</td>\n",
       "      <td>1.000000</td>\n",
       "      <td>0.999929</td>\n",
       "      <td>0.999964</td>\n",
       "      <td>0.999994</td>\n",
       "      <td>0.999997</td>\n",
       "    </tr>\n",
       "    <tr>\n",
       "      <th>7</th>\n",
       "      <td>Decision Tree Classifier</td>\n",
       "      <td>Random oversampling</td>\n",
       "      <td>1.000000</td>\n",
       "      <td>0.999929</td>\n",
       "      <td>0.999964</td>\n",
       "      <td>0.999994</td>\n",
       "      <td>0.999997</td>\n",
       "    </tr>\n",
       "    <tr>\n",
       "      <th>8</th>\n",
       "      <td>Decision Tree Classifier</td>\n",
       "      <td>Smote oversampling</td>\n",
       "      <td>1.000000</td>\n",
       "      <td>0.999786</td>\n",
       "      <td>0.999893</td>\n",
       "      <td>0.999981</td>\n",
       "      <td>0.999990</td>\n",
       "    </tr>\n",
       "    <tr>\n",
       "      <th>9</th>\n",
       "      <td>Decision Tree Classifier</td>\n",
       "      <td>Borderline smote oversampling</td>\n",
       "      <td>1.000000</td>\n",
       "      <td>0.999288</td>\n",
       "      <td>0.999644</td>\n",
       "      <td>0.999938</td>\n",
       "      <td>0.999966</td>\n",
       "    </tr>\n",
       "    <tr>\n",
       "      <th>10</th>\n",
       "      <td>Decision Tree Classifier</td>\n",
       "      <td>Adasyn oversampling</td>\n",
       "      <td>1.000000</td>\n",
       "      <td>0.999145</td>\n",
       "      <td>0.999572</td>\n",
       "      <td>0.999925</td>\n",
       "      <td>0.999959</td>\n",
       "    </tr>\n",
       "    <tr>\n",
       "      <th>11</th>\n",
       "      <td>Decision Tree Classifier</td>\n",
       "      <td>Class weight</td>\n",
       "      <td>1.000000</td>\n",
       "      <td>0.999929</td>\n",
       "      <td>0.999964</td>\n",
       "      <td>0.999994</td>\n",
       "      <td>0.999997</td>\n",
       "    </tr>\n",
       "    <tr>\n",
       "      <th>12</th>\n",
       "      <td>K Neighbors Classifier</td>\n",
       "      <td>No</td>\n",
       "      <td>0.965920</td>\n",
       "      <td>0.979114</td>\n",
       "      <td>0.972472</td>\n",
       "      <td>0.995206</td>\n",
       "      <td>0.998918</td>\n",
       "    </tr>\n",
       "    <tr>\n",
       "      <th>13</th>\n",
       "      <td>K Neighbors Classifier</td>\n",
       "      <td>Random oversampling</td>\n",
       "      <td>0.992870</td>\n",
       "      <td>0.929950</td>\n",
       "      <td>0.960381</td>\n",
       "      <td>0.992819</td>\n",
       "      <td>0.997750</td>\n",
       "    </tr>\n",
       "    <tr>\n",
       "      <th>14</th>\n",
       "      <td>K Neighbors Classifier</td>\n",
       "      <td>Smote oversampling</td>\n",
       "      <td>0.993013</td>\n",
       "      <td>0.931078</td>\n",
       "      <td>0.961049</td>\n",
       "      <td>0.992944</td>\n",
       "      <td>0.998276</td>\n",
       "    </tr>\n",
       "    <tr>\n",
       "      <th>15</th>\n",
       "      <td>K Neighbors Classifier</td>\n",
       "      <td>Borderline smote oversampling</td>\n",
       "      <td>0.990731</td>\n",
       "      <td>0.930868</td>\n",
       "      <td>0.959867</td>\n",
       "      <td>0.992738</td>\n",
       "      <td>0.998047</td>\n",
       "    </tr>\n",
       "    <tr>\n",
       "      <th>16</th>\n",
       "      <td>K Neighbors Classifier</td>\n",
       "      <td>Adasyn oversampling</td>\n",
       "      <td>0.995152</td>\n",
       "      <td>0.920530</td>\n",
       "      <td>0.956388</td>\n",
       "      <td>0.992044</td>\n",
       "      <td>0.997930</td>\n",
       "    </tr>\n",
       "  </tbody>\n",
       "</table>\n",
       "</div>"
      ],
      "text/plain": [
       "                       model                     resampling    recall  \\\n",
       "0       logistict Regression                             No  0.554328   \n",
       "1       logistict Regression            Random oversampling  0.886140   \n",
       "2       logistict Regression             Smote oversampling  0.886283   \n",
       "3       logistict Regression  Borderline smote oversampling  0.929488   \n",
       "4       logistict Regression            Adasyn oversampling  0.927991   \n",
       "5       logistict Regression                   Class weight  0.886497   \n",
       "6   Decision Tree Classifier                             No  1.000000   \n",
       "7   Decision Tree Classifier            Random oversampling  1.000000   \n",
       "8   Decision Tree Classifier             Smote oversampling  1.000000   \n",
       "9   Decision Tree Classifier  Borderline smote oversampling  1.000000   \n",
       "10  Decision Tree Classifier            Adasyn oversampling  1.000000   \n",
       "11  Decision Tree Classifier                   Class weight  1.000000   \n",
       "12    K Neighbors Classifier                             No  0.965920   \n",
       "13    K Neighbors Classifier            Random oversampling  0.992870   \n",
       "14    K Neighbors Classifier             Smote oversampling  0.993013   \n",
       "15    K Neighbors Classifier  Borderline smote oversampling  0.990731   \n",
       "16    K Neighbors Classifier            Adasyn oversampling  0.995152   \n",
       "\n",
       "    precision        f1  accuracy       auc  \n",
       "0    0.797191  0.653938  0.948569  0.941450  \n",
       "1    0.361035  0.513044  0.852537  0.943272  \n",
       "2    0.360810  0.512841  0.852394  0.943270  \n",
       "3    0.298945  0.452391  0.802737  0.940498  \n",
       "4    0.304368  0.458391  0.807763  0.941535  \n",
       "5    0.360793  0.512859  0.852369  0.943262  \n",
       "6    0.999929  0.999964  0.999994  0.999997  \n",
       "7    0.999929  0.999964  0.999994  0.999997  \n",
       "8    0.999786  0.999893  0.999981  0.999990  \n",
       "9    0.999288  0.999644  0.999938  0.999966  \n",
       "10   0.999145  0.999572  0.999925  0.999959  \n",
       "11   0.999929  0.999964  0.999994  0.999997  \n",
       "12   0.979114  0.972472  0.995206  0.998918  \n",
       "13   0.929950  0.960381  0.992819  0.997750  \n",
       "14   0.931078  0.961049  0.992944  0.998276  \n",
       "15   0.930868  0.959867  0.992738  0.998047  \n",
       "16   0.920530  0.956388  0.992044  0.997930  "
      ]
     },
     "execution_count": 43,
     "metadata": {},
     "output_type": "execute_result"
    }
   ],
   "source": [
    "clf_knn = KNeighborsClassifier(n_jobs=-1)\n",
    "clf_knn.fit(X_train_ada, y_train_ada)\n",
    "\n",
    "y_val_pred = clf_knn.predict(X_val)\n",
    "y_val_pred_prob = clf_knn.predict_proba(X_val)\n",
    "\n",
    "score[\"model\"].append(\"K Neighbors Classifier\")\n",
    "score[\"resampling\"].append(\"Adasyn oversampling\")\n",
    "score[\"recall\"].append(recall_score(y_val, y_val_pred))\n",
    "score[\"precision\"].append(precision_score(y_val, y_val_pred))\n",
    "score[\"f1\"].append(f1_score(y_val, y_val_pred))\n",
    "score[\"accuracy\"].append(accuracy_score(y_val, y_val_pred))\n",
    "score[\"auc\"].append(roc_auc_score(y_val, y_val_pred_prob[:, 1]))\n",
    "\n",
    "pd.DataFrame.from_dict(score)"
   ]
  },
  {
   "cell_type": "code",
   "execution_count": 44,
   "id": "e8f18e6d",
   "metadata": {
    "_cell_guid": "82020e2c-65e5-4174-a452-d9e42640b1d0",
    "_uuid": "54456864-700c-47f3-a3b3-87439a9c07bf",
    "collapsed": false,
    "execution": {
     "iopub.execute_input": "2023-04-08T20:06:52.946234Z",
     "iopub.status.busy": "2023-04-08T20:06:52.944923Z",
     "iopub.status.idle": "2023-04-08T20:06:52.950901Z",
     "shell.execute_reply": "2023-04-08T20:06:52.950009Z"
    },
    "jupyter": {
     "outputs_hidden": false
    },
    "papermill": {
     "duration": 0.041004,
     "end_time": "2023-04-08T20:06:52.953079",
     "exception": false,
     "start_time": "2023-04-08T20:06:52.912075",
     "status": "completed"
    },
    "tags": []
   },
   "outputs": [],
   "source": [
    "df_score = pd.DataFrame.from_dict(score)"
   ]
  },
  {
   "cell_type": "markdown",
   "id": "3f541fb6",
   "metadata": {
    "_cell_guid": "850327e5-08ae-4979-8b4b-e7674672f341",
    "_uuid": "223fdafe-7110-4140-9034-e0078d824fa5",
    "papermill": {
     "duration": 0.033518,
     "end_time": "2023-04-08T20:06:53.024622",
     "exception": false,
     "start_time": "2023-04-08T20:06:52.991104",
     "status": "completed"
    },
    "tags": []
   },
   "source": [
    "# Conclusion"
   ]
  },
  {
   "cell_type": "code",
   "execution_count": 45,
   "id": "47d62fb9",
   "metadata": {
    "_cell_guid": "e4f043ee-e1ed-4cdf-b62b-3e68a8668df4",
    "_uuid": "ed76a176-296a-4c8a-b6b5-444c93a5558e",
    "collapsed": false,
    "execution": {
     "iopub.execute_input": "2023-04-08T20:06:53.089607Z",
     "iopub.status.busy": "2023-04-08T20:06:53.088585Z",
     "iopub.status.idle": "2023-04-08T20:06:53.135338Z",
     "shell.execute_reply": "2023-04-08T20:06:53.134416Z"
    },
    "jupyter": {
     "outputs_hidden": false
    },
    "papermill": {
     "duration": 0.082367,
     "end_time": "2023-04-08T20:06:53.138042",
     "exception": false,
     "start_time": "2023-04-08T20:06:53.055675",
     "status": "completed"
    },
    "tags": []
   },
   "outputs": [
    {
     "data": {
      "text/html": [
       "<div>\n",
       "<style scoped>\n",
       "    .dataframe tbody tr th:only-of-type {\n",
       "        vertical-align: middle;\n",
       "    }\n",
       "\n",
       "    .dataframe tbody tr th {\n",
       "        vertical-align: top;\n",
       "    }\n",
       "\n",
       "    .dataframe thead th {\n",
       "        text-align: right;\n",
       "    }\n",
       "</style>\n",
       "<table border=\"1\" class=\"dataframe\">\n",
       "  <thead>\n",
       "    <tr style=\"text-align: right;\">\n",
       "      <th></th>\n",
       "      <th>model</th>\n",
       "      <th>resampling</th>\n",
       "    </tr>\n",
       "  </thead>\n",
       "  <tbody>\n",
       "    <tr>\n",
       "      <th>6</th>\n",
       "      <td>Decision Tree Classifier</td>\n",
       "      <td>No</td>\n",
       "    </tr>\n",
       "    <tr>\n",
       "      <th>7</th>\n",
       "      <td>Decision Tree Classifier</td>\n",
       "      <td>Random oversampling</td>\n",
       "    </tr>\n",
       "    <tr>\n",
       "      <th>8</th>\n",
       "      <td>Decision Tree Classifier</td>\n",
       "      <td>Smote oversampling</td>\n",
       "    </tr>\n",
       "    <tr>\n",
       "      <th>9</th>\n",
       "      <td>Decision Tree Classifier</td>\n",
       "      <td>Borderline smote oversampling</td>\n",
       "    </tr>\n",
       "    <tr>\n",
       "      <th>10</th>\n",
       "      <td>Decision Tree Classifier</td>\n",
       "      <td>Adasyn oversampling</td>\n",
       "    </tr>\n",
       "    <tr>\n",
       "      <th>11</th>\n",
       "      <td>Decision Tree Classifier</td>\n",
       "      <td>Class weight</td>\n",
       "    </tr>\n",
       "  </tbody>\n",
       "</table>\n",
       "</div>"
      ],
      "text/plain": [
       "                       model                     resampling\n",
       "6   Decision Tree Classifier                             No\n",
       "7   Decision Tree Classifier            Random oversampling\n",
       "8   Decision Tree Classifier             Smote oversampling\n",
       "9   Decision Tree Classifier  Borderline smote oversampling\n",
       "10  Decision Tree Classifier            Adasyn oversampling\n",
       "11  Decision Tree Classifier                   Class weight"
      ]
     },
     "metadata": {},
     "output_type": "display_data"
    },
    {
     "data": {
      "text/html": [
       "<div>\n",
       "<style scoped>\n",
       "    .dataframe tbody tr th:only-of-type {\n",
       "        vertical-align: middle;\n",
       "    }\n",
       "\n",
       "    .dataframe tbody tr th {\n",
       "        vertical-align: top;\n",
       "    }\n",
       "\n",
       "    .dataframe thead th {\n",
       "        text-align: right;\n",
       "    }\n",
       "</style>\n",
       "<table border=\"1\" class=\"dataframe\">\n",
       "  <thead>\n",
       "    <tr style=\"text-align: right;\">\n",
       "      <th></th>\n",
       "      <th>model</th>\n",
       "      <th>resampling</th>\n",
       "    </tr>\n",
       "  </thead>\n",
       "  <tbody>\n",
       "    <tr>\n",
       "      <th>6</th>\n",
       "      <td>Decision Tree Classifier</td>\n",
       "      <td>No</td>\n",
       "    </tr>\n",
       "    <tr>\n",
       "      <th>7</th>\n",
       "      <td>Decision Tree Classifier</td>\n",
       "      <td>Random oversampling</td>\n",
       "    </tr>\n",
       "    <tr>\n",
       "      <th>11</th>\n",
       "      <td>Decision Tree Classifier</td>\n",
       "      <td>Class weight</td>\n",
       "    </tr>\n",
       "  </tbody>\n",
       "</table>\n",
       "</div>"
      ],
      "text/plain": [
       "                       model           resampling\n",
       "6   Decision Tree Classifier                   No\n",
       "7   Decision Tree Classifier  Random oversampling\n",
       "11  Decision Tree Classifier         Class weight"
      ]
     },
     "metadata": {},
     "output_type": "display_data"
    },
    {
     "data": {
      "text/html": [
       "<div>\n",
       "<style scoped>\n",
       "    .dataframe tbody tr th:only-of-type {\n",
       "        vertical-align: middle;\n",
       "    }\n",
       "\n",
       "    .dataframe tbody tr th {\n",
       "        vertical-align: top;\n",
       "    }\n",
       "\n",
       "    .dataframe thead th {\n",
       "        text-align: right;\n",
       "    }\n",
       "</style>\n",
       "<table border=\"1\" class=\"dataframe\">\n",
       "  <thead>\n",
       "    <tr style=\"text-align: right;\">\n",
       "      <th></th>\n",
       "      <th>model</th>\n",
       "      <th>resampling</th>\n",
       "    </tr>\n",
       "  </thead>\n",
       "  <tbody>\n",
       "    <tr>\n",
       "      <th>6</th>\n",
       "      <td>Decision Tree Classifier</td>\n",
       "      <td>No</td>\n",
       "    </tr>\n",
       "    <tr>\n",
       "      <th>7</th>\n",
       "      <td>Decision Tree Classifier</td>\n",
       "      <td>Random oversampling</td>\n",
       "    </tr>\n",
       "    <tr>\n",
       "      <th>11</th>\n",
       "      <td>Decision Tree Classifier</td>\n",
       "      <td>Class weight</td>\n",
       "    </tr>\n",
       "  </tbody>\n",
       "</table>\n",
       "</div>"
      ],
      "text/plain": [
       "                       model           resampling\n",
       "6   Decision Tree Classifier                   No\n",
       "7   Decision Tree Classifier  Random oversampling\n",
       "11  Decision Tree Classifier         Class weight"
      ]
     },
     "metadata": {},
     "output_type": "display_data"
    },
    {
     "data": {
      "text/html": [
       "<div>\n",
       "<style scoped>\n",
       "    .dataframe tbody tr th:only-of-type {\n",
       "        vertical-align: middle;\n",
       "    }\n",
       "\n",
       "    .dataframe tbody tr th {\n",
       "        vertical-align: top;\n",
       "    }\n",
       "\n",
       "    .dataframe thead th {\n",
       "        text-align: right;\n",
       "    }\n",
       "</style>\n",
       "<table border=\"1\" class=\"dataframe\">\n",
       "  <thead>\n",
       "    <tr style=\"text-align: right;\">\n",
       "      <th></th>\n",
       "      <th>model</th>\n",
       "      <th>resampling</th>\n",
       "    </tr>\n",
       "  </thead>\n",
       "  <tbody>\n",
       "    <tr>\n",
       "      <th>6</th>\n",
       "      <td>Decision Tree Classifier</td>\n",
       "      <td>No</td>\n",
       "    </tr>\n",
       "    <tr>\n",
       "      <th>7</th>\n",
       "      <td>Decision Tree Classifier</td>\n",
       "      <td>Random oversampling</td>\n",
       "    </tr>\n",
       "    <tr>\n",
       "      <th>11</th>\n",
       "      <td>Decision Tree Classifier</td>\n",
       "      <td>Class weight</td>\n",
       "    </tr>\n",
       "  </tbody>\n",
       "</table>\n",
       "</div>"
      ],
      "text/plain": [
       "                       model           resampling\n",
       "6   Decision Tree Classifier                   No\n",
       "7   Decision Tree Classifier  Random oversampling\n",
       "11  Decision Tree Classifier         Class weight"
      ]
     },
     "metadata": {},
     "output_type": "display_data"
    },
    {
     "data": {
      "text/html": [
       "<div>\n",
       "<style scoped>\n",
       "    .dataframe tbody tr th:only-of-type {\n",
       "        vertical-align: middle;\n",
       "    }\n",
       "\n",
       "    .dataframe tbody tr th {\n",
       "        vertical-align: top;\n",
       "    }\n",
       "\n",
       "    .dataframe thead th {\n",
       "        text-align: right;\n",
       "    }\n",
       "</style>\n",
       "<table border=\"1\" class=\"dataframe\">\n",
       "  <thead>\n",
       "    <tr style=\"text-align: right;\">\n",
       "      <th></th>\n",
       "      <th>model</th>\n",
       "      <th>resampling</th>\n",
       "    </tr>\n",
       "  </thead>\n",
       "  <tbody>\n",
       "    <tr>\n",
       "      <th>6</th>\n",
       "      <td>Decision Tree Classifier</td>\n",
       "      <td>No</td>\n",
       "    </tr>\n",
       "    <tr>\n",
       "      <th>7</th>\n",
       "      <td>Decision Tree Classifier</td>\n",
       "      <td>Random oversampling</td>\n",
       "    </tr>\n",
       "    <tr>\n",
       "      <th>11</th>\n",
       "      <td>Decision Tree Classifier</td>\n",
       "      <td>Class weight</td>\n",
       "    </tr>\n",
       "  </tbody>\n",
       "</table>\n",
       "</div>"
      ],
      "text/plain": [
       "                       model           resampling\n",
       "6   Decision Tree Classifier                   No\n",
       "7   Decision Tree Classifier  Random oversampling\n",
       "11  Decision Tree Classifier         Class weight"
      ]
     },
     "metadata": {},
     "output_type": "display_data"
    }
   ],
   "source": [
    "for col in df_score.columns[2:] :\n",
    "    display(df_score[df_score[col] == df_score[col].max()][[\"model\", \"resampling\"]])"
   ]
  },
  {
   "cell_type": "markdown",
   "id": "f72de81e",
   "metadata": {
    "_cell_guid": "682ffcd3-dcc7-41d4-aa11-54bc724c2be5",
    "_uuid": "7df47976-d870-411e-826e-97df55ab075f",
    "papermill": {
     "duration": 0.032117,
     "end_time": "2023-04-08T20:06:53.206889",
     "exception": false,
     "start_time": "2023-04-08T20:06:53.174772",
     "status": "completed"
    },
    "tags": []
   },
   "source": [
    "- Decision Tree Classifier มีประสิทธิภาพดีที่สุดในการตรวจจับรายการ fraud\n",
    "- class imbalanced ไม่มีผลต่อตัว model เพราะถึงจะไม่ทำ oversampling หรือใส่ weights ก็ได้ผลที่เหมือนกัน"
   ]
  },
  {
   "cell_type": "markdown",
   "id": "3de27cec",
   "metadata": {
    "_cell_guid": "f0b411c1-4c1d-42b4-b791-2c83a0e28b78",
    "_uuid": "c9b8f6aa-911f-46b6-a318-168a1afca734",
    "papermill": {
     "duration": 0.034355,
     "end_time": "2023-04-08T20:06:53.274837",
     "exception": false,
     "start_time": "2023-04-08T20:06:53.240482",
     "status": "completed"
    },
    "tags": []
   },
   "source": [
    "## Confirm in test set"
   ]
  },
  {
   "cell_type": "code",
   "execution_count": 46,
   "id": "3934116d",
   "metadata": {
    "_cell_guid": "77c81e8a-a17a-4a3e-9132-b063de1714f6",
    "_uuid": "a2a0d176-8104-4606-bf30-02dc1d2395b2",
    "collapsed": false,
    "execution": {
     "iopub.execute_input": "2023-04-08T20:06:53.340484Z",
     "iopub.status.busy": "2023-04-08T20:06:53.340101Z",
     "iopub.status.idle": "2023-04-08T20:06:55.981577Z",
     "shell.execute_reply": "2023-04-08T20:06:55.979874Z"
    },
    "jupyter": {
     "outputs_hidden": false
    },
    "papermill": {
     "duration": 2.677144,
     "end_time": "2023-04-08T20:06:55.983954",
     "exception": false,
     "start_time": "2023-04-08T20:06:53.306810",
     "status": "completed"
    },
    "tags": []
   },
   "outputs": [
    {
     "name": "stdout",
     "output_type": "stream",
     "text": [
      "              precision    recall  f1-score   support\n",
      "\n",
      "         0.0   0.999989  0.999995  0.999992    182509\n",
      "         1.0   0.999943  0.999886  0.999914     17491\n",
      "\n",
      "    accuracy                       0.999985    200000\n",
      "   macro avg   0.999966  0.999940  0.999953    200000\n",
      "weighted avg   0.999985  0.999985  0.999985    200000\n",
      "\n"
     ]
    }
   ],
   "source": [
    "clf_tree = DecisionTreeClassifier(class_weight=\"balanced\")\n",
    "clf_tree.fit(X_train, y_train)\n",
    "\n",
    "y_test_pred = clf_tree.predict(X_test)\n",
    "y_test_pred_prob = clf_tree.predict_proba(X_test)\n",
    "\n",
    "print(classification_report(y_test, y_test_pred, digits=6))"
   ]
  },
  {
   "cell_type": "code",
   "execution_count": 47,
   "id": "f1fccbc9",
   "metadata": {
    "_cell_guid": "59534ef4-2c91-47e5-851c-47c8100f79d0",
    "_uuid": "d1c83eeb-bbb7-47e3-944b-fd7dafaa7b06",
    "collapsed": false,
    "execution": {
     "iopub.execute_input": "2023-04-08T20:06:56.050043Z",
     "iopub.status.busy": "2023-04-08T20:06:56.049173Z",
     "iopub.status.idle": "2023-04-08T20:06:56.306807Z",
     "shell.execute_reply": "2023-04-08T20:06:56.305913Z"
    },
    "jupyter": {
     "outputs_hidden": false
    },
    "papermill": {
     "duration": 0.293539,
     "end_time": "2023-04-08T20:06:56.309319",
     "exception": false,
     "start_time": "2023-04-08T20:06:56.015780",
     "status": "completed"
    },
    "tags": []
   },
   "outputs": [
    {
     "data": {
      "image/png": "[encoded data removed]",
      "text/plain": [
       "<Figure size 640x480 with 1 Axes>"
      ]
     },
     "metadata": {},
     "output_type": "display_data"
    }
   ],
   "source": [
    "fpr, tpr, _ = roc_curve(y_test, y_test_pred_prob[:, 1])\n",
    "auc = roc_auc_score(y_test, y_test_pred_prob[:, 1])\n",
    "\n",
    "plt.plot(fpr, tpr)\n",
    "plt.plot([0, 1], [0, 1], linestyle='--')\n",
    "plt.xlabel('False Positive Rate')\n",
    "plt.ylabel('True Positive Rate')\n",
    "plt.title('ROC Curve (AUC = {:.6f})'.format(auc))\n",
    "plt.show()"
   ]
  },
  {
   "cell_type": "code",
   "execution_count": null,
   "id": "a56acba3",
   "metadata": {
    "_cell_guid": "4a13e0c7-00f5-4cc6-99a9-7e564a0192fe",
    "_uuid": "d7ac3396-9b93-48fe-afbd-01ce5dbbb117",
    "collapsed": false,
    "jupyter": {
     "outputs_hidden": false
    },
    "papermill": {
     "duration": 0.032508,
     "end_time": "2023-04-08T20:06:56.374356",
     "exception": false,
     "start_time": "2023-04-08T20:06:56.341848",
     "status": "completed"
    },
    "tags": []
   },
   "outputs": [],
   "source": []
  }
 ],
 "metadata": {
  "kernelspec": {
   "display_name": "Python 3",
   "language": "python",
   "name": "python3"
  },
  "language_info": {
   "codemirror_mode": {
    "name": "ipython",
    "version": 3
   },
   "file_extension": ".py",
   "mimetype": "text/x-python",
   "name": "python",
   "nbconvert_exporter": "python",
   "pygments_lexer": "ipython3",
   "version": "3.7.12"
  },
  "papermill": {
   "default_parameters": {},
   "duration": 183.685121,
   "end_time": "2023-04-08T20:06:59.029133",
   "environment_variables": {},
   "exception": null,
   "input_path": "__notebook__.ipynb",
   "output_path": "__notebook__.ipynb",
   "parameters": {},
   "start_time": "2023-04-08T20:03:55.344012",
   "version": "2.4.0"
  }
 },
 "nbformat": 4,
 "nbformat_minor": 5
}
